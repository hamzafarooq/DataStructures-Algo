{
  "nbformat": 4,
  "nbformat_minor": 0,
  "metadata": {
    "colab": {
      "name": "Leetcode.ipynb",
      "provenance": [],
      "toc_visible": true,
      "authorship_tag": "ABX9TyNMS3gnQ9SWre6xgv4gYykq",
      "include_colab_link": true
    },
    "kernelspec": {
      "name": "python3",
      "display_name": "Python 3"
    }
  },
  "cells": [
    {
      "cell_type": "markdown",
      "metadata": {
        "id": "view-in-github",
        "colab_type": "text"
      },
      "source": [
        "<a href=\"https://colab.research.google.com/github/hamzafarooq/DataStructures-Algo/blob/master/Leetcode.ipynb\" target=\"_parent\"><img src=\"https://colab.research.google.com/assets/colab-badge.svg\" alt=\"Open In Colab\"/></a>"
      ]
    },
    {
      "cell_type": "markdown",
      "metadata": {
        "id": "1QheBkzKU8Mc"
      },
      "source": [
        "#Easy [33]\n"
      ]
    },
    {
      "cell_type": "markdown",
      "metadata": {
        "id": "y52bBFElVSc9"
      },
      "source": [
        "## 415: Add Strings\n",
        "Given two non-negative integers num1 and num2 represented as string, return the sum of num1 and num2."
      ]
    },
    {
      "cell_type": "code",
      "metadata": {
        "id": "M4J86SiVU2_L"
      },
      "source": [
        "class Solution:\n",
        "    def addStrings(self, num1: str, num2: str) -> str:\n",
        "       \n",
        "        \n",
        "        sumofall= []\n",
        "        carry  = 0\n",
        "        for i in range(max(len(num1),len(num2))):\n",
        "            \n",
        "            \n",
        "            if i < len(num1):\n",
        "                a = num1[len(num1)-1-i]\n",
        "            else:\n",
        "                a = '0'\n",
        "                \n",
        "            if i < len(num2):\n",
        "                b = num2[len(num2)-1-i]    \n",
        "            else:\n",
        "                b = '0'\n",
        "             \n",
        "            temp = ord(a) - ord('0') + ord(b) - ord('0') + carry #10 + carry\n",
        "            \n",
        "            remainder = temp % 10   #0\n",
        "            carry = temp//10 #1\n",
        "            \n",
        "       \n",
        "            sumofall.extend(str(remainder))\n",
        "            \n",
        "        if carry == 1:\n",
        "            sumofall.extend(str(carry))\n",
        "               \n",
        "        sumofall = (\"\").join(sumofall)\n",
        "        return sumofall[::-1]"
      ],
      "execution_count": null,
      "outputs": []
    },
    {
      "cell_type": "code",
      "metadata": {
        "id": "284T7tdyU--U"
      },
      "source": [
        "a = Solution()"
      ],
      "execution_count": null,
      "outputs": []
    },
    {
      "cell_type": "code",
      "metadata": {
        "id": "EiQ3V7ciVJUD",
        "colab": {
          "base_uri": "https://localhost:8080/",
          "height": 35
        },
        "outputId": "238e91bc-f69d-4e6c-f524-4e1fa60bb201"
      },
      "source": [
        "a.addStrings('19990','2')"
      ],
      "execution_count": null,
      "outputs": [
        {
          "output_type": "execute_result",
          "data": {
            "application/vnd.google.colaboratory.intrinsic+json": {
              "type": "string"
            },
            "text/plain": [
              "'19992'"
            ]
          },
          "metadata": {
            "tags": []
          },
          "execution_count": 9
        }
      ]
    },
    {
      "cell_type": "markdown",
      "metadata": {
        "id": "cfg58TuYR_a_"
      },
      "source": [
        "## 1: Two Sum\n",
        "Given an array of integers nums and an integer target, return indices of the two numbers such that they add up to target.\n",
        "\n",
        "You may assume that each input would have exactly one solution, and you may not use the same element twice.\n",
        "\n",
        "You can return the answer in any order."
      ]
    },
    {
      "cell_type": "code",
      "metadata": {
        "id": "kBnCP5f5SFyi"
      },
      "source": [
        "def twosum(nums,target):\n",
        "  h={}\n",
        "  for index,num in enumerate(nums):\n",
        "    diff=target-num\n",
        "    if diff in h and index!=h[diff]:\n",
        "      return(h[diff],index)\n",
        "    else:\n",
        "      h[num]=index\n",
        "\n",
        "    "
      ],
      "execution_count": null,
      "outputs": []
    },
    {
      "cell_type": "markdown",
      "metadata": {
        "id": "HBILxUdLV1Jt"
      },
      "source": [
        "## 67: Add Binary\n",
        "Given two binary strings, return their sum (also a binary string).\n",
        "\n",
        "The input strings are both non-empty and contains only characters 1 or 0.\n",
        "\n"
      ]
    },
    {
      "cell_type": "code",
      "metadata": {
        "id": "otJMcb6eVL9d"
      },
      "source": [
        "class Solution:\n",
        "  def addbinary(self, num1: str, num2: str) -> str:\n",
        "    sumofall = []\n",
        "    carry = 0\n",
        "\n",
        "    for i in range(max(len(num1),len(num2))):\n",
        "      if i < len(num1):\n",
        "        a = num1[len(num1)-1-i]\n",
        "      else:\n",
        "        a = '0'\n",
        "\n",
        "      if i < len(num2):\n",
        "        b = num2[len(num2)-1-i]\n",
        "      else:\n",
        "        b = '0'\n",
        "      \n",
        "      temp = ord(a)-ord('0') + ord(b)-ord('0') + carry\n",
        "      remainder = temp % 2\n",
        "      carry = temp //2\n",
        "      sumofall.extend(str(remainder))\n",
        "\n",
        "    if carry == 1:\n",
        "      sumofall.extend(str(carry))\n",
        "\n",
        "    sumofall = (\"\").join(sumofall)\n",
        "\n",
        "    return sumofall[::-1]\n",
        "\n",
        "      \n",
        "\n"
      ],
      "execution_count": null,
      "outputs": []
    },
    {
      "cell_type": "code",
      "metadata": {
        "id": "LYTpIfSkWtBJ"
      },
      "source": [
        "a = Solution()\n"
      ],
      "execution_count": null,
      "outputs": []
    },
    {
      "cell_type": "code",
      "metadata": {
        "id": "mIYj3_ScZiY4",
        "colab": {
          "base_uri": "https://localhost:8080/",
          "height": 35
        },
        "outputId": "c44aafa7-5189-461b-fa41-c219be3a0213"
      },
      "source": [
        "a.addbinary('1111','1111')"
      ],
      "execution_count": null,
      "outputs": [
        {
          "output_type": "execute_result",
          "data": {
            "application/vnd.google.colaboratory.intrinsic+json": {
              "type": "string"
            },
            "text/plain": [
              "'11110'"
            ]
          },
          "metadata": {
            "tags": []
          },
          "execution_count": 23
        }
      ]
    },
    {
      "cell_type": "markdown",
      "metadata": {
        "id": "rFVBut8WdvAt"
      },
      "source": [
        "## 270: Closest Binary Search Tree Value\n",
        "Given a non-empty binary search tree and a target value, find the value in the BST that is closest to the target.\n",
        "\n",
        "Note:\n",
        "\n",
        "Given target value is a floating point.\n",
        "You are guaranteed to have only one unique value in the BST that is closest to the target.\n",
        "\n",
        "avg O(log(n))\n",
        "worst O(n)\n"
      ]
    },
    {
      "cell_type": "code",
      "metadata": {
        "id": "oQP-VHiPZkrT"
      },
      "source": [
        "# Definition for a binary tree node.\n",
        "# class TreeNode:\n",
        "#     def __init__(self, val=0, left=None, right=None):\n",
        "#         self.val = val\n",
        "#         self.left = left\n",
        "#         self.right = right\n",
        "import numpy as np\n",
        "class Solution:\n",
        "    def closestValue(self, root: TreeNode, target: float) -> int:\n",
        "        node = root\n",
        "        candidate = node.val\n",
        "        final = None\n",
        "        \n",
        "        while node:\n",
        "            if abs(node.val - target) < abs(candidate - target):\n",
        "                candidate = node.val\n",
        "            if node.val > target:\n",
        "                node = node.left\n",
        "            elif node.val < target:\n",
        "                node = node.right\n",
        "            else:\n",
        "                return node.val\n",
        "            \n",
        "        \n",
        "        return candidate"
      ],
      "execution_count": null,
      "outputs": []
    },
    {
      "cell_type": "markdown",
      "metadata": {
        "id": "RvwFdaEJxR9S"
      },
      "source": [
        "## 278: First Bad Version\n",
        "You are a product manager and currently leading a team to develop a new product. Unfortunately, the latest version of your product fails the quality check. Since each version is developed based on the previous version, all the versions after a bad version are also bad."
      ]
    },
    {
      "cell_type": "code",
      "metadata": {
        "id": "vuCVpt1nxVaA"
      },
      "source": [
        "\"\"\"\n",
        "# The isBadVersion API is already defined for you.\n",
        "# param version, an integer\n",
        "# return an integer\n",
        "# def isBadVersion(version):\n",
        "\"\"\"\n",
        "class Solution:\n",
        "    def firstBadVersion(self, n):\n",
        "        \"\"\"\n",
        "        :type n: int\n",
        "        :rtype: int\n",
        "        \"\"\"\n",
        "        r = n-1\n",
        "        l = 0\n",
        "        while(l<=r):\n",
        "            mid = l + (r-l)//2\n",
        "            if isBadVersion(mid)==False:\n",
        "                l = mid+1\n",
        "            else:\n",
        "                r = mid-1\n",
        "        return l\n"
      ],
      "execution_count": null,
      "outputs": []
    },
    {
      "cell_type": "markdown",
      "metadata": {
        "id": "hRUzCC0kK7Ee"
      },
      "source": [
        "## 88: Merge Sorted Array\n",
        "Given two sorted integer arrays nums1 and nums2, merge nums2 into nums1 as one sorted array."
      ]
    },
    {
      "cell_type": "code",
      "metadata": {
        "id": "lT8q3cUixat_"
      },
      "source": [
        "class Solution:\n",
        "    def merge(self,nums1,m,nums2,n):\n",
        "        \"\"\"\n",
        "        Do not return anything, modify nums1 in-place instead.\n",
        "        \"\"\"\n",
        "        \n",
        "        while m >0 and n>0:\n",
        "            if nums1[m-1] >= nums2[n-1]:\n",
        "                nums1[m+n-1] = nums1[m-1]\n",
        "                m-=1\n",
        "            else:\n",
        "                nums1[m+n-1] = nums2[n-1]\n",
        "                n-=1\n",
        "        if n > 0:\n",
        "            nums1[:n] = nums2[:n]\n",
        "        \n",
        "        return nums1\n",
        "        "
      ],
      "execution_count": null,
      "outputs": []
    },
    {
      "cell_type": "code",
      "metadata": {
        "id": "drBJ06ruWhB7"
      },
      "source": [
        "a = Solution()"
      ],
      "execution_count": null,
      "outputs": []
    },
    {
      "cell_type": "code",
      "metadata": {
        "id": "C5pDRKCfXHDI"
      },
      "source": [
        "nums1 = [1,2,3,0,0,0]\n",
        "m = 3\n",
        "nums2 = [2,5,6]\n",
        "n = 3"
      ],
      "execution_count": null,
      "outputs": []
    },
    {
      "cell_type": "code",
      "metadata": {
        "id": "RQbWC_PsW50V",
        "colab": {
          "base_uri": "https://localhost:8080/",
          "height": 35
        },
        "outputId": "a01c30d7-35f0-4562-f5ca-90d98f7be3c1"
      },
      "source": [
        "a.merge(nums1,m,nums2,n)"
      ],
      "execution_count": null,
      "outputs": [
        {
          "output_type": "execute_result",
          "data": {
            "text/plain": [
              "[1, 2, 2, 3, 5, 6]"
            ]
          },
          "metadata": {
            "tags": []
          },
          "execution_count": 50
        }
      ]
    },
    {
      "cell_type": "markdown",
      "metadata": {
        "id": "vji5jdEDgpOd"
      },
      "source": [
        "## 339: Nested List Weight Sum\n",
        "Given a nested list of integers, return the sum of all integers in the list weighted by their depth.\n",
        "\n",
        "Each element is either an integer, or a list -- whose elements may also be integers or other lists."
      ]
    },
    {
      "cell_type": "code",
      "metadata": {
        "id": "a4lueYcHW_WW"
      },
      "source": [
        "\n",
        "class Solution:\n",
        "    def depthSum(self, nestedList: List[NestedInteger]) -> int:\n",
        "        def visit(nestedList, depth):\n",
        "            res = 0\n",
        "            for item in nestedList:\n",
        "                if item.isInteger():\n",
        "                    res += item.getInteger()*depth\n",
        "                else:\n",
        "                    res += visit(item.getList(), depth+1)\n",
        "            return res\n",
        "        return visit(nestedList, 1)\n",
        "        "
      ],
      "execution_count": null,
      "outputs": []
    },
    {
      "cell_type": "markdown",
      "metadata": {
        "id": "293uTvxlHmNS"
      },
      "source": [
        "## 680: Valid Palindrome II\n",
        "Given a non-empty string s, you may delete at most one character. Judge whether you can make it a palindrome."
      ]
    },
    {
      "cell_type": "code",
      "metadata": {
        "id": "9gva0bTLHo99"
      },
      "source": [
        "class Solution:\n",
        "    def validPalindrome(self, s: str) -> bool:\n",
        "        \n",
        "        def _palindrome(l,r):\n",
        "            return s[l:r+1] == s[l:r+1][::-1]\n",
        "        \n",
        "        l = 0\n",
        "        r = len(s)-1\n",
        "        \n",
        "        while l < r:\n",
        "            if s[l]!= s[r]:\n",
        "                return _palindrome(l+1,r) or _palindrome(l,r-1)\n",
        "            \n",
        "            l += 1\n",
        "            r -= 1\n",
        "        return True\n",
        "        "
      ],
      "execution_count": null,
      "outputs": []
    },
    {
      "cell_type": "code",
      "metadata": {
        "id": "EAfKTyJcHpu1"
      },
      "source": [
        "a = Solution()"
      ],
      "execution_count": null,
      "outputs": []
    },
    {
      "cell_type": "code",
      "metadata": {
        "id": "ULAwU2i0HzxO",
        "colab": {
          "base_uri": "https://localhost:8080/"
        },
        "outputId": "27c69a4c-ce01-42b4-f58b-aef279ee311b"
      },
      "source": [
        "a.validPalindrome('abdad')"
      ],
      "execution_count": null,
      "outputs": [
        {
          "output_type": "execute_result",
          "data": {
            "text/plain": [
              "False"
            ]
          },
          "metadata": {
            "tags": []
          },
          "execution_count": 4
        }
      ]
    },
    {
      "cell_type": "markdown",
      "metadata": {
        "id": "oyHNUWqfMtRb"
      },
      "source": [
        "## 125: Valid Palindrome\n",
        "Given a string, determine if it is a palindrome, considering only alphanumeric characters and ignoring cases.\n",
        "\n",
        "Note: For the purpose of this problem, we define empty string as valid palindrome."
      ]
    },
    {
      "cell_type": "code",
      "metadata": {
        "id": "c1D0z55AH16D"
      },
      "source": [
        "class Solution:\n",
        "    def isPalindrome(self, s: str) -> bool:\n",
        "        l,r = 0,len(s) -1\n",
        "   \n",
        "        \n",
        "        while l < r:\n",
        "            while l<r and not s[l].isalnum():\n",
        "                l += 1\n",
        "            while l<r and not s[r].isalnum():\n",
        "                r -= 1\n",
        "       \n",
        "            if s[l].lower() != s[r].lower():\n",
        "                return False\n",
        "          \n",
        "            \n",
        "            l += 1\n",
        "            r -= 1\n",
        "            \n",
        "        return True\n",
        "    \n",
        "    def isPalindrome_2(self, s: str) -> bool:\n",
        "      \n",
        "        s= \"\".join(filter(str.isalnum,s)).lower()\n",
        "        l = 0\n",
        "        r = len(s)-1\n",
        "        while l<r:\n",
        "            \n",
        "                \n",
        "            if s[l]!= s[r]:\n",
        "                return False\n",
        "            \n",
        "            l +=1\n",
        "            r -=1\n",
        "        \n",
        "        return True"
      ],
      "execution_count": null,
      "outputs": []
    },
    {
      "cell_type": "code",
      "metadata": {
        "id": "FM7fMRzJMuse"
      },
      "source": [
        "a = Solution()\n",
        "assert a.isPalindrome(\"A man, a plan, a canal: Panama\") == a.isPalindrome_2(\"A man, a plan, a canal: Panama\")\n"
      ],
      "execution_count": null,
      "outputs": []
    },
    {
      "cell_type": "markdown",
      "metadata": {
        "id": "vDqXQ4HqUUgZ"
      },
      "source": [
        "## 938: Range Sum of BST\n",
        "Given the root node of a binary search tree, return the sum of values of all nodes with value between L and R (inclusive).\n",
        "\n",
        "The binary search tree is guaranteed to have unique values."
      ]
    },
    {
      "cell_type": "code",
      "metadata": {
        "id": "FdYmu4jJM_eW"
      },
      "source": [
        "# Definition for a binary tree node.\n",
        "# class TreeNode:\n",
        "#     def __init__(self, val=0, left=None, right=None):\n",
        "#         self.val = val\n",
        "#         self.left = left\n",
        "#         self.right = right\n",
        "class Solution(object):\n",
        "    def rangeSumBST(self, root, L, R):\n",
        "        def dfs(node):\n",
        "            if node:\n",
        "                if L<= node.val <= R:\n",
        "                    self.ans += node.val\n",
        "                    #print(node.val)\n",
        "                if node.val>L:\n",
        "                    dfs(node.left)\n",
        "                if node.val<R:\n",
        "                    dfs(node.right)\n",
        "        self.ans = 0\n",
        "        dfs(root)\n",
        "        return self.ans\n"
      ],
      "execution_count": null,
      "outputs": []
    },
    {
      "cell_type": "markdown",
      "metadata": {
        "id": "_u3uIFT7z3N2"
      },
      "source": [
        "## 953: Verifying an Alien Dictionary\n",
        "In an alien language, surprisingly they also use english lowercase letters, but possibly in a different order. The order of the alphabet is some permutation of lowercase letters.\n",
        "\n",
        "Given a sequence of words written in the alien language, and the order of the alphabet, return true if and only if the given words are sorted lexicographicaly in this alien language."
      ]
    },
    {
      "cell_type": "code",
      "metadata": {
        "id": "a9QkT2vtz3uH"
      },
      "source": [
        "a = [\"word\",\"world\",\"row\"]\n",
        "b=\"worldabcefghijkmnpqstuvxyz\""
      ],
      "execution_count": null,
      "outputs": []
    },
    {
      "cell_type": "code",
      "metadata": {
        "id": "uBGJ6gWgz9pI"
      },
      "source": [
        "class Solution:\n",
        "    def isAlienSorted(self, words, order) -> bool:\n",
        "        h = {}\n",
        "        l2 = []\n",
        "        \n",
        "        for index,char in enumerate(order):\n",
        "            h[char] = index+1\n",
        "\n",
        "        for word in words:\n",
        "            l =[]\n",
        "            for i in word:\n",
        "                \n",
        "                l.append(h[i])\n",
        "            l2.append(l)\n",
        "        \n",
        "        print(l2)\n",
        "        \n",
        "        for w1,w2 in zip(l2,l2[1:]):\n",
        "         if w1 > w2:\n",
        "           return False\n",
        "        return True"
      ],
      "execution_count": null,
      "outputs": []
    },
    {
      "cell_type": "code",
      "metadata": {
        "id": "96zjPt3mDmCU"
      },
      "source": [
        "c = Solution()"
      ],
      "execution_count": null,
      "outputs": []
    },
    {
      "cell_type": "code",
      "metadata": {
        "id": "4xA3wvWTDsKL",
        "colab": {
          "base_uri": "https://localhost:8080/",
          "height": 53
        },
        "outputId": "48abae9b-9273-4bd2-974c-ce9790bec767"
      },
      "source": [
        "c.isAlienSorted(a,b)"
      ],
      "execution_count": null,
      "outputs": [
        {
          "output_type": "stream",
          "text": [
            "[[1, 2, 3, 5], [1, 2, 3, 4, 5], [3, 2, 1]]\n"
          ],
          "name": "stdout"
        },
        {
          "output_type": "execute_result",
          "data": {
            "text/plain": [
              "False"
            ]
          },
          "metadata": {
            "tags": []
          },
          "execution_count": 14
        }
      ]
    },
    {
      "cell_type": "markdown",
      "metadata": {
        "id": "79HT1QqYCrHp"
      },
      "source": [
        "## 389: Find the Difference\n",
        "You are given two strings s and t.\n",
        "\n",
        "String t is generated by random shuffling string s and then add one more letter at a random position.\n",
        "\n",
        "Return the letter that was added to t."
      ]
    },
    {
      "cell_type": "code",
      "metadata": {
        "id": "8DOUQfFKCwvx"
      },
      "source": [
        "class Solution:\n",
        "    def findTheDifference(self, s: str, t: str) -> str:\n",
        "        h = {}\n",
        "        k = {}\n",
        "        \n",
        "        \n",
        "        for i in s:\n",
        "            if i in h:\n",
        "                h[i]+=1\n",
        "            else:\n",
        "                h[i] = 1\n",
        "                \n",
        "        \n",
        "        for j in t:\n",
        "            if j in k:\n",
        "                k[j] += 1\n",
        "            else:\n",
        "                k[j] = 1\n",
        "                \n",
        "        print(h)\n",
        "        print(k)\n",
        "                \n",
        "        for i in t:\n",
        "            if i not in h:\n",
        "                return (i)\n",
        "            elif i in k and h[i]< k[i]:\n",
        "                return (i)\n",
        "            else:\n",
        "                pass"
      ],
      "execution_count": null,
      "outputs": []
    },
    {
      "cell_type": "markdown",
      "metadata": {
        "id": "Ceg0mzPOfJg1"
      },
      "source": [
        "## 387: First Unique Character in a String\n",
        "Given a string, find the first non-repeating character in it and return its index. If it doesn't exist, return -1."
      ]
    },
    {
      "cell_type": "code",
      "metadata": {
        "id": "lOCsKjDlfOK5"
      },
      "source": [
        "from collections import Counter\n",
        "class Solution:\n",
        "    def firstUniqChar(self, s: str) -> int:\n",
        "        c = Counter(s)\n",
        "        \n",
        "        for idx,char in enumerate(s):\n",
        "            if c[char] == 1:\n",
        "                return idx\n",
        "        \n",
        "        return -1"
      ],
      "execution_count": null,
      "outputs": []
    },
    {
      "cell_type": "markdown",
      "metadata": {
        "id": "g5lCk8hPRcob"
      },
      "source": [
        "##1446: Consecutive Characters\n",
        "Given a string s, the power of the string is the maximum length of a non-empty substring that contains only one unique character.\n",
        "\n",
        "Return the power of the string."
      ]
    },
    {
      "cell_type": "code",
      "metadata": {
        "id": "c4V9meidRi7X"
      },
      "source": [
        "class Solution:\n",
        "    def maxPower(self, s: str) -> int:\n",
        "        t,start = 1,1\n",
        "        \n",
        "        \n",
        "        for i in range(len(s)-1):\n",
        "            if s[i]==s[i+1]:\n",
        "                start +=1\n",
        "                t = max(t,start)\n",
        "            else:\n",
        "                start = 1\n",
        "                \n",
        "        \n",
        "        return t"
      ],
      "execution_count": null,
      "outputs": []
    },
    {
      "cell_type": "markdown",
      "metadata": {
        "id": "h8SZzCZAS724"
      },
      "source": [
        "## 252: Meeting Rooms\n",
        "Given an array of meeting time intervals where intervals[i] = [starti, endi], determine if a person could attend all meetings."
      ]
    },
    {
      "cell_type": "code",
      "metadata": {
        "id": "hgyn3jVCTBFE"
      },
      "source": [
        "class Solution:\n",
        "    def canAttendMeetings(self, intervals) -> bool:\n",
        "        if not intervals:\n",
        "            return True\n",
        "        intervals = sorted(intervals)\n",
        "        first = intervals[0][0]\n",
        "        last = intervals[0][1]\n",
        "        \n",
        "        for i in range(1,len(intervals)):\n",
        "            f = intervals[i][0]\n",
        "            l = intervals[i][1]\n",
        "            \n",
        "            \n",
        "            if first >= f:\n",
        "                return False\n",
        "            elif last > f:\n",
        "                return False\n",
        "            first = f\n",
        "            last = l\n",
        "            \n",
        "        return True"
      ],
      "execution_count": null,
      "outputs": []
    },
    {
      "cell_type": "markdown",
      "metadata": {
        "id": "99bMLWidxR_T"
      },
      "source": [
        "## 20: Valid Parentheses\n",
        "Given a string s containing just the characters '(', ')', '{', '}', '[' and ']', determine if the input string is valid.\n",
        "\n",
        "An input string is valid if:\n",
        "\n",
        "Open brackets must be closed by the same type of brackets.\n",
        "Open brackets must be closed in the correct order."
      ]
    },
    {
      "cell_type": "code",
      "metadata": {
        "id": "onaPWigKxQME"
      },
      "source": [
        "class Solution:\n",
        "    def isValid(self, s: str) -> bool:\n",
        "        paren ={ \"(\":\")\",\n",
        "                \"{\":\"}\",\n",
        "                \"[\":\"]\"\n",
        "        }\n",
        "        \n",
        "        l =[]\n",
        "        \n",
        "        for i in range(len(s)):\n",
        "            if s[i] in paren:\n",
        "                l.append(s[i])\n",
        "            elif not l:\n",
        "                return False\n",
        "            elif s[i] != paren[l[-1]] :\n",
        "                return False\n",
        "            else:\n",
        "                del(l[-1])\n",
        "                \n",
        "        if not l:\n",
        "            return True"
      ],
      "execution_count": null,
      "outputs": []
    },
    {
      "cell_type": "markdown",
      "metadata": {
        "id": "zhYfUY52kpZS"
      },
      "source": [
        "##35: Search Insert Position\n",
        "Given a sorted array of distinct integers and a target value, return the index if the target is found. If not, return the index where it would be if it were inserted in order."
      ]
    },
    {
      "cell_type": "code",
      "metadata": {
        "id": "NM60xUjYkyOy"
      },
      "source": [
        "class Solution:\n",
        "  def searchinsert(self,nums,target):\n",
        "    start,end = 0,len(nums)-1\n",
        "\n",
        "    while start <= end:\n",
        "      mid = (start+end)//2\n",
        "\n",
        "      temp = nums[mid]\n",
        "\n",
        "\n",
        "      if temp == target:\n",
        "        return mid\n",
        "\n",
        "      elif temp > target:\n",
        "        end = mid -1\n",
        "\n",
        "      else:\n",
        "        start = mid + 1\n",
        "\n",
        "    return start"
      ],
      "execution_count": null,
      "outputs": []
    },
    {
      "cell_type": "code",
      "metadata": {
        "id": "LfpFCClElYX4"
      },
      "source": [
        "a = Solution()"
      ],
      "execution_count": null,
      "outputs": []
    },
    {
      "cell_type": "code",
      "metadata": {
        "id": "3ZYjQvR6lcOs",
        "colab": {
          "base_uri": "https://localhost:8080/"
        },
        "outputId": "e571cff2-7150-4d7a-972e-9a4d644f0d5e"
      },
      "source": [
        "a.searchinsert([1,3,5,6],10)"
      ],
      "execution_count": null,
      "outputs": [
        {
          "output_type": "execute_result",
          "data": {
            "text/plain": [
              "4"
            ]
          },
          "metadata": {
            "tags": []
          },
          "execution_count": 4
        }
      ]
    },
    {
      "cell_type": "markdown",
      "metadata": {
        "id": "nXFCGhaNnvUf"
      },
      "source": [
        "## 1099: Two Sum Less Than K\n",
        "Given an array A of integers and integer K, return the maximum S such that there exists i < j with A[i] + A[j] = S and S < K. If no i, j exist satisfying this equation, return -1.\n",
        "\n",
        " "
      ]
    },
    {
      "cell_type": "code",
      "metadata": {
        "id": "77wKCtvSnzhI"
      },
      "source": [
        "class Solution:\n",
        "  def twosumless(self,nums,k):\n",
        "    nums.sort()\n",
        "    start,end = 0,len(nums)-1\n",
        "    ans = -1\n",
        "\n",
        "    while start < end:\n",
        "      if nums[start] + nums[end] < k:\n",
        "        ans = max(ans,nums[start] + nums[end])\n",
        "        start +=1 \n",
        "\n",
        "      else:\n",
        "        end -= 1\n",
        "\n",
        "    return ans"
      ],
      "execution_count": null,
      "outputs": []
    },
    {
      "cell_type": "code",
      "metadata": {
        "id": "NBdMr-EioM5O"
      },
      "source": [
        "a = Solution()"
      ],
      "execution_count": null,
      "outputs": []
    },
    {
      "cell_type": "code",
      "metadata": {
        "id": "JsrRcMKjoPSH",
        "colab": {
          "base_uri": "https://localhost:8080/"
        },
        "outputId": "886c6acf-0433-4b40-c988-d90bc673b867"
      },
      "source": [
        "a.twosumless([34,23,1,24,75,33,54,8],60)"
      ],
      "execution_count": null,
      "outputs": [
        {
          "output_type": "execute_result",
          "data": {
            "text/plain": [
              "58"
            ]
          },
          "metadata": {
            "tags": []
          },
          "execution_count": 22
        }
      ]
    },
    {
      "cell_type": "markdown",
      "metadata": {
        "id": "Xs2V1PO14m-A"
      },
      "source": [
        "## 832: Flipping an Image\n",
        "Given a binary matrix A, we want to flip the image horizontally, then invert it, and return the resulting image.\n",
        "\n",
        "To flip an image horizontally means that each row of the image is reversed.  For example, flipping [1, 1, 0] horizontally results in [0, 1, 1].\n",
        "\n",
        "To invert an image means that each 0 is replaced by 1, and each 1 is replaced by 0. For example, inverting [0, 1, 1] results in [1, 0, 0]."
      ]
    },
    {
      "cell_type": "code",
      "metadata": {
        "id": "5yatFwxQ4qZG"
      },
      "source": [
        "class Solution:\n",
        "    def flipAndInvertImage(self, A):\n",
        "        \n",
        "        \n",
        "        for i in range(len(A)):\n",
        "            A[i] = A[i][::-1]\n",
        "            for k in range(len(A)):\n",
        "                if A[i][k] == 0:\n",
        "                    A[i][k] =1\n",
        "                else:\n",
        "                    A[i][k] = 0\n",
        "        return A"
      ],
      "execution_count": null,
      "outputs": []
    },
    {
      "cell_type": "markdown",
      "metadata": {
        "id": "9lXMqg5uYerF"
      },
      "source": [
        "No. According to the definition of the matrix in the problem, the matrix is always a square matrix i.e., the length of the rows & columns are the same.\n",
        "\n",
        "Also, the time complexity is always measured relative to the total no. of input elements, which in this case is all the elements of the matrix. Since every element in the matrix is visited just once, the time complexity remains O(N) where N is total no. of elements in the matrix.\n",
        "\n"
      ]
    },
    {
      "cell_type": "markdown",
      "metadata": {
        "id": "8unCn2e7TFQC"
      },
      "source": [
        "## 346: Moving Average from Data Stream"
      ]
    },
    {
      "cell_type": "code",
      "metadata": {
        "id": "Z9-z_5mNTF1j"
      },
      "source": [
        "class MovingAverage:\n",
        "    \n",
        "    def __init__(self, size: int):\n",
        "        self.window = size\n",
        "        self.buffer = []\n",
        "        self.sum = 0\n",
        "    \n",
        "\n",
        "    def next(self, val: int) -> float:\n",
        "        self.buffer += [val]\n",
        "        self.sum += val\n",
        "        \n",
        "        if len(self.buffer) > self.window:\n",
        "            b =self.buffer.pop(0)\n",
        "            self.sum -= b\n",
        "         \n",
        "        \n",
        "        return self.sum/len(self.buffer)\n",
        "\n",
        "# Your MovingAverage object will be instantiated and called as such:\n",
        "# obj = MovingAverage(size)\n",
        "# param_1 = obj.next(val)"
      ],
      "execution_count": null,
      "outputs": []
    },
    {
      "cell_type": "markdown",
      "metadata": {
        "id": "FK3gKL86IH3l"
      },
      "source": [
        "## 509: Fibonacci Number \n",
        "The Fibonacci numbers, commonly denoted F(n) form a sequence, called the Fibonacci sequence, such that each number is the sum of the two preceding ones, starting from 0 and 1. That is,\n",
        "\n",
        "F(0) = 0,   F(1) = 1\n",
        "F(N) = F(N - 1) + F(N - 2), for N > 1.\n",
        "Given N, calculate F(N).\n",
        "\n"
      ]
    },
    {
      "cell_type": "code",
      "metadata": {
        "id": "SwWtkzJWIJ-W"
      },
      "source": [
        "class Solution:\n",
        "    def fib(self, n: int) -> int:\n",
        "        if n == 0 or n == 1: return n #O(n)\n",
        "        # iterative solution\n",
        "        a, b = 0, 1\n",
        "        while n > 1:\n",
        "            n -= 1\n",
        "            a, b = b, a+b\n",
        "        return b\n",
        "\n",
        "    def fibrecursive(self,n:int):   #o(2^n)\n",
        "        if n ==1 or n == 0: return n\n",
        "        else:\n",
        "          return self.fibrecursive(n-1) + self.fibrecursive(n-2)"
      ],
      "execution_count": null,
      "outputs": []
    },
    {
      "cell_type": "code",
      "metadata": {
        "id": "Ck5RGu4SIroY"
      },
      "source": [
        "a = Solution()"
      ],
      "execution_count": null,
      "outputs": []
    },
    {
      "cell_type": "code",
      "metadata": {
        "id": "T8daIqg_ItpR",
        "colab": {
          "base_uri": "https://localhost:8080/"
        },
        "outputId": "b4ba8767-b6ff-45d8-d3fd-af5e97f9ce3c"
      },
      "source": [
        "a.fibrecursive(5)"
      ],
      "execution_count": null,
      "outputs": [
        {
          "output_type": "execute_result",
          "data": {
            "text/plain": [
              "5"
            ]
          },
          "metadata": {
            "tags": []
          },
          "execution_count": 12
        }
      ]
    },
    {
      "cell_type": "markdown",
      "metadata": {
        "id": "gOgxvYxji-lk"
      },
      "source": [
        "## Caesar's Cipher Shift\n",
        "Shift letter by k"
      ]
    },
    {
      "cell_type": "code",
      "metadata": {
        "id": "NRnQjMeajE3t"
      },
      "source": [
        "def caesarCipherEncryptor(string, key):\n",
        "  l =[]\n",
        "\n",
        "  key = key %26\n",
        "  for i in string:\n",
        "    temp = ord(i) + key\n",
        "    if temp > 122:\n",
        "      temp = 96 + temp % 122\n",
        "\n",
        "    l.append(chr(temp))\n",
        "\n",
        "\n",
        "  return \"\".join(l)"
      ],
      "execution_count": null,
      "outputs": []
    },
    {
      "cell_type": "code",
      "metadata": {
        "id": "lp9ZtKBwkZpq",
        "colab": {
          "base_uri": "https://localhost:8080/",
          "height": 35
        },
        "outputId": "6b0a4c61-b1ec-41c4-833c-26757d54e992"
      },
      "source": [
        "caesarCipherEncryptor('xyz',2)"
      ],
      "execution_count": null,
      "outputs": [
        {
          "output_type": "execute_result",
          "data": {
            "application/vnd.google.colaboratory.intrinsic+json": {
              "type": "string"
            },
            "text/plain": [
              "'zab'"
            ]
          },
          "metadata": {
            "tags": []
          },
          "execution_count": 41
        }
      ]
    },
    {
      "cell_type": "markdown",
      "metadata": {
        "id": "v2Hb3GNuslVn"
      },
      "source": [
        "## 206: Reverse Linked List\n",
        "Input: 1->2->3->4->5->NULL\n",
        "Output: 5->4->3->2->1->NULL\n",
        "\n",
        "You need to remember the flow:\n",
        "\n",
        "temp = current.next --- remember this one\n",
        "\n",
        "current.next = previous\n",
        "previous = current\n",
        "current = temp"
      ]
    },
    {
      "cell_type": "code",
      "metadata": {
        "id": "kFy3_qv5su9C"
      },
      "source": [
        "# Definition for singly-linked list.\n",
        "# class ListNode:\n",
        "#     def __init__(self, val=0, next=None):\n",
        "#         self.val = val\n",
        "#         self.next = next\n",
        "class Solution:\n",
        "    def reverseList(self, head: ListNode) -> ListNode:\n",
        "        current,previous,temp = head, None,None\n",
        "        while current:\n",
        "            temp = current.next\n",
        "            current.next = previous\n",
        "            previous = current\n",
        "            current = temp            \n",
        "        \n",
        "        return previous\n",
        "\n",
        "\n",
        "    def reverseListr(self, head: ListNode,previous = None) -> ListNode:\n",
        "        if head is None:\n",
        "            return previous\n",
        "        \n",
        "        temp = head.next\n",
        "        head.next = previous\n",
        "        \n",
        "        return self.reverseListr(temp,head)\n",
        "        "
      ],
      "execution_count": null,
      "outputs": []
    },
    {
      "cell_type": "markdown",
      "metadata": {
        "id": "rZxm_9KyOI9d"
      },
      "source": [
        "## 1460: Make Two Arrays Equal by Reversing Sub-arrays\n",
        "Given a list of n integers arr[0..(n-1)], determine the number of different pairs of elements within it which sum to k.\n",
        "If an integer appears in the list multiple times, each copy is considered to be different; that is, two pairs are considered different if one pair includes at least one array index which the other doesn't, even if they include the same values.\n"
      ]
    },
    {
      "cell_type": "markdown",
      "metadata": {
        "id": "rHQh3nyWH2nw"
      },
      "source": [
        "##392: Is Subsequence"
      ]
    },
    {
      "cell_type": "code",
      "metadata": {
        "id": "G8EM4q2JH3VB"
      },
      "source": [
        "class Solution:\n",
        "    def isSubsequence(self, s: str, t: str) -> bool:\n",
        "        if not s:\n",
        "            return True\n",
        "        buff = [False]*len(s)\n",
        "        \n",
        "        i = 0\n",
        "        for ch in t:\n",
        "            if i < len(s) and ch == s[i] and buff[i] == False:\n",
        "                buff[i] = True\n",
        "                i+=1\n",
        "                \n",
        "        return buff[-1]\n",
        "            \n",
        "        "
      ],
      "execution_count": null,
      "outputs": []
    },
    {
      "cell_type": "markdown",
      "metadata": {
        "id": "LARiRSz6lNJU"
      },
      "source": [
        "## 628: Maximum Product of Three Numbers\n",
        "\n",
        "Given an integer array nums, find three numbers whose product is maximum and return the maximum product.\n",
        "\n",
        " \n",
        "\n",
        "Example 1:\n",
        "\n",
        "Input: nums = [1,2,3]\n",
        "Output: 6"
      ]
    },
    {
      "cell_type": "code",
      "metadata": {
        "id": "K2HlI5lolHTJ"
      },
      "source": [
        "def maximumProduct(self, nums):\n",
        "        nums.sort(reverse =True)\n",
        "        a = nums[0] * nums[1] * nums[2]\n",
        "        b = nums[-1] * nums[-2] * nums[0]\n",
        "        return max([a,b])"
      ],
      "execution_count": null,
      "outputs": []
    },
    {
      "cell_type": "markdown",
      "metadata": {
        "id": "fqRt-WfVli9P"
      },
      "source": [
        "## Largest Triple Products\n",
        "You're given a list of n integers arr[0..(n-1)]. You must compute a list output[0..(n-1)] such that, for each index i (between 0 and n-1, inclusive), output[i] is equal to the product of the three largest elements out of arr[0..i] (or equal to -1 if i < 2, as arr[0..i] then includes fewer than three elements).\n",
        "Note that the three largest elements used to form any product may have the same values as one another, but they must be at different indices in arr.\n",
        "Signature\n",
        "int[] findMaxProduct(int[] arr)\n",
        "Input\n",
        "n is in the range [1, 100,000].\n",
        "Each value arr[i] is in the range [1, 1,000].\n",
        "Output\n",
        "Return a list of n integers output[0..(n-1)], as described above.\n",
        "Example 1\n",
        "n = 5\n",
        "arr = [1, 2, 3, 4, 5]\n",
        "output = [-1, -1, 6, 24, 60]\n",
        "The 3rd element of output is 3*2*1 = 6, the 4th is 4*3*2 = 24, and the 5th is 5*4*3 = 60."
      ]
    },
    {
      "cell_type": "code",
      "metadata": {
        "id": "pN75kNQjlHOm"
      },
      "source": [
        "def findMaxProduct(arr):\n",
        "  # Write your code here\n",
        "  lst = [arr[0],arr[1],arr[2]]\n",
        "  m = arr[0]*arr[1]*arr[2]\n",
        "  product = [-1,-1,m]\n",
        "  \n",
        "  lst = sorted(lst)\n",
        "  \n",
        "  for i in range(3,len(arr)):\n",
        "    if arr[i] > lst[0]:\n",
        "      lst[0] = arr[i]\n",
        "      \n",
        "    lst = sorted(lst)\n",
        "    product.append(lst[0]*lst[1]*lst[2])\n",
        "    \n",
        "    \n",
        "  return product\n",
        "  "
      ],
      "execution_count": null,
      "outputs": []
    },
    {
      "cell_type": "markdown",
      "metadata": {
        "id": "nCwU_E7tCCD2"
      },
      "source": [
        "##110: Balanced Binary Tree\n",
        "\n",
        "Given a binary tree, determine if it is height-balanced.\n",
        "\n",
        "For this problem, a height-balanced binary tree is defined as:\n",
        "\n",
        "a binary tree in which the left and right subtrees of every node differ in height by no more than 1."
      ]
    },
    {
      "cell_type": "code",
      "metadata": {
        "id": "Du3lhGBGCCZR"
      },
      "source": [
        "# Definition for a binary tree node.\n",
        "# class TreeNode:\n",
        "#     def __init__(self, val=0, left=None, right=None):\n",
        "#         self.val = val\n",
        "#         self.left = left\n",
        "#         self.right = right\n",
        "class Solution:\n",
        "    def isBalanced(self, root: TreeNode) -> bool:\n",
        "        def r_balanced(tree, height):\n",
        "            if not tree:  # base case\n",
        "                return height\n",
        "            l = r_balanced(tree.left, height+1)\n",
        "            r = r_balanced(tree.right, height+1)\n",
        "            return max(l, r) if abs(l-r) <= 1 else -float(\"inf\")\n",
        "\n",
        "        return r_balanced(root, 0) >= 0"
      ],
      "execution_count": null,
      "outputs": []
    },
    {
      "cell_type": "markdown",
      "metadata": {
        "id": "-3ktngKyirtZ"
      },
      "source": [
        "##543: Diameter of Binary Tree\n",
        "Given a binary tree, you need to compute the length of the diameter of the tree. The diameter of a binary tree is the length of the longest path between any two nodes in a tree. This path may or may not pass through the root.\n",
        "\n"
      ]
    },
    {
      "cell_type": "code",
      "metadata": {
        "id": "q5NjVPUWizjp"
      },
      "source": [
        "# Definition for a binary tree node.\n",
        "# class TreeNode:\n",
        "#     def __init__(self, val=0, left=None, right=None):\n",
        "#         self.val = val\n",
        "#         self.left = left\n",
        "#         self.right = right\n",
        "class Solution:\n",
        "    def diameterOfBinaryTree(self, root: TreeNode) -> int:\n",
        "        self.ans = 0\n",
        "        \n",
        "        def depth(p):\n",
        "            if not p: return 0\n",
        "            left, right = depth(p.left), depth(p.right)\n",
        "            self.ans = max(self.ans, left+right)\n",
        "            return 1 + max(left, right)\n",
        "            \n",
        "        depth(root)\n",
        "        return self.ans\n"
      ],
      "execution_count": null,
      "outputs": []
    },
    {
      "cell_type": "markdown",
      "metadata": {
        "id": "2geZxqkWJ1cz"
      },
      "source": [
        "## 938: Range Sum of BST -- 30\n",
        "\n",
        "Given the root node of a binary search tree, return the sum of values of all nodes with a value in the range [low, high]."
      ]
    },
    {
      "cell_type": "code",
      "metadata": {
        "id": "2FSp4PvxJ8Hv"
      },
      "source": [
        "# Definition for a binary tree node.\n",
        "# class TreeNode:\n",
        "#     def __init__(self, val=0, left=None, right=None):\n",
        "#         self.val = val\n",
        "#         self.left = left\n",
        "#         self.right = right\n",
        "class Solution(object):\n",
        "    def rangeSumBST(self, root, L, R):\n",
        "        def dfs(node):\n",
        "            if node:\n",
        "                if L<= node.val <= R:\n",
        "                    self.ans += node.val\n",
        "                    #print(node.val)\n",
        "                if node.val>L:\n",
        "                    dfs(node.left)\n",
        "                if node.val<R:\n",
        "                    dfs(node.right)\n",
        "        self.ans = 0\n",
        "        dfs(root)\n",
        "        return self.ans\n"
      ],
      "execution_count": null,
      "outputs": []
    },
    {
      "cell_type": "markdown",
      "metadata": {
        "id": "QbwUUtCMIe9y"
      },
      "source": [
        "## 101: Symmetric Tree\n",
        "\n",
        "Given a binary tree, check whether it is a mirror of itself (ie, symmetric around its center).\n",
        "\n",
        "For example, this binary tree [1,2,2,3,4,4,3] is symmetric:"
      ]
    },
    {
      "cell_type": "code",
      "metadata": {
        "id": "YxHyw6dOIeI7"
      },
      "source": [
        "# Definition for a binary tree node.\n",
        "# class TreeNode:\n",
        "#     def __init__(self, val=0, left=None, right=None):\n",
        "#         self.val = val\n",
        "#         self.left = left\n",
        "#         self.right = right\n",
        "class Solution:\n",
        "    def isSymmetric(self, root: TreeNode) -> bool:\n",
        "        return sym(root,root)\n",
        "    \n",
        "def sym(r1,r2):\n",
        "    if not r1 and not r2:\n",
        "        return True\n",
        "    \n",
        "    if r1!= None and r2!= None:\n",
        "        if r1.val == r2.val:\n",
        "            return sym(r1.left,r2.right) and sym(r2.left,r1.right)\n",
        "        \n",
        "        \n",
        "    return False"
      ],
      "execution_count": null,
      "outputs": []
    },
    {
      "cell_type": "markdown",
      "metadata": {
        "id": "bv1pzgmED7Fn"
      },
      "source": [
        "##501: Find Mode in Binary Search Tree"
      ]
    },
    {
      "cell_type": "code",
      "metadata": {
        "id": "SQMFagYVD6Wd"
      },
      "source": [
        "# Definition for a binary tree node.\n",
        "# class TreeNode:\n",
        "#     def __init__(self, val=0, left=None, right=None):\n",
        "#         self.val = val\n",
        "#         self.left = left\n",
        "#         self.right = right\n",
        "from collections import Counter\n",
        "class Solution:\n",
        "    \n",
        "    def findMode(self, root: TreeNode) -> List[int]:\n",
        "        arr = self.traverse(root,[])\n",
        "        c = Counter(arr)\n",
        "        if not c:\n",
        "            return None\n",
        "        maxvalue = max(c.values())\n",
        "        \n",
        "                \n",
        "        return (i for i in c if c[i]==maxvalue)\n",
        "     \n",
        "    def traverse(self,root,array):\n",
        "        if not root:\n",
        "            return None\n",
        "        \n",
        "        self.traverse(root.left,array)\n",
        "        array.append(root.val)\n",
        "        self.traverse(root.right,array)\n",
        "        \n",
        "        return array"
      ],
      "execution_count": null,
      "outputs": []
    },
    {
      "cell_type": "markdown",
      "metadata": {
        "id": "PX4ty2b8fAVe"
      },
      "source": [
        "## 463: Island Perimeter\n",
        "You are given row x col grid representing a map where grid[i][j] = 1 represents land and grid[i][j] = 0 represents water.\n",
        "\n",
        "Grid cells are connected horizontally/vertically (not diagonally). The grid is completely surrounded by water, and there is exactly one island (i.e., one or more connected land cells).\n",
        "\n",
        "The island doesn't have \"lakes\", meaning the water inside isn't connected to the water around the island. One cell is a square with side length 1. The grid is rectangular, width and height don't exceed 100. Determine the perimeter of the island.\n",
        "\n"
      ]
    },
    {
      "cell_type": "code",
      "metadata": {
        "id": "GAg6jNnqe_3b"
      },
      "source": [
        "class Solution:\n",
        "    def islandPerimeter(self, grid: List[List[int]]) -> int:\n",
        "        M, N = len(grid), len(grid[0])\n",
        "        p = 0\n",
        "        \n",
        "        for m in range(M):\n",
        "            for n in range(N):\n",
        "                if grid[m][n] == 1:\n",
        "                    if m == 0   or grid[m-1][n] == 0: \n",
        "                        p += 1\n",
        "                    if n == 0   or grid[m][n-1] == 0: \n",
        "                        p += 1\n",
        "                    if n == N-1 or grid[m][n+1] == 0: \n",
        "                        p += 1\n",
        "                    if m == M-1 or grid[m+1][n] == 0: \n",
        "                        p += 1\n",
        "        return p\n",
        "\t\t"
      ],
      "execution_count": null,
      "outputs": []
    },
    {
      "cell_type": "markdown",
      "metadata": {
        "id": "Q0-pbF1wEYpa"
      },
      "source": [
        "# Medium [29]\n",
        "\n"
      ]
    },
    {
      "cell_type": "markdown",
      "metadata": {
        "id": "EXXIa_e1T_rD"
      },
      "source": [
        "## Pair Sums\n",
        "Given a list of n integers arr[0..(n-1)], determine the number of different pairs of elements within it which sum to k.\n",
        "If an integer appears in the list multiple times, each copy is considered to be different; that is, two pairs are considered different if one pair includes at least one array index which the other doesn't, even if they include the same values."
      ]
    },
    {
      "cell_type": "code",
      "metadata": {
        "id": "ScD1tfr9LoaR"
      },
      "source": [
        "import math\n",
        "# Add any extra import statements you may need here\n",
        "\n",
        "from collections import Counter\n",
        "# Add any helper functions you may need here\n",
        "\n",
        "\n",
        "def numberOfWays(arr, k):\n",
        "  h = {}\n",
        "  c = Counter(arr)\n",
        "  l =[]\n",
        "  print(c)\n",
        "  counter = 0\n",
        "  for i in range(len(arr)):\n",
        "    diff = k - arr[i]\n",
        "    if diff == arr[i] and c[diff]>1:\n",
        "      l.append([arr[i],diff])\n",
        "      counter+=c[diff]-1\n",
        "    elif diff in c and diff != arr[i] and c[diff]>1:\n",
        "      l.append([arr[i],diff])\n",
        "      counter+=c[diff]\n",
        "    elif diff in c and diff != arr[i] and c[diff]==1:\n",
        "      counter+=1\n",
        "  print(l)\n",
        "  return math.ceil(counter//2)"
      ],
      "execution_count": null,
      "outputs": []
    },
    {
      "cell_type": "markdown",
      "metadata": {
        "id": "Il7XrqyKEbe4"
      },
      "source": [
        "## 721: Accounts Merge\n",
        "Given a list accounts, each element accounts[i] is a list of strings, where the first element accounts[i][0] is a name, and the rest of the elements are emails representing emails of the account.\n",
        "\n",
        "Now, we would like to merge these accounts. Two accounts definitely belong to the same person if there is some email that is common to both accounts. Note that even if two accounts have the same name, they may belong to different people as people could have the same name. A person can have any number of accounts initially, but all of their accounts definitely have the same name.\n",
        "\n",
        "After merging the accounts, return the accounts in the following format: the first element of each account is the name, and the rest of the elements are emails in sorted order. The accounts themselves can be returned in any order."
      ]
    },
    {
      "cell_type": "markdown",
      "metadata": {
        "id": "vF6nMxzPXYm5"
      },
      "source": [
        "##227: Basic Calculator II\n",
        "Implement a basic calculator to evaluate a simple expression string.\n",
        "\n",
        "The expression string contains only non-negative integers, +, -, *, / operators and empty spaces . The integer division should truncate toward zero."
      ]
    },
    {
      "cell_type": "code",
      "metadata": {
        "id": "XtjtC8fpDuxN"
      },
      "source": [
        "class Solution:\n",
        "    def calculate(self, s: str) -> int:\n",
        "        num, stack, sign = 0, [], \"+\"\n",
        "        for i in range(len(s)):\n",
        "          if s[i].isdigit():\n",
        "                num = num * 10 + int(s[i])\n",
        "          if s[i] in \"+-*/\" or i == len(s) - 1:\n",
        "                if sign == \"+\":\n",
        "                    stack.append(num)\n",
        "                elif sign == \"-\":\n",
        "                    stack.append(-num)\n",
        "                elif sign == \"*\":\n",
        "                    stack.append(stack.pop()*num)\n",
        "                else:\n",
        "                    stack.append(int(stack.pop()/num))\n",
        "                num = 0\n",
        "                sign = s[i]\n",
        "        return sum(stack)\n",
        "    \n",
        "\n",
        "            \n",
        "\n",
        "    def calculate_practice(self,s):\n",
        "      '''\n",
        "focus on the previous sign, you can split the whole string where \n",
        "we notice + or - sign\n",
        "'''\n",
        "\n",
        "      num,stack,previous_sign = 0,[],\"+\" \n",
        "      for i in range(len(s)):\n",
        "        if s[i].isdigit():\n",
        "          num = num * 10 + int(s[i])\n",
        "\n",
        "        if s[i] in '+-*/' or i == len(s) -1:\n",
        "          if previous_sign == '+':     \n",
        "            stack.append(num)\n",
        "          elif previous_sign == '-':\n",
        "            stack.append(-num)\n",
        "          elif previous_sign == '*':\n",
        "            stack.append(stack.pop()*num)\n",
        "          else:\n",
        "            stack.append(int(stack.pop()/num))\n",
        "\n",
        "          num = 0\n",
        "          previous_sign = s[i]\n",
        "\n",
        "      return sum(stack)\n",
        "\n",
        "        "
      ],
      "execution_count": null,
      "outputs": []
    },
    {
      "cell_type": "code",
      "metadata": {
        "id": "oOgXNJg6ZBby"
      },
      "source": [
        "a = Solution()"
      ],
      "execution_count": null,
      "outputs": []
    },
    {
      "cell_type": "code",
      "metadata": {
        "id": "jRqCD73iZLzr"
      },
      "source": [
        "assert a.calculate(\"3+2-4/5*6/2+3*4-2\") == a.calculate_practice(\"3+2-4/5*6/2+3*4-2\")"
      ],
      "execution_count": null,
      "outputs": []
    },
    {
      "cell_type": "markdown",
      "metadata": {
        "id": "T2_hHbxjiLpo"
      },
      "source": [
        "## 523: Continuous Subarray Sum\n",
        "Given a list of non-negative numbers and a target integer k, write a function to check if the array has a continuous subarray of size at least 2 that sums up to a multiple of k, that is, sums up to n*k where n is also an integer.\n",
        "\n"
      ]
    },
    {
      "cell_type": "code",
      "metadata": {
        "id": "lpTVylI-vmJt"
      },
      "source": [
        "class Solution:\n",
        "    def checkSubarraySum(self, nums, k) :\n",
        "        prefix = 0 # prefix modulo \n",
        "        seen = {0: -1}\n",
        "        for i, x in enumerate(nums): \n",
        "            prefix += x\n",
        "            if k: prefix %= k\n",
        "            if prefix in seen and i - seen[prefix] >= 2: return True \n",
        "            seen.setdefault(prefix, i)\n",
        "        return False \n",
        "\n",
        "\n",
        "    \n",
        "    def checking(self,nums,k):\n",
        "      prefix = 0\n",
        "      seen = {0: -1}\n",
        "\n",
        "      for idx,char in enumerate(nums):\n",
        "        prefix += char #incrementing sum\n",
        "        print(prefix)\n",
        "        if k: \n",
        "          prefix = prefix %k #setting to modulus only\n",
        "        if prefix in seen and idx - seen[prefix] >= 2:\n",
        "          return True\n",
        "\n",
        "        seen.setdefault(prefix, idx)\n",
        "\n",
        "      return False"
      ],
      "execution_count": null,
      "outputs": []
    },
    {
      "cell_type": "code",
      "metadata": {
        "id": "h_Az2ZKL4n1b"
      },
      "source": [
        "a = Solution()"
      ],
      "execution_count": null,
      "outputs": []
    },
    {
      "cell_type": "code",
      "metadata": {
        "id": "IU0gf5b34yAj",
        "colab": {
          "base_uri": "https://localhost:8080/",
          "height": 35
        },
        "outputId": "468cc185-af72-4054-b90b-070c7401263c"
      },
      "source": [
        "a.checkSubarraySum([23,2,4,6,7],12) "
      ],
      "execution_count": null,
      "outputs": [
        {
          "output_type": "execute_result",
          "data": {
            "text/plain": [
              "True"
            ]
          },
          "metadata": {
            "tags": []
          },
          "execution_count": 3
        }
      ]
    },
    {
      "cell_type": "code",
      "metadata": {
        "id": "N8fBwm6K40-Z",
        "colab": {
          "base_uri": "https://localhost:8080/",
          "height": 107
        },
        "outputId": "bfb6d9f3-224b-4f6a-8117-0633e55aadb8"
      },
      "source": [
        "a.checking([23,2,4,6,7],12)"
      ],
      "execution_count": null,
      "outputs": [
        {
          "output_type": "stream",
          "text": [
            "23\n",
            "13\n",
            "5\n",
            "11\n"
          ],
          "name": "stdout"
        },
        {
          "output_type": "execute_result",
          "data": {
            "text/plain": [
              "True"
            ]
          },
          "metadata": {
            "tags": []
          },
          "execution_count": 4
        }
      ]
    },
    {
      "cell_type": "code",
      "metadata": {
        "id": "DduJsmj-6AZp",
        "colab": {
          "base_uri": "https://localhost:8080/",
          "height": 89
        },
        "outputId": "a958489a-ea9a-40ab-d8ae-f444b44b77e0"
      },
      "source": [
        "assert a.checkSubarraySum([23,2,4,6,7],12)  == a.checking([23,2,4,6,7],12)"
      ],
      "execution_count": null,
      "outputs": [
        {
          "output_type": "stream",
          "text": [
            "23\n",
            "13\n",
            "5\n",
            "11\n"
          ],
          "name": "stdout"
        }
      ]
    },
    {
      "cell_type": "markdown",
      "metadata": {
        "id": "q6NhdNOY0Mvv"
      },
      "source": [
        "## 102: Binary Tree Level Order Traversal\n",
        "Given a binary tree, return the level order traversal of its nodes' values. (ie, from left to right, level by level).\n",
        "\n",
        "BFS\n",
        "Time and space complexity\n",
        "The time complexity can be expressed as {\\displaystyle O(|V|+|E|)}O(|V|+|E|), since every vertex and every edge will be explored in the worst case. {\\displaystyle |V|}|V| is the number of vertices and {\\displaystyle |E|}|E| is the number of edges in the graph. Note that {\\displaystyle O(|E|)}O(|E|) may vary between {\\displaystyle O(1)}O(1) and {\\displaystyle O(|V|^{2})}O(|V|^{2}), depending on how sparse the input graph is.[9]\n",
        "\n",
        "When the number of vertices in the graph is known ahead of time, and additional data structures are used to determine which vertices have already been added to the queue, the space complexity can be expressed as {\\displaystyle O(|V|)}O(|V|), where {\\displaystyle |V|}|V| is the number of vertices. This is in addition to the space required for the graph itself, which may vary depending on the graph representation used by an implementation of the algorithm.\n",
        "\n"
      ]
    },
    {
      "cell_type": "code",
      "metadata": {
        "id": "wiSKvTX96T6d"
      },
      "source": [
        "# Definition for a binary tree node.\n",
        "class TreeNode:\n",
        "     def __init__(self, val=0, left=None, right=None):\n",
        "         self.val = val\n",
        "         self.left = left\n",
        "         self.right = right\n",
        "class Solution:\n",
        "    def levelOrder(self, root: TreeNode):\n",
        "        if not root:\n",
        "            return []\n",
        "        \n",
        "        level_list = []\n",
        "        queue = []\n",
        "        queue.append(root)\n",
        "        \n",
        "        while len(queue):\n",
        "            current_level = []\n",
        "            \n",
        "            layer_size = len(queue)\n",
        "            \n",
        "            \n",
        "            for i in range(layer_size):\n",
        "                current_node = queue.pop(0)\n",
        "                current_level.append(current_node.val)\n",
        "                \n",
        "                if current_node.left:\n",
        "                    queue.append(current_node.left)\n",
        "                    \n",
        "                if current_node.right:\n",
        "                    queue.append(current_node.right)\n",
        "            level_list.append(current_level)\n",
        "            \n",
        "        return level_list\n",
        "                \n",
        "            "
      ],
      "execution_count": null,
      "outputs": []
    },
    {
      "cell_type": "markdown",
      "metadata": {
        "id": "5eoJI1ACHJ-L"
      },
      "source": [
        "## 104: Maximum Depth of Binary Tree\n",
        "Given a binary tree, find its maximum depth.\n",
        "\n",
        "The maximum depth is the number of nodes along the longest path from the root node down to the farthest leaf node.\n",
        "\n",
        "Note: A leaf is a node with no children."
      ]
    },
    {
      "cell_type": "code",
      "metadata": {
        "id": "FgK2MAqV0Wny"
      },
      "source": [
        "# Definition for a binary tree node.\n",
        "class TreeNode:\n",
        "     def __init__(self, val=0, left=None, right=None):\n",
        "         self.val = val\n",
        "         self.left = left\n",
        "         self.right = right\n",
        "class Solution:\n",
        "    def maxDepth(self, node: TreeNode) -> int:\n",
        "        if not node:\n",
        "            return 0\n",
        "        \n",
        "        return max(self.maxDepth(node.left) + 1, self.maxDepth(node.right) + 1)\n",
        "        "
      ],
      "execution_count": null,
      "outputs": []
    },
    {
      "cell_type": "markdown",
      "metadata": {
        "id": "3J2fIoMYI9Hi"
      },
      "source": [
        "## 111: Minimum Depth of Binary Tree\n",
        "Given a binary tree, find its minimum depth.\n",
        "\n",
        "The minimum depth is the number of nodes along the shortest path from the root node down to the nearest leaf node.\n",
        "\n",
        "Note: A leaf is a node with no children."
      ]
    },
    {
      "cell_type": "code",
      "metadata": {
        "id": "pfZZBf-5HWKs"
      },
      "source": [
        "# Definition for a binary tree node.\n",
        "class TreeNode:\n",
        "     def __init__(self, val=0, left=None, right=None):\n",
        "         self.val = val\n",
        "         self.left = left\n",
        "         self.right = right\n",
        "class Solution:\n",
        "    def minDepth(self, root: TreeNode) -> int:\n",
        "        if not root:\n",
        "            return 0\n",
        "        \n",
        "        queue = [root]\n",
        "        depth = 0\n",
        "        \n",
        "        while queue:\n",
        "            clevel = []\n",
        "            \n",
        "            for i in range(len(queue)):\n",
        "                c = queue.pop(0)\n",
        "                \n",
        "                if not c.left and not c.right:\n",
        "                    depth+= 1\n",
        "                    return depth\n",
        "                    \n",
        "                if c.left:\n",
        "                    queue.append(c.left)\n",
        "                    \n",
        "                if c.right:\n",
        "                    queue.append(c.right)\n",
        "                    \n",
        "            depth+=1\n",
        "                \n",
        "        return depth"
      ],
      "execution_count": null,
      "outputs": []
    },
    {
      "cell_type": "markdown",
      "metadata": {
        "id": "1oBkUg8Vivju"
      },
      "source": [
        "## 987: Vertical Order Traversal of a Binary Tree\n",
        "Given a binary tree, return the vertical order traversal of its nodes values.\n",
        "\n",
        "For each node at position (X, Y), its left and right children respectively will be at positions (X-1, Y-1) and (X+1, Y-1).\n",
        "\n",
        "Running a vertical line from X = -infinity to X = +infinity, whenever the vertical line touches some nodes, we report the values of the nodes in order from top to bottom (decreasing Y coordinates).\n",
        "\n",
        "If two nodes have the same position, then the value of the node that is reported first is the value that is smaller.\n",
        "\n",
        "Return an list of non-empty reports in order of X coordinate.  Every report will have a list of values of nodes."
      ]
    },
    {
      "cell_type": "code",
      "metadata": {
        "id": "0KQ8HMJ0I7vd"
      },
      "source": [
        "# Definition for a binary tree node.\n",
        "class TreeNode:\n",
        "     def __init__(self, val=0, left=None, right=None):\n",
        "         self.val = val\n",
        "         self.left = left\n",
        "         self.right = right\n",
        "class Solution:\n",
        "    \n",
        "    def verticalOrder(self, root, h_dist, v_dist, values):\n",
        "            if not root:\n",
        "                return\n",
        "            \n",
        "            if h_dist in values:\n",
        "                values[h_dist].append((v_dist, root.val))\n",
        "            else:\n",
        "                values[h_dist] = [(v_dist, root.val)]\n",
        "                \n",
        "            self.verticalOrder(root.left, h_dist - 1, v_dist + 1, values)\n",
        "            self.verticalOrder(root.right, h_dist + 1, v_dist + 1, values)\n",
        "            \n",
        "    def verticalTraversal(self, root: TreeNode):\n",
        "        v_dist = 0\n",
        "        h_dist = 0\n",
        "        values = {}  \n",
        "        result = []\n",
        "        \n",
        "        self.verticalOrder(root, h_dist, v_dist, values)\n",
        "        \n",
        "        for x in sorted(values.keys()):\n",
        "            column = [i[1] for i in sorted(values[x])]\n",
        "            result.append(column)\n",
        "\n",
        "        return result       \n"
      ],
      "execution_count": null,
      "outputs": []
    },
    {
      "cell_type": "markdown",
      "metadata": {
        "id": "iabZ2dHUewFt"
      },
      "source": [
        "## 49: Group Anagrams\n",
        "Given an array of strings strs, group the anagrams together. You can return the answer in any order.\n",
        "\n",
        "An Anagram is a word or phrase formed by rearranging the letters of a different word or phrase, typically using all the original letters exactly once.\n",
        "\n"
      ]
    },
    {
      "cell_type": "code",
      "metadata": {
        "id": "ydhkpt9oiq-e"
      },
      "source": [
        "class Solution:\n",
        "    def groupAnagrams(self, strs):\n",
        "        h = {}\n",
        "        \n",
        "        for i in strs:\n",
        "            ss = \"\".join(sorted(i))\n",
        "            if ss in h:\n",
        "                h[ss].append(i)\n",
        "                \n",
        "            else:\n",
        "                h[ss] = [i]\n",
        "              \n",
        "            \n",
        "        return h.values()"
      ],
      "execution_count": null,
      "outputs": []
    },
    {
      "cell_type": "markdown",
      "metadata": {
        "id": "-xp_C7MIRNWD"
      },
      "source": [
        "##3: Longest Substring without repeating\n",
        "Given a string s, return the length of the longest substring of s without repeating characters."
      ]
    },
    {
      "cell_type": "code",
      "metadata": {
        "id": "T-Sqio4_e4zN"
      },
      "source": [
        "def substring(s):\n",
        "  h={}\n",
        "  maxlen=start=0\n",
        "\n",
        "  for index,char in enumerate(s):\n",
        "    if char in h and start <= h[char]:\n",
        "      start=h[char]+1\n",
        "    else:\n",
        "      maxlen = max(maxlen, index-start+1)\n",
        "    h[char]= index\n",
        "\n",
        "  return maxlen"
      ],
      "execution_count": null,
      "outputs": []
    },
    {
      "cell_type": "markdown",
      "metadata": {
        "id": "pSpi-vf7BImE"
      },
      "source": [
        "##48: Rotate Image\n",
        "\n",
        "You are given an n x n 2D matrix representing an image, rotate the image by 90 degrees (clockwise).\n",
        "\n",
        "You have to rotate the image in-place, which means you have to modify the input 2D matrix directly. DO NOT allocate another 2D matrix and do the rotation."
      ]
    },
    {
      "cell_type": "code",
      "metadata": {
        "id": "BahMdSW-RYmq"
      },
      "source": [
        "class Solution:\n",
        "  def rotateimage(self,n):\n",
        "    n.reverse()\n",
        "\n",
        "    for i in range(len(n)):\n",
        "      for j in range(i):\n",
        "        n[i][j],n[j][i] = n[j][i],n[i][j]\n",
        "\n",
        "\n",
        "    return n\n",
        "\n",
        "\n",
        "  def antirotate(self,n):\n",
        "    for i in range(len(n)):\n",
        "      for j in range(i):\n",
        "        n[i][j],n[j][i] = n[j][i],n[i][j]\n",
        "\n",
        "    n.reverse()\n",
        "\n",
        "    return n\n",
        "\n"
      ],
      "execution_count": null,
      "outputs": []
    },
    {
      "cell_type": "code",
      "metadata": {
        "id": "CpNSPOyaBjT4"
      },
      "source": [
        "a= Solution()"
      ],
      "execution_count": null,
      "outputs": []
    },
    {
      "cell_type": "code",
      "metadata": {
        "id": "IdFOw-VcBmCx",
        "colab": {
          "base_uri": "https://localhost:8080/"
        },
        "outputId": "6a15a540-96f8-40d2-a6be-5838715e26bf"
      },
      "source": [
        "print(a.rotateimage([[1,2,3],[4,5,6],[7,8,9]]))"
      ],
      "execution_count": null,
      "outputs": [
        {
          "output_type": "stream",
          "text": [
            "[[7, 4, 1], [8, 5, 2], [9, 6, 3]]\n"
          ],
          "name": "stdout"
        }
      ]
    },
    {
      "cell_type": "code",
      "metadata": {
        "id": "0hsYJxdmBs41",
        "colab": {
          "base_uri": "https://localhost:8080/"
        },
        "outputId": "3c64c624-964c-4cdf-f241-85a05db76790"
      },
      "source": [
        "a.antirotate([[7, 4, 1], [8, 5, 2], [9, 6, 3]])"
      ],
      "execution_count": null,
      "outputs": [
        {
          "output_type": "execute_result",
          "data": {
            "text/plain": [
              "[[1, 2, 3], [4, 5, 6], [7, 8, 9]]"
            ]
          },
          "metadata": {
            "tags": []
          },
          "execution_count": 16
        }
      ]
    },
    {
      "cell_type": "markdown",
      "metadata": {
        "id": "wBIQ7muBOwhO"
      },
      "source": [
        "##19: Remove Nth Node From End of List\n",
        "Given the head of a linked list, remove the nth node from the end of the list and return its head.\n",
        "\n",
        "Follow up: Could you do this in one pass?"
      ]
    },
    {
      "cell_type": "code",
      "metadata": {
        "id": "WlQ1b9JUCKwf"
      },
      "source": [
        "# Definition for singly-linked list.\n",
        "class ListNode:\n",
        "     def __init__(self, val=0, next=None):\n",
        "         self.val = val\n",
        "         self.next = next\n",
        "class Solution:\n",
        "    def removeNthFromEnd(self, head: ListNode, n: int) -> ListNode:\n",
        "        right, left = head,head # start at the same node, two pointers\n",
        "        \n",
        "        for i in range(n):         #move this pointer ahead by \n",
        "            right = right.next\n",
        "            \n",
        "        if not right:            #this is in case of removing the head\n",
        "            return head.next\n",
        "        \n",
        "        while right.next:\n",
        "            left = left.next\n",
        "            right = right.next\n",
        "            \n",
        "        left.next = left.next.next\n",
        "      \n",
        "        return head"
      ],
      "execution_count": null,
      "outputs": []
    },
    {
      "cell_type": "markdown",
      "metadata": {
        "id": "8yX3hug6c9ST"
      },
      "source": [
        "## Find three largest numbers"
      ]
    },
    {
      "cell_type": "code",
      "metadata": {
        "id": "-q6IuTfRO6w3"
      },
      "source": [
        "def findThreeLargestNumbers(array):\n",
        "  l = [None]*3\n",
        "  for i in range(len(array)):\n",
        "    if l[2] is None or array[i] > l[2]:\n",
        "      shiftup(l,array[i],2)\n",
        "    elif l[1] is None or array[i] > l[1]:\n",
        "      shiftup(l,array[i],1)\n",
        "    elif l[0] is None or array[i] > l[0]:\n",
        "      shiftup(l,array[i],0)\n",
        "    \n",
        "  return l\n",
        "\t\t\t\n",
        "def shiftup(array,num,idx):\n",
        "\tfor i in range(idx+1):\n",
        "\t\tif i == idx:\n",
        "\t\t\tarray[i] = num\n",
        "\t\telse:\n",
        "\t\t\tarray[i] = array[i+1]"
      ],
      "execution_count": null,
      "outputs": []
    },
    {
      "cell_type": "code",
      "metadata": {
        "id": "KfzsfOHbdDZy",
        "colab": {
          "base_uri": "https://localhost:8080/"
        },
        "outputId": "6374c486-6d4b-4dc5-c406-65b894e1434b"
      },
      "source": [
        "findThreeLargestNumbers([141, 1, 17, -7, -17, -27, 18, 541, 8, 7, 7])"
      ],
      "execution_count": null,
      "outputs": [
        {
          "output_type": "execute_result",
          "data": {
            "text/plain": [
              "[18, 141, 541]"
            ]
          },
          "metadata": {
            "tags": []
          },
          "execution_count": 18
        }
      ]
    },
    {
      "cell_type": "markdown",
      "metadata": {
        "id": "7HupuSoI7aor"
      },
      "source": [
        "## 249: Group Shifted Strings\n",
        "Given a string, we can \"shift\" each of its letter to its successive letter, for example: \"abc\" -> \"bcd\". We can keep \"shifting\" which forms the sequence:\n",
        "\n",
        "Tuples are immutable and not supposed to be changed - that is what the list type is for. You could replace each tuple by originalTuple + (newElement,), thus creating a new tuple. For example:"
      ]
    },
    {
      "cell_type": "code",
      "metadata": {
        "id": "JwXhjNSddRsz"
      },
      "source": [
        "import collections\n",
        "class Solution:\n",
        "    def groupStrings(self, strings):\n",
        "        groups = collections.defaultdict(list)\n",
        "        \n",
        "        for s in strings:\n",
        "            pattern = ()\n",
        "            for i in range(1,len(s)):\n",
        "                pattern += ((ord(s[i]) - ord(s[i-1]) + 26 ) % 26,)\n",
        "      \n",
        "            groups[ pattern ].append(s)\n",
        "        \n",
        "        return groups.values()"
      ],
      "execution_count": null,
      "outputs": []
    },
    {
      "cell_type": "code",
      "metadata": {
        "id": "_qlqSKtOYkke"
      },
      "source": [
        "a=Solution()"
      ],
      "execution_count": null,
      "outputs": []
    },
    {
      "cell_type": "code",
      "metadata": {
        "id": "IDL8cqjWYlte",
        "colab": {
          "base_uri": "https://localhost:8080/"
        },
        "outputId": "3f085ffd-122b-413b-d343-12382ed7a69f"
      },
      "source": [
        "a.groupStrings([\"abc\",\"bcd\",\"acef\",\"xyz\",\"az\",\"ba\",\"a\",\"z\"])"
      ],
      "execution_count": null,
      "outputs": [
        {
          "output_type": "execute_result",
          "data": {
            "text/plain": [
              "dict_values([['abc', 'bcd', 'xyz'], ['acef'], ['az', 'ba'], ['a', 'z']])"
            ]
          },
          "metadata": {
            "tags": []
          },
          "execution_count": 16
        }
      ]
    },
    {
      "cell_type": "markdown",
      "metadata": {
        "id": "Tz0p_Yr0YE-b"
      },
      "source": [
        "## Passing Yearbooks\n",
        "There are n students, numbered from 1 to n, each with their own yearbook. They would like to pass their yearbooks around and get them signed by other students.\n",
        "You're given a list of n integers arr[1..n], which is guaranteed to be a permutation of 1..n (in other words, it includes the integers from 1 to n exactly once each, in some order). The meaning of this list is described below."
      ]
    },
    {
      "cell_type": "code",
      "metadata": {
        "id": "P7kh2TyqOKKm"
      },
      "source": [
        "def findSignatureCounts(arr):\n",
        "  # Write your code here\n",
        "  output=[]\n",
        "  for i,x in enumerate(arr,1):\n",
        "    next = arr[x-1]\n",
        "    count = 0\n",
        "    while arr[next-1] != i:\n",
        "        count += 1\n",
        "        next = arr[next-1]\n",
        "        print(i, x, next, count)\n",
        "    output.append(count + 1)\n",
        "    \n",
        "  return output\n",
        "  "
      ],
      "execution_count": null,
      "outputs": []
    },
    {
      "cell_type": "markdown",
      "metadata": {
        "id": "eIdedNIeeYPO"
      },
      "source": [
        "## Revenue Milestones\n",
        "We keep track of the revenue Facebook makes every day, and we want to know on what days Facebook hits certain revenue milestones. Given an array of the revenue on each day, and an array of milestones Facebook wants to reach, return an array containing the days on which Facebook reached every milestone.\n",
        "Signature\n",
        "int[] getMilestoneDays(int[] revenues, int[] milestones)\n",
        "Input\n",
        "revenues is a length-N array representing how much revenue FB made on each day (from day 1 to day N). milestones is a length-K array of total revenue milestones.\n",
        "Output\n",
        "Return a length-K array where K_i is the day on which FB first had milestones[i] total revenue. If the milestone is never met, return -1.\n",
        "Example\n",
        "revenues = [10, 20, 30, 40, 50, 60, 70, 80, 90, 100]\n",
        "milestones = [100, 200, 500]\n",
        "output = [4, 6, 10]"
      ]
    },
    {
      "cell_type": "code",
      "metadata": {
        "id": "dhxg6BRCeXeE"
      },
      "source": [
        "\n",
        "def getMilestoneDays(revenues, milestones):\n",
        "  # Write your code here\n",
        "  sumt = 0\n",
        "  l = []\n",
        "  k = 0\n",
        "  h ={}\n",
        "  \n",
        "\n",
        "\n",
        "  m = sorted(milestones)\n",
        "\n",
        "  \n",
        "  for i in range(len(revenues)):\n",
        "    sumt += revenues[i]\n",
        "\n",
        "    while k < len(milestones) and sumt >= m[k]:\n",
        "      h[m[k]] = i+1\n",
        "      k += 1\n",
        "    \n",
        "  for j in milestones:\n",
        "    l.append(h[j])\n",
        "\n",
        "      \n",
        "  return l"
      ],
      "execution_count": null,
      "outputs": []
    },
    {
      "cell_type": "markdown",
      "metadata": {
        "id": "r_XOJk3ln_wb"
      },
      "source": [
        "##1 Billion Users\n",
        "We have N different apps with different user growth rates. At a given time t, measured in days, the number of users using an app is g^t (for simplicity we'll allow fractional users), where g is the growth rate for that app. These apps will all be launched at the same time and no user ever uses more than one of the apps. We want to know how many total users there are when you add together the number of users from each app.\n",
        "After how many full days will we have 1 billion total users across the N apps?\n",
        "\n",
        "Signature\n",
        "int getBillionUsersDay(float[] growthRates)\n",
        "Input\n",
        "1.0 < growthRate < 2.0 for all growth rates\n",
        "1 <= N <= 1,000\n",
        "\n",
        "Output\n",
        "Return the number of full days it will take before we have a total of 1 billion users across all N apps.\n",
        "\n",
        "Example 1\n",
        "\n",
        "growthRates = [1.5]\n",
        "\n",
        "output = 52"
      ]
    },
    {
      "cell_type": "code",
      "metadata": {
        "id": "G8BfeKNmn-xx"
      },
      "source": [
        "import math\n",
        "# Add any extra import statements you may need here\n",
        "\n",
        "\n",
        "# Add any helper functions you may need here\n",
        "\n",
        "\n",
        "def getBillionUsersDay(growthRates):\n",
        "  # Write your code here\n",
        "  start = math.ceil(math.log10((10**9) / len(growthRates)) / math.log10(max(growthRates)))\n",
        "  end = math.ceil(math.log10((10**9) / len(growthRates)) / math.log10(min(growthRates)))\n",
        "  b = 10**9\n",
        "  print(start,end)\n",
        "  while start < end:\n",
        "      mid = (start + end) // 2\n",
        "      gr_1 = sum([i ** mid for i in growthRates])\n",
        "      gr_2 = sum([i ** (mid + 1) for i in growthRates])\n",
        "      if gr_1 < b and gr_2 > b:\n",
        "          return mid + 1\n",
        "      elif gr_1 < b:\n",
        "          start = mid\n",
        "      else:\n",
        "          end = mid - 1\n",
        "\n",
        "\n",
        "\n"
      ],
      "execution_count": null,
      "outputs": []
    },
    {
      "cell_type": "code",
      "metadata": {
        "colab": {
          "base_uri": "https://localhost:8080/"
        },
        "id": "NJXHe5iyn_M4",
        "outputId": "85552fc6-f509-4948-8768-2ad3786dd536"
      },
      "source": [
        "test_1 = [1.1, 1.2, 1.3]\n",
        "expected_1 = 79\n",
        "output_1 = getBillionUsersDay(test_1)\n",
        "print(output_1)"
      ],
      "execution_count": null,
      "outputs": [
        {
          "output_type": "stream",
          "text": [
            "75 206\n",
            "79\n"
          ],
          "name": "stdout"
        }
      ]
    },
    {
      "cell_type": "markdown",
      "metadata": {
        "id": "KrDYw8LOYOuM"
      },
      "source": [
        "## 560: Subarray Sum Equals K\n",
        "Given an array of integers nums and an integer k, return the total number of continuous subarrays whose sum equals to k.\n",
        "\n",
        " \n",
        "\n",
        "Example 1:\n",
        "\n",
        "Input: nums = [1,1,1], k = 2\n",
        "Output: 2"
      ]
    },
    {
      "cell_type": "code",
      "metadata": {
        "id": "VSoDF3INo3WN"
      },
      "source": [
        "class Solution:\n",
        "    def subarraySum(self, nums: List[int], k: int) -> int:\n",
        "        # store the count of each sum in dictionary so we can check for specific values in O(1)\n",
        "        sum_count = defaultdict(int)\n",
        "        # initialize counter and sum\n",
        "        count = 0\n",
        "        current_sum = 0\n",
        "        # loop over numbers in list\n",
        "        for num in nums:\n",
        "            # calculate sum until current number\n",
        "            current_sum += num\n",
        "            # check if we have seen a number x that could be subtracted from the current value to result in k\n",
        "            # k = current_sum - x  --( x -k)-->  x = current_Sum - k\n",
        "            # add number of occurrences of x to counter, or 0 if no such sum exists\n",
        "            count += sum_count[current_sum - k]\n",
        "            # update sum counter\n",
        "            sum_count[current_sum] += 1\n",
        "        # check if any of the sums from the first to any other position in the list match k\n",
        "        count += sum_count[k]\n",
        "        # return count value\n",
        "        return count"
      ],
      "execution_count": null,
      "outputs": []
    },
    {
      "cell_type": "markdown",
      "metadata": {
        "id": "MPXnSNm4QgJe"
      },
      "source": [
        "## 285: Inorder Successor in BST\n",
        "\n",
        "Only in a balanced BST O(h) = O(log n). In the worst case h can be as large as n.\n",
        "\n"
      ]
    },
    {
      "cell_type": "code",
      "metadata": {
        "id": "U02OVl4ZQcbT"
      },
      "source": [
        "# Definition for a binary tree node.\n",
        "# class TreeNode:\n",
        "#     def __init__(self, x):\n",
        "#         self.val = x\n",
        "#         self.left = None\n",
        "#         self.right = None\n",
        "\n",
        "class Solution:\n",
        "    def inorderSuccessor(self, node: 'TreeNode', p: 'TreeNode') -> 'TreeNode':\n",
        "        succ = None\n",
        "        while node:\n",
        "            if node.val > p.val:\n",
        "                succ = node\n",
        "                node = node.left\n",
        "                \n",
        "            else:\n",
        "                \n",
        "                node = node.right\n",
        "                \n",
        "        return succ\n",
        "                "
      ],
      "execution_count": null,
      "outputs": []
    },
    {
      "cell_type": "markdown",
      "metadata": {
        "id": "PAeS6Spia0V-"
      },
      "source": [
        "##98: Validate Binary Search Tree -- 20\n",
        "Given the root of a binary tree, determine if it is a valid binary search tree (BST).\n",
        "\n",
        "A valid BST is defined as follows:\n",
        "\n",
        "The left subtree of a node contains only nodes with keys less than the node's key.\n",
        "The right subtree of a node contains only nodes with keys greater than the node's key.\n",
        "Both the left and right subtrees must also be binary search trees."
      ]
    },
    {
      "cell_type": "code",
      "metadata": {
        "id": "MKJ_2msqatLH"
      },
      "source": [
        "# Definition for a binary tree node.\n",
        "# class TreeNode:\n",
        "#     def __init__(self, val=0, left=None, right=None):\n",
        "#         self.val = val\n",
        "#         self.left = left\n",
        "#         self.right = right\n",
        "class Solution:\n",
        "    def isValidBST(self, root: TreeNode,lo=float('-inf'), hi=float('inf')) -> bool:\n",
        "      if not root:\n",
        "        return True\n",
        "\n",
        "      if not li < root.val < hi:\n",
        "        return False\n",
        "\n",
        "      return self.isValidBST(root.left,lo,root.val) and self.isValidBST(root.right,root.val,hi)"
      ],
      "execution_count": null,
      "outputs": []
    },
    {
      "cell_type": "markdown",
      "metadata": {
        "id": "gR3kbATIH0wt"
      },
      "source": [
        "## 1245: Tree Diameter"
      ]
    },
    {
      "cell_type": "code",
      "metadata": {
        "id": "4N-2ouJKEZFF"
      },
      "source": [
        "#TIme complexity for both the given solutions --> O(V+E)\n",
        "#Space complexity for both the given solutions --> O(V+E)\n",
        "\n",
        "#DFS Solution:\n",
        "from collections import defaultdict\n",
        "class Solution:\n",
        "    def __init__(self):\n",
        "        self.maxlength=0\n",
        "        self.furthestnode=-1\n",
        "    def dfs(self,index,parent,length,adjList):\n",
        "        \n",
        "        if length>self.maxlength:\n",
        "            self.maxlength=length\n",
        "            self.furthestnode=index\n",
        "\n",
        "        for neig in adjList[index]:\n",
        "            if neig!=parent:\n",
        "                self.dfs(neig,index,length+1,adjList)\n",
        "\n",
        "    def treeDiameter(self, edges: List[List[int]]) -> int:\n",
        "        adjList=defaultdict(list)\n",
        "        \n",
        "        for edge in edges:\n",
        "            adjList[edge[0]].append(edge[1])\n",
        "            adjList[edge[1]].append(edge[0])\n",
        "        \n",
        "        self.dfs(0,-1,0,adjList)\n",
        "        \n",
        "        self.dfs(self.furthestnode,-1,0,adjList)\n",
        "        \n",
        "        return self.maxlength\n",
        "\t\t\n",
        "#BFS Solution:\n",
        "from collections import defaultdict,deque\n",
        "class Solution:\n",
        "    def __init__(self):\n",
        "        self.maxlength=0\n",
        "        self.furthestnode=-1\n",
        "    def bfs(self,index,adjList):\n",
        "        queue=deque([])\n",
        "        queue.append(index)\n",
        "        length=0\n",
        "        visited=set()\n",
        "        visited.add(index)\n",
        "        while len(queue)>0:\n",
        "            size=len(queue)\n",
        "            length+=1\n",
        "            for i in range(size):\n",
        "                index=queue.popleft()\n",
        "                for neig in adjList[index]:\n",
        "                    if neig not in visited:\n",
        "                        visited.add(neig)\n",
        "                        queue.append(neig)\n",
        "        self.maxlength=length-1\n",
        "        self.furthestnode=index\n",
        "\n",
        "\n",
        "    def treeDiameter(self, edges: List[List[int]]) -> int:\n",
        "        adjList=defaultdict(list)\n",
        "        \n",
        "        for edge in edges:\n",
        "            adjList[edge[0]].append(edge[1])\n",
        "            adjList[edge[1]].append(edge[0])\n",
        "        \n",
        "        self.bfs(0,adjList)\n",
        "        \n",
        "        self.bfs(self.furthestnode,adjList)\n",
        "        \n",
        "        return self.maxlength\n",
        "\n"
      ],
      "execution_count": null,
      "outputs": []
    },
    {
      "cell_type": "markdown",
      "metadata": {
        "id": "AYOVdIvQL3a6"
      },
      "source": [
        "##199: Binary Tree Right Side View\n",
        "\n",
        "Given a binary tree, imagine yourself standing on the right side of it, return the values of the nodes you can see ordered from top to bottom.\n",
        "\n"
      ]
    },
    {
      "cell_type": "code",
      "metadata": {
        "id": "rtaEmd3BL21_"
      },
      "source": [
        "# Definition for a binary tree node.\n",
        "# class TreeNode:\n",
        "#     def __init__(self, val=0, left=None, right=None):\n",
        "#         self.val = val\n",
        "#         self.left = left\n",
        "#         self.right = right\n",
        "class Solution:\n",
        "    def rightSideView(self, root: TreeNode) -> List[int]:\n",
        "        if not root:\n",
        "            return []\n",
        "        \n",
        "        queue = [[root]]\n",
        "\t\t\n",
        "\t\t# if the tree has a root, we will always see it from the right side\n",
        "        result = [root.val]\n",
        "        \n",
        "        while queue:\n",
        "            nodes = queue.pop(0)\n",
        "            \n",
        "            level = []\n",
        "            for node in nodes:\n",
        "                if node.left:\n",
        "                    level.append(node.left)\n",
        "                if node.right:\n",
        "                    level.append(node.right)\n",
        "                    \n",
        "            if level:\n",
        "                queue.append(level)\n",
        "                result.append(level[-1].val)\n",
        "                \n",
        "        return result"
      ],
      "execution_count": null,
      "outputs": []
    },
    {
      "cell_type": "markdown",
      "metadata": {
        "id": "oJDEYoGCE7te"
      },
      "source": [
        "## 215: Kth Largest Element in an Array\n",
        "\n",
        "\n",
        "Time complexity : \\mathcal{O}(N \\log k)O(Nlogk).\n",
        "Space complexity : \\mathcal{O}(k)O(k) to store the heap elements."
      ]
    },
    {
      "cell_type": "code",
      "metadata": {
        "id": "gPB3DgqdCXR0"
      },
      "source": [
        "import heapq \n",
        "class Solution:\n",
        "    def findKthLargest(self, nums, k):\n",
        "      return heapq.nlargest(k,nums)[-1]\n",
        "\n",
        "    def findKthsmallest(self,nums,k):\n",
        "      return heapq.nsmallest(k,nums)\n",
        "\n",
        "    def findKthLargest_2(self, nums, k):\n",
        "      l = []\n",
        "      for i in range(k):\n",
        "        l.append(nums[i])\n",
        "\n",
        "      for i in range(k,len(nums)):\n",
        "        if nums[i] > min(l):\n",
        "          l.remove(min(l))\n",
        "          l.append(nums[i])\n",
        "\n",
        "      return min(l)\n",
        "\n",
        "\n"
      ],
      "execution_count": null,
      "outputs": []
    },
    {
      "cell_type": "code",
      "metadata": {
        "colab": {
          "base_uri": "https://localhost:8080/"
        },
        "id": "EYLFx74lC6W7",
        "outputId": "2429616f-fcba-4630-d381-7b93a9ad5f92"
      },
      "source": [
        "c = Solution()\n",
        "print(c.findKthLargest([3,2,3,1,2,4,5,5,6],4))\n",
        "print(c.findKthLargest_2([3,2,3,1,2,4,5,5,6],4))\n",
        "print(c.findKthsmallest([3,2,3,1,2,4,5,5,6],4))"
      ],
      "execution_count": null,
      "outputs": [
        {
          "output_type": "stream",
          "text": [
            "4\n",
            "4\n",
            "[1, 2, 2, 3]\n"
          ],
          "name": "stdout"
        }
      ]
    },
    {
      "cell_type": "code",
      "metadata": {
        "colab": {
          "base_uri": "https://localhost:8080/"
        },
        "id": "sHUmCzQyC9ba",
        "outputId": "6032193b-4b46-4297-91bf-c2d37e39f69f"
      },
      "source": [
        "li = [5, 7, 9, 1, 3] \n",
        "print(heapq.heapify(li))"
      ],
      "execution_count": null,
      "outputs": [
        {
          "output_type": "stream",
          "text": [
            "None\n"
          ],
          "name": "stdout"
        }
      ]
    },
    {
      "cell_type": "code",
      "metadata": {
        "colab": {
          "base_uri": "https://localhost:8080/"
        },
        "id": "-_J-Vy2AEbT7",
        "outputId": "028d3e1b-ef62-4eb5-8fbe-a79f2a579088"
      },
      "source": [
        "heapq.nsmallest(2,li)[-1]"
      ],
      "execution_count": null,
      "outputs": [
        {
          "output_type": "execute_result",
          "data": {
            "text/plain": [
              "3"
            ]
          },
          "metadata": {
            "tags": []
          },
          "execution_count": 17
        }
      ]
    },
    {
      "cell_type": "markdown",
      "metadata": {
        "id": "oxTYyixY1Ygm"
      },
      "source": [
        "##8: String to Integer (atoi)\n",
        "Example 1:\n",
        "\n",
        "Input: str = \"42\"\n",
        ",Output: 42\n",
        "\n",
        "\n",
        "Example 2:\n",
        "\n",
        "Input: str = \"   -42\"\n",
        ",Output: -42\n",
        ".Explanation: The first non-whitespace character is ,'-', which is the minus sign. Then take as many numerical digits as possible, which gets 42.\n",
        "Example 3:\n",
        "\n",
        "Input: str = \"4193 with words\"\n",
        "Output: 4193\n",
        "Explanation: Conversion stops at digit '3' as the next character is not a numerical digit.\n",
        "Example 4:\n",
        "\n",
        "Input: str = \"words and 987\"\n",
        "Output: 0\n",
        "Explanation: The first non-whitespace character is 'w', which is not a numerical digit or a +/- sign. Therefore no valid conversion could be performed.\n",
        "Example 5:\n",
        "\n",
        "Input: str = \"-91283472332\"\n",
        "Output: -2147483648\n",
        "Explanation: The number \"-91283472332\" is out of the range of a 32-bit signed integer. Thefore INT_MIN (−231) is returned.\n"
      ]
    },
    {
      "cell_type": "code",
      "metadata": {
        "id": "YnxVxxGXxbyM"
      },
      "source": [
        "class Solution:\n",
        "    def myAtoi(self, s: str) -> int:\n",
        "        s = s.strip()\n",
        "        if len(s) == 0 or (len(s) > 0 and not (s[0] in ['+','-'] or s[0].isdigit())):\n",
        "            return 0\n",
        "\n",
        "        value = 0\n",
        "        sign = -1 if s[0] == '-' else 1\n",
        "        i = 1 if not s[0].isdigit() else 0\n",
        "\n",
        "        while i < len(s) and s[i].isdigit():\n",
        "            value = (value * 10) + (ord(s[i]) - ord('0'))\n",
        "            i += 1\n",
        "        value *= sign\n",
        "\n",
        "        if value < -(2**31):\n",
        "            return -(2**31)\n",
        "        elif value > (2**31)-1:\n",
        "            return (2**31)-1\n",
        "\n",
        "        return value        "
      ],
      "execution_count": null,
      "outputs": []
    },
    {
      "cell_type": "code",
      "metadata": {
        "id": "KNhWZen218xa"
      },
      "source": [
        "c = Solution()"
      ],
      "execution_count": null,
      "outputs": []
    },
    {
      "cell_type": "code",
      "metadata": {
        "colab": {
          "base_uri": "https://localhost:8080/"
        },
        "id": "YXRtej0T1_TR",
        "outputId": "b2478b1e-6365-4828-a16c-2a0bb8abe984"
      },
      "source": [
        "c.myAtoi(\"3.2\")"
      ],
      "execution_count": null,
      "outputs": [
        {
          "output_type": "execute_result",
          "data": {
            "text/plain": [
              "3"
            ]
          },
          "metadata": {
            "tags": []
          },
          "execution_count": 12
        }
      ]
    },
    {
      "cell_type": "markdown",
      "metadata": {
        "id": "ka2VRZgL7mg5"
      },
      "source": [
        "##129: Sum Root to Leaf Numbers\n",
        "\n",
        "Given a binary tree containing digits from 0-9 only, each root-to-leaf path could represent a number.\n",
        "\n",
        "An example is the root-to-leaf path 1->2->3 which represents the number 123.\n",
        "\n",
        "Find the total sum of all root-to-leaf numbers.\n",
        "\n",
        "Note: A leaf is a node with no children.\n",
        "![image.png](data:image/png;base64,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)\n"
      ]
    },
    {
      "cell_type": "code",
      "metadata": {
        "id": "FqXCvoCg7l58"
      },
      "source": [
        "# Definition for a binary tree node.\n",
        "# class TreeNode:\n",
        "#     def __init__(self, val=0, left=None, right=None):\n",
        "#         self.val = val\n",
        "#         self.left = left\n",
        "#         self.right = right\n",
        "class Solution:\n",
        "    def sumNumbers(self, root: TreeNode,s=0) -> int:\n",
        "        if not root:\n",
        "            return 0\n",
        "\n",
        "        num = 10 * s + root.val            \n",
        "        if not root.left and not root.right:\n",
        "            return num\n",
        "\n",
        "        return self.sumNumbers(root.left, num) + self.sumNumbers(root.right, num)"
      ],
      "execution_count": null,
      "outputs": []
    },
    {
      "cell_type": "markdown",
      "metadata": {
        "id": "2cBOiHk_AEsL"
      },
      "source": [
        "## 1428: Leftmost Column with at Least a One(This problem is an interactive problem.)\n",
        "\n",
        "A binary matrix means that all elements are 0 or 1. For each individual row of the matrix, this row is sorted in non-decreasing order.\n",
        "\n",
        "Given a row-sorted binary matrix binaryMatrix, return leftmost column index(0-indexed) with at least a 1 in it. If such index doesn't exist, return -1.\n",
        "\n",
        "You can't access the Binary Matrix directly.  You may only access the matrix using a BinaryMatrix interface:\n",
        "\n",
        "BinaryMatrix.get(row, col) returns the element of the matrix at index (row, col) (0-indexed).\n",
        "BinaryMatrix.dimensions() returns a list of 2 elements [rows, cols], which means the matrix is rows * cols.\n",
        "Submissions making more than 1000 calls to BinaryMatrix.get will be judged Wrong Answer.  Also, any solutions that attempt to circumvent the judge will result in disqualification.\n",
        "\n",
        "For custom testing purposes you're given the binary matrix mat as input in the following four examples. You will not have access the binary matrix directly."
      ]
    },
    {
      "cell_type": "code",
      "metadata": {
        "id": "Id2hfhxe_3yt"
      },
      "source": [
        "# \"\"\"\n",
        "# This is BinaryMatrix's API interface.\n",
        "# You should not implement it, or speculate about its implementation\n",
        "# \"\"\"\n",
        "#class BinaryMatrix(object):\n",
        "#    def get(self, row: int, col: int) -> int:\n",
        "#    def dimensions(self) -> list[]:\n",
        "\n",
        "class Solution:\n",
        "    def leftMostColumnWithOne(self, binaryMatrix: 'BinaryMatrix') -> int:\n",
        "        rows, cols = binaryMatrix.dimensions()\n",
        "\n",
        "        min_col = cols\n",
        "\n",
        "        for r in range(rows):\n",
        "\n",
        "            if not binaryMatrix.get(r, min(min_col, cols-1)):\n",
        "                continue\n",
        "\n",
        "            low, high = 0, min_col\n",
        "\n",
        "            while low < high:\n",
        "                mid = (low + high) // 2\n",
        "\n",
        "                if binaryMatrix.get(r, mid):\n",
        "                    min_col = min(mid, min_col)\n",
        "                    high = mid\n",
        "                else:\n",
        "                    low = mid + 1\n",
        "\n",
        "        return min_col if min_col < cols else -1"
      ],
      "execution_count": null,
      "outputs": []
    },
    {
      "cell_type": "markdown",
      "metadata": {
        "id": "gLf0fqT5AnKS"
      },
      "source": [
        "##1245: Tree Diameter\n",
        "Given an undirected tree, return its diameter: the number of edges in a longest path in that tree.\n",
        "\n",
        "The tree is given as an array of edges where edges[i] = [u, v] is a bidirectional edge between nodes u and v.  Each node has labels in the set {0, 1, ..., edges.length}.\n"
      ]
    },
    {
      "cell_type": "code",
      "metadata": {
        "id": "_xM7pc-LAmpj"
      },
      "source": [
        "class Solution:\n",
        "    def __init__(self):\n",
        "        self.maxlength=0\n",
        "        self.furthestnode=-1\n",
        "  \n",
        "    \n",
        "    def dfs(self,index,parent,length,adjList):\n",
        "        \n",
        "        if length>self.maxlength:\n",
        "            self.maxlength=length\n",
        "            self.furthestnode=index\n",
        "\n",
        "        for neig in adjList[index]:\n",
        "            if neig!=parent:\n",
        "                self.dfs(neig,index,length+1,adjList)\n",
        "\n",
        "    def treeDiameter(self, edges: List[List[int]]) -> int:\n",
        "        adjList=defaultdict(list)\n",
        "        \n",
        "        for edge in edges:\n",
        "            adjList[edge[0]].append(edge[1])\n",
        "            adjList[edge[1]].append(edge[0])\n",
        "        \n",
        "        self.dfs(0,-1,0,adjList)\n",
        "        \n",
        "        self.dfs(self.furthestnode,-1,0,adjList)\n",
        "        \n",
        "        return self.maxlength"
      ],
      "execution_count": null,
      "outputs": []
    },
    {
      "cell_type": "markdown",
      "metadata": {
        "id": "yfmSOztKa6pc"
      },
      "source": [
        "## 200: Number of Islands\n",
        "Given an m x n 2d grid map of '1's (land) and '0's (water), return the number of islands.\n",
        "\n",
        "An island is surrounded by water and is formed by connecting adjacent lands horizontally or vertically. You may assume all four edges of the grid are all surrounded by water.\n",
        "\n"
      ]
    },
    {
      "cell_type": "code",
      "metadata": {
        "id": "NP0n9nala45Z"
      },
      "source": [
        "#DFS\n",
        "class Solution:\n",
        "    def numIslands(self, grid: List[List[str]]) -> int:\n",
        "        count = 0\n",
        "        for i in range(len(grid)):\n",
        "            for j in range(len(grid[0])):\n",
        "                if grid[i][j] == '1':\n",
        "                    print(i,j)\n",
        "                    self.dfs(grid,i,j)\n",
        "                    count  += 1\n",
        "        #print(grid)\n",
        "        return count\n",
        "    # use a helper function to flip connected '1's to 0\n",
        "    def dfs(self,grid,i,j):\n",
        "        grid[i][j] = 0\n",
        "        for dr,dc in (1,0), (-1,0), (0,-1), (0,1):\n",
        "            r = i + dr\n",
        "            c = j + dc\n",
        "            if 0 <= r < len(grid) and 0 <= c < len(grid[0]) and grid[r][c]=='1':\n",
        "                self.dfs(grid,r,c)"
      ],
      "execution_count": null,
      "outputs": []
    },
    {
      "cell_type": "code",
      "metadata": {
        "id": "xeLNQj17bFiO"
      },
      "source": [
        "class Solution:\n",
        "    def numIslands(self, grid: List[List[str]]) -> int:\n",
        "        if not grid:\n",
        "            return 0\n",
        "        rows, cols = len(grid), len(grid[0])\n",
        "        q, visit = collections.deque(), set()    \n",
        "        islands = 0\n",
        "        \n",
        "        def bfs(r, c):\n",
        "            q.append((r, c))\n",
        "            while q:\n",
        "                row, col = q.popleft()\n",
        "                directions = [[1, 0], [-1, 0], [0, 1], [0, -1]]\n",
        "                for dr, dc in directions:\n",
        "                    r, c = row + dr, col + dc\n",
        "                    if ( r in range(rows) and c in range(cols) and\n",
        "                        grid[r][c] == \"1\" and (r, c) not in visit \n",
        "                       ):\n",
        "                        q.append((r, c))\n",
        "                        visit.add((r, c))\n",
        "                        \n",
        "        for r in range(rows):\n",
        "            for c in range(cols):\n",
        "                if grid[r][c] == \"1\" and (r, c) not in visit:\n",
        "                    bfs(r, c)\n",
        "                    islands += 1\n",
        "        return islands"
      ],
      "execution_count": null,
      "outputs": []
    },
    {
      "cell_type": "markdown",
      "metadata": {
        "id": "1c_MotEF6Opt"
      },
      "source": [
        "## 981: Time Based Key-Value Store\n",
        "\n",
        "Create a timebased key-value store class TimeMap, that supports two operations.\n",
        "\n",
        "1. set(string key, string value, int timestamp)\n",
        "\n",
        "Stores the key and value, along with the given timestamp.\n",
        "2. get(string key, int timestamp)\n",
        "\n",
        "Returns a value such that set(key, value, timestamp_prev) was called previously, with timestamp_prev <= timestamp.\n",
        "If there are multiple such values, it returns the one with the largest timestamp_prev.\n",
        "If there are no values, it returns the empty string (\"\").\n"
      ]
    },
    {
      "cell_type": "code",
      "metadata": {
        "id": "p03Zr5Cw6N8d"
      },
      "source": [
        "class TimeMap:\n",
        "    def __init__(self):\n",
        "        self.table = {}\n",
        "\n",
        "    def set(self, key: str, value: str, timestamp: int) -> None:\n",
        "        if not key in self.table:\n",
        "            self.table[key] = []\n",
        "        self.table[key].append((timestamp, value))\n",
        "\n",
        "    def get(self, key: str, timestamp: int) -> str:\n",
        "        if key in self.table:\n",
        "            for i in range(len(self.table[key])-1, -1, -1):\n",
        "                ts, val = self.table[key][i]\n",
        "                if ts <= timestamp:\n",
        "                    return val\n",
        "        return ''"
      ],
      "execution_count": null,
      "outputs": []
    },
    {
      "cell_type": "markdown",
      "metadata": {
        "id": "BkQ9_OoIfqq_"
      },
      "source": [
        "# Hard"
      ]
    },
    {
      "cell_type": "markdown",
      "metadata": {
        "id": "RDh-VB51iEQe"
      },
      "source": [
        "##224: Basic Calculator\n",
        "https://leetcode.com/problems/basic-calculator/discuss/947417/Python-Time%3A-O(n)94.38-Space%3A-O(n)-Clean-18-lines-explained-stack-no-remix-used"
      ]
    },
    {
      "cell_type": "code",
      "metadata": {
        "id": "om4IFpe4EiN8"
      },
      "source": [
        "class Solution:\n",
        "    def calculate(self, s: str) -> int:\n",
        "        ret, val, sign = 0, 0, [False]\n",
        "        for c in '(' + s + ')':\n",
        "            if c is ' ':\n",
        "                continue\n",
        "            elif c is '(':\n",
        "                sign.append(sign[-1])\n",
        "            elif c is ')':\n",
        "                ret, val = ret-val if sign[-1] else ret+val, 0\n",
        "                sign.pop()\n",
        "            elif c is '+':\n",
        "                ret, val = ret-val if sign[-1] else ret+val, 0\n",
        "                sign[-1] = sign[-2]^False\n",
        "            elif c is '-':\n",
        "                ret, val = ret-val if sign[-1] else ret+val, 0\n",
        "                sign[-1] = sign[-2]^True\n",
        "            else:\n",
        "                val = 10*val + int(c)\n",
        "        return ret"
      ],
      "execution_count": null,
      "outputs": []
    },
    {
      "cell_type": "code",
      "metadata": {
        "id": "Sm2TxGibfw27"
      },
      "source": [
        ""
      ],
      "execution_count": null,
      "outputs": []
    }
  ]
}
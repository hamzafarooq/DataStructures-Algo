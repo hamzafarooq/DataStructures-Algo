{
  "nbformat": 4,
  "nbformat_minor": 0,
  "metadata": {
    "colab": {
      "name": "Interview_query.ipynb",
      "provenance": [],
      "toc_visible": true,
      "authorship_tag": "ABX9TyO1v4EEYD0Z8U9SsNfU1Mxa",
      "include_colab_link": true
    },
    "kernelspec": {
      "name": "python3",
      "display_name": "Python 3"
    }
  },
  "cells": [
    {
      "cell_type": "markdown",
      "metadata": {
        "id": "view-in-github",
        "colab_type": "text"
      },
      "source": [
        "<a href=\"https://colab.research.google.com/github/hamzafarooq/DataStructures-Algo/blob/master/Interview_query.ipynb\" target=\"_parent\"><img src=\"https://colab.research.google.com/assets/colab-badge.svg\" alt=\"Open In Colab\"/></a>"
      ]
    },
    {
      "cell_type": "markdown",
      "metadata": {
        "id": "lDjgznUFfGRJ",
        "colab_type": "text"
      },
      "source": [
        "## Palindrome for a number"
      ]
    },
    {
      "cell_type": "code",
      "metadata": {
        "id": "zm0bCUmtIlAt",
        "colab_type": "code",
        "colab": {}
      },
      "source": [
        "def plaindrome(num):\n",
        "  if num <= 0:\n",
        "    return num==0 #121\n",
        "  i=num\n",
        "  l=0\n",
        "  total=0\n",
        "  while i >0:\n",
        "    digit=i%10\n",
        "    total = total*(10)+digit\n",
        "    i=i//10\n",
        "  return total==num\n",
        "\n"
      ],
      "execution_count": null,
      "outputs": []
    },
    {
      "cell_type": "code",
      "metadata": {
        "id": "bRcpnXajfdpe",
        "colab_type": "code",
        "colab": {
          "base_uri": "https://localhost:8080/",
          "height": 35
        },
        "outputId": "d667b3b2-02ea-4bf2-f104-cc6e624e7f0e"
      },
      "source": [
        "plaindrome(10001)\n"
      ],
      "execution_count": null,
      "outputs": [
        {
          "output_type": "execute_result",
          "data": {
            "application/vnd.google.colaboratory.intrinsic": {
              "type": "string"
            },
            "text/plain": [
              "'10001'"
            ]
          },
          "metadata": {
            "tags": []
          },
          "execution_count": 55
        }
      ]
    },
    {
      "cell_type": "code",
      "metadata": {
        "id": "8JU97eShhtBV",
        "colab_type": "code",
        "colab": {}
      },
      "source": [
        "def plaindromstring(s):\n",
        "  if len(s)==1:\n",
        "    return True\n",
        "\n",
        "  return s==s[::-1]"
      ],
      "execution_count": null,
      "outputs": []
    },
    {
      "cell_type": "code",
      "metadata": {
        "id": "wFRlrIkRkikM",
        "colab_type": "code",
        "colab": {
          "base_uri": "https://localhost:8080/",
          "height": 34
        },
        "outputId": "46191c26-3b05-49ef-c979-49f8624f9815"
      },
      "source": [
        "plaindromstring('bzb')"
      ],
      "execution_count": null,
      "outputs": [
        {
          "output_type": "execute_result",
          "data": {
            "text/plain": [
              "True"
            ]
          },
          "metadata": {
            "tags": []
          },
          "execution_count": 6
        }
      ]
    },
    {
      "cell_type": "markdown",
      "metadata": {
        "id": "HmjkaxJwbRkZ",
        "colab_type": "text"
      },
      "source": [
        "## Reverse Bits"
      ]
    },
    {
      "cell_type": "code",
      "metadata": {
        "id": "R88BA8dqbQ9Y",
        "colab_type": "code",
        "colab": {}
      },
      "source": [
        "def reversebits(x):\n",
        "  output=0\n",
        "\n",
        "  while x!=0:\n",
        "    output = output << 1\n",
        "\n",
        "    if x & 1 == 1:\n",
        "      output |=1\n",
        "    \n",
        "    x = x >> 1\n",
        "    #print(x)\n",
        "\n",
        "  return output"
      ],
      "execution_count": null,
      "outputs": []
    },
    {
      "cell_type": "code",
      "metadata": {
        "id": "6zW2AtZpb3iW",
        "colab_type": "code",
        "colab": {
          "base_uri": "https://localhost:8080/",
          "height": 34
        },
        "outputId": "d7b29e10-a580-41ac-a504-51f6cda0d491"
      },
      "source": [
        "reversebits(9090)"
      ],
      "execution_count": null,
      "outputs": [
        {
          "output_type": "execute_result",
          "data": {
            "text/plain": [
              "4209"
            ]
          },
          "metadata": {
            "tags": []
          },
          "execution_count": 8
        }
      ]
    },
    {
      "cell_type": "markdown",
      "metadata": {
        "id": "TLnlwSVhsy9p",
        "colab_type": "text"
      },
      "source": [
        "## Power of 2\n"
      ]
    },
    {
      "cell_type": "code",
      "metadata": {
        "id": "Ro1QZox-tBUz",
        "colab_type": "code",
        "colab": {}
      },
      "source": [
        "def powerof2(num):  \n",
        "  if num <= 0:\n",
        "    return False\n",
        "  if num == 1:\n",
        "    return True\n",
        "  max = int(round(num/2,0))\n",
        "  j=0\n",
        "  for i in range(max+1):\n",
        "    if i*i==num:\n",
        "      j=1\n",
        "    \n",
        "  return (j==1)"
      ],
      "execution_count": null,
      "outputs": []
    },
    {
      "cell_type": "code",
      "metadata": {
        "id": "BURe9601tdHy",
        "colab_type": "code",
        "colab": {
          "base_uri": "https://localhost:8080/",
          "height": 35
        },
        "outputId": "64c47dc3-b89b-4b9c-8888-5569d19b22ee"
      },
      "source": [
        "powerof2(121)"
      ],
      "execution_count": null,
      "outputs": [
        {
          "output_type": "execute_result",
          "data": {
            "text/plain": [
              "True"
            ]
          },
          "metadata": {
            "tags": []
          },
          "execution_count": 21
        }
      ]
    },
    {
      "cell_type": "code",
      "metadata": {
        "id": "daMDqG4qs2Mr",
        "colab_type": "code",
        "colab": {
          "base_uri": "https://localhost:8080/",
          "height": 35
        },
        "outputId": "23fade2d-71dc-4612-a11c-c8afdd092c34"
      },
      "source": [
        "round(6/2,0)"
      ],
      "execution_count": null,
      "outputs": [
        {
          "output_type": "execute_result",
          "data": {
            "text/plain": [
              "3.0"
            ]
          },
          "metadata": {
            "tags": []
          },
          "execution_count": 11
        }
      ]
    },
    {
      "cell_type": "markdown",
      "metadata": {
        "id": "FezNoHoAK2Pa",
        "colab_type": "text"
      },
      "source": [
        "## Longest Substring without repeating\n",
        "Given a string s, return the length of the longest substring of s without repeating characters.\n",
        "\n",
        "\n"
      ]
    },
    {
      "cell_type": "code",
      "metadata": {
        "id": "G5C-TbewK1bf",
        "colab_type": "code",
        "colab": {}
      },
      "source": [
        "def substring(s):\n",
        "  h={}\n",
        "  maxlen=start=0\n",
        "\n",
        "  for index,char in enumerate(s):\n",
        "    if char in h and start <= h[char]:\n",
        "      start=h[char]+1\n",
        "    else:\n",
        "      maxlen = max(maxlen, index-start+1)\n",
        "    h[char]= index\n",
        "\n",
        "  return maxlen"
      ],
      "execution_count": null,
      "outputs": []
    },
    {
      "cell_type": "code",
      "metadata": {
        "id": "qLfdrHkcMMIf",
        "colab_type": "code",
        "colab": {
          "base_uri": "https://localhost:8080/",
          "height": 34
        },
        "outputId": "2e0ad737-5794-4676-c2ea-3b23bdff557f"
      },
      "source": [
        "substring(\"cc\")"
      ],
      "execution_count": null,
      "outputs": [
        {
          "output_type": "execute_result",
          "data": {
            "text/plain": [
              "1"
            ]
          },
          "metadata": {
            "tags": []
          },
          "execution_count": 6
        }
      ]
    },
    {
      "cell_type": "markdown",
      "metadata": {
        "id": "EIgzmatHV6Ft",
        "colab_type": "text"
      },
      "source": [
        "## Valid Parenthesis"
      ]
    },
    {
      "cell_type": "code",
      "metadata": {
        "id": "Q1AGQ1ZsV80A",
        "colab_type": "code",
        "colab": {}
      },
      "source": [
        "def valid(s):\n",
        "  paren = {\"(\":\")\",\n",
        "           \"{\":\"}\",\n",
        "           \"[\":\"]\"\n",
        "  }\n",
        "\n",
        "  l=[]\n",
        "\n",
        "  if not s:\n",
        "    return True\n",
        "\n",
        "  for i in range(len(s)):\n",
        "    if s[i] in paren:\n",
        "      l.append(s[i])\n",
        "\n",
        "    elif not l: ## this happens in case of ()]\n",
        "      return False\n",
        "    \n",
        "    else:\n",
        "      if s[i]==paren[l[-1]]:  ## comparing the closing loop\n",
        "        del l[-1]\n",
        "\n",
        "      else:\n",
        "        return False\n",
        "\n",
        "  if not l:\n",
        "    return True"
      ],
      "execution_count": null,
      "outputs": []
    },
    {
      "cell_type": "code",
      "metadata": {
        "id": "qR3hR34VXHsC",
        "colab_type": "code",
        "colab": {}
      },
      "source": [
        "a=\"()[]{}}\""
      ],
      "execution_count": null,
      "outputs": []
    },
    {
      "cell_type": "code",
      "metadata": {
        "id": "6X8vlN-BW6-Y",
        "colab_type": "code",
        "colab": {
          "base_uri": "https://localhost:8080/",
          "height": 35
        },
        "outputId": "3f9df873-72ab-4468-901c-eb1de4c99eb6"
      },
      "source": [
        "valid(a)"
      ],
      "execution_count": null,
      "outputs": [
        {
          "output_type": "execute_result",
          "data": {
            "text/plain": [
              "False"
            ]
          },
          "metadata": {
            "tags": []
          },
          "execution_count": 20
        }
      ]
    },
    {
      "cell_type": "markdown",
      "metadata": {
        "id": "eP8w_5G1tyYu",
        "colab_type": "text"
      },
      "source": [
        "## Rotate Matrix Left"
      ]
    },
    {
      "cell_type": "code",
      "metadata": {
        "id": "G3lFMSgrt129",
        "colab_type": "code",
        "colab": {}
      },
      "source": [
        "def rotleft(nums,k):\n",
        "  k%=len(nums)\n",
        "  nums[:]=nums[k:]+nums[:k]\n",
        "  return(nums)"
      ],
      "execution_count": null,
      "outputs": []
    },
    {
      "cell_type": "code",
      "metadata": {
        "id": "U76geTwfuMmP",
        "colab_type": "code",
        "colab": {
          "base_uri": "https://localhost:8080/",
          "height": 53
        },
        "outputId": "d9893d7f-52a7-4254-8e60-57616f1da5be"
      },
      "source": [
        "rotleft(a,1)"
      ],
      "execution_count": null,
      "outputs": [
        {
          "output_type": "execute_result",
          "data": {
            "text/plain": [
              "array([[4, 6],\n",
              "       [4, 6]])"
            ]
          },
          "metadata": {
            "tags": []
          },
          "execution_count": 28
        }
      ]
    },
    {
      "cell_type": "markdown",
      "metadata": {
        "id": "TXHXAgsaPs-m",
        "colab_type": "text"
      },
      "source": [
        "## rotate matrix right\n"
      ]
    },
    {
      "cell_type": "code",
      "metadata": {
        "id": "owQZhQQ-P4_O",
        "colab_type": "code",
        "colab": {
          "base_uri": "https://localhost:8080/",
          "height": 53
        },
        "outputId": "ae8c2725-2a69-4040-8de1-4bc04e4b3daf"
      },
      "source": [
        "import numpy as np\n",
        "a=np.array([[1,2],[3,4]])\n",
        "a"
      ],
      "execution_count": null,
      "outputs": [
        {
          "output_type": "execute_result",
          "data": {
            "text/plain": [
              "array([[1, 2],\n",
              "       [3, 4]])"
            ]
          },
          "metadata": {
            "tags": []
          },
          "execution_count": 24
        }
      ]
    },
    {
      "cell_type": "code",
      "metadata": {
        "id": "OhJifFF_P9JW",
        "colab_type": "code",
        "colab": {}
      },
      "source": [
        "for i in range(len(a)-1):\n",
        "\n",
        "  topleft=a[i,i]\n",
        "  topright=a[0,len(a)-1]\n",
        "  bottomleft = a[len(a)-1,0]  \n",
        "  bottomright =a[len(a)-1,len(a)-1]\n",
        "\n",
        "  a[0,0]=bottomleft\n",
        "  a[1,0]=bottomright\n",
        "  a[0,1]=topleft\n",
        "  a[1,1]=topright"
      ],
      "execution_count": null,
      "outputs": []
    },
    {
      "cell_type": "code",
      "metadata": {
        "id": "G0b5XfW9RN0i",
        "colab_type": "code",
        "colab": {
          "base_uri": "https://localhost:8080/",
          "height": 35
        },
        "outputId": "d65adf7f-da89-4306-f0bc-98de9f092256"
      },
      "source": [
        "len(a)"
      ],
      "execution_count": null,
      "outputs": [
        {
          "output_type": "execute_result",
          "data": {
            "text/plain": [
              "2"
            ]
          },
          "metadata": {
            "tags": []
          },
          "execution_count": 10
        }
      ]
    },
    {
      "cell_type": "code",
      "metadata": {
        "id": "fROY8R9xPxUX",
        "colab_type": "code",
        "colab": {}
      },
      "source": [
        "def rotate(nums,k):\n",
        "  k %= len(nums)\n",
        "  print (k)\n",
        "  nums[:] = nums[-k:] + nums[:-k]\n",
        "  return nums"
      ],
      "execution_count": null,
      "outputs": []
    },
    {
      "cell_type": "code",
      "metadata": {
        "id": "S-OIOglTsRBg",
        "colab_type": "code",
        "colab": {
          "base_uri": "https://localhost:8080/",
          "height": 71
        },
        "outputId": "df639b73-eefe-480e-ba03-12e2b2055945"
      },
      "source": [
        "rotate(a,5)"
      ],
      "execution_count": null,
      "outputs": [
        {
          "output_type": "stream",
          "text": [
            "1\n"
          ],
          "name": "stdout"
        },
        {
          "output_type": "execute_result",
          "data": {
            "text/plain": [
              "array([[32, 48],\n",
              "       [32, 48]])"
            ]
          },
          "metadata": {
            "tags": []
          },
          "execution_count": 9
        }
      ]
    },
    {
      "cell_type": "markdown",
      "metadata": {
        "id": "c4OzcQ0_2x79",
        "colab_type": "text"
      },
      "source": [
        "## Phone number"
      ]
    },
    {
      "cell_type": "code",
      "metadata": {
        "id": "oMHSLtAd22DU",
        "colab_type": "code",
        "colab": {}
      },
      "source": [
        "def phonecheck(s):\n",
        "  phonebook ={\n",
        "            \"2\":[\"a\",\"b\",\"c\"],\n",
        "            \"3\":[\"d\",\"e\",\"f\"],\n",
        "            \"4\":[\"g\",\"h\",\"i\"],\n",
        "            \"5\":[\"j\",\"k\",\"l\"],\n",
        "            \"6\":[\"m\",\"n\",\"o\"],\n",
        "            \"7\":[\"p\",\"q\",\"r\",\"s\"],\n",
        "            \"8\":[\"v\",\"t\",\"u\"],\n",
        "            \"9\":[\"w\",\"x\",\"y\",\"z\"]\n",
        "            }\n",
        "  l=[]\n",
        "  for i in s:\n",
        "    j=phonebook[i]\n",
        "    l.append(\"\".join(j))\n",
        "    #l.append(phonebook[i])\n",
        "  k=\"\".join(l)\n",
        "  return l\n",
        "        \n",
        "        "
      ],
      "execution_count": null,
      "outputs": []
    },
    {
      "cell_type": "code",
      "metadata": {
        "id": "aCIZaYZR3OLJ",
        "colab_type": "code",
        "colab": {
          "base_uri": "https://localhost:8080/",
          "height": 34
        },
        "outputId": "3c534b65-64b2-446d-de8a-08269b65e00e"
      },
      "source": [
        "phonecheck('2347')"
      ],
      "execution_count": null,
      "outputs": [
        {
          "output_type": "execute_result",
          "data": {
            "text/plain": [
              "['abc', 'def', 'ghi', 'pqrs']"
            ]
          },
          "metadata": {
            "tags": []
          },
          "execution_count": 10
        }
      ]
    },
    {
      "cell_type": "markdown",
      "metadata": {
        "id": "7UK026UjIncS",
        "colab_type": "text"
      },
      "source": [
        "## Target Indices"
      ]
    },
    {
      "cell_type": "code",
      "metadata": {
        "id": "ihq7q0QHknPS",
        "colab_type": "code",
        "colab": {}
      },
      "source": [
        ""
      ],
      "execution_count": null,
      "outputs": []
    },
    {
      "cell_type": "code",
      "metadata": {
        "id": "JhcjcvHRIrO3",
        "colab_type": "code",
        "colab": {}
      },
      "source": [
        "def targetindicies(nums,target):\n",
        "  l={}\n",
        "  p=[]\n",
        "  if len(nums)==1 and nums[0]!=target:\n",
        "    return [0,0]\n",
        "\n",
        "  for iter,char in enumerate(nums):\n",
        "    diff=target-char\n",
        "    if diff in l :\n",
        "      p.append([l[diff],iter])\n",
        "    else:\n",
        "      l[char]=iter\n",
        "\n",
        "  if not p:\n",
        "    return [0,0]  \n",
        "  return sorted(p)\n",
        "\n",
        "\n"
      ],
      "execution_count": null,
      "outputs": []
    },
    {
      "cell_type": "code",
      "metadata": {
        "id": "N3LkTSAiJxLW",
        "colab_type": "code",
        "colab": {
          "base_uri": "https://localhost:8080/",
          "height": 35
        },
        "outputId": "d1b3b318-a5bb-4c8c-fd17-f4cec3ec2e57"
      },
      "source": [
        "\n",
        "targetindicies([],6)"
      ],
      "execution_count": null,
      "outputs": [
        {
          "output_type": "execute_result",
          "data": {
            "text/plain": [
              "[0, 0]"
            ]
          },
          "metadata": {
            "tags": []
          },
          "execution_count": 22
        }
      ]
    },
    {
      "cell_type": "markdown",
      "metadata": {
        "id": "eIdRmp8SZMU1",
        "colab_type": "text"
      },
      "source": [
        "## Bigrams"
      ]
    },
    {
      "cell_type": "code",
      "metadata": {
        "id": "T7gqqyewJ16V",
        "colab_type": "code",
        "colab": {}
      },
      "source": [
        "def bigrams(a):\n",
        "  a=a.split()\n",
        "  l=[]\n",
        "  h={}\n",
        "  start=0\n",
        "  end=0\n",
        "  for i in range(len(a)-1):\n",
        "    l.append([a[i],a[i+1]])\n",
        "  \n",
        "\n",
        "  return l\n",
        "      \n",
        "\n",
        "      \n",
        "\n",
        "  "
      ],
      "execution_count": null,
      "outputs": []
    },
    {
      "cell_type": "code",
      "metadata": {
        "id": "JXXERefee7Ns",
        "colab_type": "code",
        "colab": {
          "base_uri": "https://localhost:8080/",
          "height": 34
        },
        "outputId": "d46401ac-4d67-43f2-b462-1e40e5de5641"
      },
      "source": [
        "bigrams('this is a long sentence')"
      ],
      "execution_count": null,
      "outputs": [
        {
          "output_type": "execute_result",
          "data": {
            "text/plain": [
              "[['this', 'is'], ['is', 'a'], ['a', 'long'], ['long', 'sentence']]"
            ]
          },
          "metadata": {
            "tags": []
          },
          "execution_count": 16
        }
      ]
    },
    {
      "cell_type": "code",
      "metadata": {
        "id": "7fpb7ePPe-UV",
        "colab_type": "code",
        "colab": {}
      },
      "source": [
        "a='this is a long sentence'"
      ],
      "execution_count": null,
      "outputs": []
    },
    {
      "cell_type": "code",
      "metadata": {
        "id": "MhWrhGjEftus",
        "colab_type": "code",
        "colab": {
          "base_uri": "https://localhost:8080/",
          "height": 34
        },
        "outputId": "45bdc95a-b8fa-413a-a3ab-ae76418fac8b"
      },
      "source": [
        "a.split()"
      ],
      "execution_count": null,
      "outputs": [
        {
          "output_type": "execute_result",
          "data": {
            "text/plain": [
              "['this', 'is', 'a', 'long', 'sentence']"
            ]
          },
          "metadata": {
            "tags": []
          },
          "execution_count": 14
        }
      ]
    },
    {
      "cell_type": "markdown",
      "metadata": {
        "id": "UjJdmfLqraLZ",
        "colab_type": "text"
      },
      "source": [
        "## Pattern Matching\n",
        "Given a set of strings words and a string pattern return a list of all of the strings in words that matches the pattern of the pattern string."
      ]
    },
    {
      "cell_type": "code",
      "metadata": {
        "id": "n213Gc44fvNP",
        "colab_type": "code",
        "colab": {}
      },
      "source": [
        "def patternmatch(words,pattern):\n",
        "  k=words.split()\n",
        "  d={}\n",
        "\n",
        "  if len(pattern)!= len(k):\n",
        "    return False\n",
        "  \n",
        "  for i in range(len(pattern)):\n",
        "    if pattern[i] not in d and k[i] not in d.values():\n",
        "      d[pattern[i]]=k[i]\n",
        "    elif pattern[i] not in d:\n",
        "      return False\n",
        "    elif k[i] not in d.values():\n",
        "      return False\n",
        "    elif d[pattern[i]] != k[i]:\n",
        "      return False\n",
        "\n",
        "  return True\n",
        "  \n"
      ],
      "execution_count": null,
      "outputs": []
    },
    {
      "cell_type": "code",
      "metadata": {
        "id": "Od3HkvU9tukn",
        "colab_type": "code",
        "colab": {
          "base_uri": "https://localhost:8080/",
          "height": 34
        },
        "outputId": "dd6dace3-0de5-4cd2-882d-5f3fae184d00"
      },
      "source": [
        "patternmatch('cat dog dog cat','abba')"
      ],
      "execution_count": null,
      "outputs": [
        {
          "output_type": "execute_result",
          "data": {
            "text/plain": [
              "True"
            ]
          },
          "metadata": {
            "tags": []
          },
          "execution_count": 4
        }
      ]
    },
    {
      "cell_type": "markdown",
      "metadata": {
        "id": "hzFgGCarZzEt",
        "colab_type": "text"
      },
      "source": [
        "##Palindrome Permute\n"
      ]
    },
    {
      "cell_type": "code",
      "metadata": {
        "id": "B8TpbG0ytwbx",
        "colab_type": "code",
        "colab": {}
      },
      "source": [
        "def ispalindromebypermute(s): # first check if the string is a plaindrome from various permutations\n",
        "\n",
        "  h={}\n",
        "  counter =0\n",
        "  s=s.lower()\n",
        "\n",
        "  for i in s:\n",
        "    if i in h:\n",
        "      h[i]+=1\n",
        "    else:\n",
        "      h[i]=1\n",
        "\n",
        "  for i in h:\n",
        "    if h[i] % 2 == 1:\n",
        "      counter +=1\n",
        "      if counter > 1:\n",
        "        return False\n",
        "\n",
        "  return True\n"
      ],
      "execution_count": null,
      "outputs": []
    },
    {
      "cell_type": "markdown",
      "metadata": {
        "id": "MLy1EmjTZiga",
        "colab_type": "text"
      },
      "source": [
        "##Valid Palindrome \n",
        "Given a string, determine if it is a palindrome, considering only alphanumeric characters and ignoring cases.\n",
        "\n"
      ]
    },
    {
      "cell_type": "code",
      "metadata": {
        "id": "LfX8iAejUhMj",
        "colab_type": "code",
        "colab": {}
      },
      "source": [
        "def ispalindrome(s):\n",
        "  start  = 0\n",
        "  end =len(s)-1\n",
        "  s=s.lower()\n",
        "\n",
        "  while start < end :\n",
        "    while not s[start].isalnum() and start < end: # this is to handle spaces-- 'Race Car'\n",
        "      start += 1\n",
        "\n",
        "    while not s[end].isalnum() and start < end: # this is to handle spaces at the end -- 'Race Car '\n",
        "      end -= 1\n",
        "\n",
        "    if s[start] != s[end]:\n",
        "      print (s[start])\n",
        "      return False\n",
        "    start += 1\n",
        "    end -= 1\n",
        "\n",
        "  return True"
      ],
      "execution_count": null,
      "outputs": []
    },
    {
      "cell_type": "code",
      "metadata": {
        "id": "Up-8mESbS0lN",
        "colab_type": "code",
        "colab": {
          "base_uri": "https://localhost:8080/",
          "height": 34
        },
        "outputId": "bfbac7b3-6643-44ce-fd17-df2d35c18b8c"
      },
      "source": [
        "ispalindrome('Race ca r ')"
      ],
      "execution_count": null,
      "outputs": [
        {
          "output_type": "execute_result",
          "data": {
            "text/plain": [
              "True"
            ]
          },
          "metadata": {
            "tags": []
          },
          "execution_count": 19
        }
      ]
    },
    {
      "cell_type": "markdown",
      "metadata": {
        "id": "XjVV6ZL5SJud",
        "colab_type": "text"
      },
      "source": [
        "## Longest palindrome construct\n",
        "Given a string, determine the length of the longest possible palindromic string that can be constructed using the characters of the string. "
      ]
    },
    {
      "cell_type": "code",
      "metadata": {
        "id": "yM3eEh6iS1Ra",
        "colab_type": "code",
        "colab": {}
      },
      "source": [
        "def palindromeconstruct(s):\n",
        "  h={}\n",
        "  counter =0\n",
        "  maxodd_count=0\n",
        "  second_highest = 0\n",
        "\n",
        "  if len(s) == 1:\n",
        "    return 1\n",
        "  for i in s:\n",
        "    if i in h:\n",
        "      h[i]+=1\n",
        "    else:\n",
        "      h[i]=1\n",
        "\n",
        "  for i in h:\n",
        "    if h[i] % 2 == 0:\n",
        "      counter += h[i]\n",
        "    else:\n",
        "      if h[i] > maxodd_count:\n",
        "        maxodd_count = h[i]\n",
        "        maxodd_char = i\n",
        "  counter = counter + maxodd_count\n",
        "  print(h)\n",
        "  if maxodd_char and len(h)>1:\n",
        "    h.pop(maxodd_char,None)\n",
        "    print(h)\n",
        "    for i in h:\n",
        "      if h[i] % 2 != 0 and h[i]>1:\n",
        "        if h[i] > second_highest:\n",
        "          second_highest = h[i]\n",
        "          counter=counter+second_highest-1\n",
        "\n",
        "  return (counter)\n"
      ],
      "execution_count": null,
      "outputs": []
    },
    {
      "cell_type": "code",
      "metadata": {
        "id": "gbd3BQEcYkZr",
        "colab_type": "code",
        "colab": {
          "base_uri": "https://localhost:8080/",
          "height": 68
        },
        "outputId": "e15f7c3e-8315-47b1-e6ee-2d5fc47721cc"
      },
      "source": [
        "palindromeconstruct('aabbcccdddefgh')"
      ],
      "execution_count": null,
      "outputs": [
        {
          "output_type": "stream",
          "text": [
            "{'a': 2, 'b': 2, 'c': 3, 'd': 3, 'e': 1, 'f': 1, 'g': 1, 'h': 1}\n",
            "{'a': 2, 'b': 2, 'd': 3, 'e': 1, 'f': 1, 'g': 1, 'h': 1}\n"
          ],
          "name": "stdout"
        },
        {
          "output_type": "execute_result",
          "data": {
            "text/plain": [
              "9"
            ]
          },
          "metadata": {
            "tags": []
          },
          "execution_count": 63
        }
      ]
    },
    {
      "cell_type": "markdown",
      "metadata": {
        "id": "kMa091gBfkqO",
        "colab_type": "text"
      },
      "source": [
        "##Zigzag Conversion\n",
        "Given a string s and an integer value rows return the \"zigzag\" encoding of s read off row-by-row.\n"
      ]
    },
    {
      "cell_type": "code",
      "metadata": {
        "id": "jocmOrj_YpQi",
        "colab_type": "code",
        "colab": {}
      },
      "source": [
        "def zigzag(s,r):\n",
        "  l=['']*r\n",
        "  row = 0\n",
        "  down = False\n",
        "\n",
        "  for i in s:\n",
        "    l[row]+=i\n",
        "\n",
        "    if row == r-1 or row == 0:\n",
        "      down = not down\n",
        "\n",
        "    if down:\n",
        "      row += 1\n",
        "    \n",
        "    else:\n",
        "      row  -= 1\n",
        "    \n",
        "  ret =''\n",
        "  for i in l:\n",
        "    ret += i\n",
        "\n",
        "  \n",
        "  return ret\n",
        "\n",
        "\n",
        "\n"
      ],
      "execution_count": null,
      "outputs": []
    },
    {
      "cell_type": "code",
      "metadata": {
        "id": "10976ewyiL0Z",
        "colab_type": "code",
        "colab": {
          "base_uri": "https://localhost:8080/",
          "height": 37
        },
        "outputId": "ac850ad2-8978-4979-d275-3a63d7756462"
      },
      "source": [
        "zigzag('YELLOWPINK',4)"
      ],
      "execution_count": null,
      "outputs": [
        {
          "output_type": "execute_result",
          "data": {
            "application/vnd.google.colaboratory.intrinsic+json": {
              "type": "string"
            },
            "text/plain": [
              "'YPEWILONLK'"
            ]
          },
          "metadata": {
            "tags": []
          },
          "execution_count": 71
        }
      ]
    },
    {
      "cell_type": "code",
      "metadata": {
        "id": "yykQM4buiQqS",
        "colab_type": "code",
        "colab": {
          "base_uri": "https://localhost:8080/",
          "height": 34
        },
        "outputId": "20bc4c2f-64fb-4000-b682-1a971e5ffea5"
      },
      "source": [
        "'YPEWILONLK' == zigzag('YELLOWPINK',4) "
      ],
      "execution_count": null,
      "outputs": [
        {
          "output_type": "execute_result",
          "data": {
            "text/plain": [
              "True"
            ]
          },
          "metadata": {
            "tags": []
          },
          "execution_count": 73
        }
      ]
    },
    {
      "cell_type": "code",
      "metadata": {
        "id": "1lsVYzq7ieSB",
        "colab_type": "code",
        "colab": {
          "base_uri": "https://localhost:8080/",
          "height": 37
        },
        "outputId": "8d590afe-6340-48d4-b754-781d303c9584"
      },
      "source": [
        "(zigzag('YELLOWPINK',4)).lower()"
      ],
      "execution_count": null,
      "outputs": [
        {
          "output_type": "execute_result",
          "data": {
            "application/vnd.google.colaboratory.intrinsic+json": {
              "type": "string"
            },
            "text/plain": [
              "'ypewilonlk'"
            ]
          },
          "metadata": {
            "tags": []
          },
          "execution_count": 77
        }
      ]
    },
    {
      "cell_type": "code",
      "metadata": {
        "id": "66JiSY7SlLN3",
        "colab_type": "code",
        "colab": {}
      },
      "source": [
        ""
      ],
      "execution_count": null,
      "outputs": []
    },
    {
      "cell_type": "markdown",
      "metadata": {
        "id": "h22PElrtxNKl",
        "colab_type": "text"
      },
      "source": [
        "#Hourglass"
      ]
    },
    {
      "cell_type": "code",
      "metadata": {
        "id": "PNw0gHubxObK",
        "colab_type": "code",
        "colab": {}
      },
      "source": [
        "def hourglassSum(arr):\n",
        "    sum = []\n",
        "\n",
        "\n",
        "    for i in range(len(arr)-2):\n",
        "        for j in range(len(arr)-2):\n",
        "            sum.append(arr[i][j]+arr[i][j+1]+arr[i][j+2]+\n",
        "            arr[i+1][j+1]+\n",
        "            arr[i+2][j]+arr[i+2][j+1]+arr[i+2][j+2])\n",
        "        \n",
        "    return(max(sum)) "
      ],
      "execution_count": null,
      "outputs": []
    },
    {
      "cell_type": "code",
      "metadata": {
        "id": "DYd5Ou4LxbQO",
        "colab_type": "code",
        "colab": {}
      },
      "source": [
        "def hourglasspractice(arr):\n",
        "  sum =[]\n",
        "\n",
        "  for i in range(len(arr)-2):\n",
        "    for j in range(len(arr)-2):\n",
        "      sum.append(arr[i][j]+arr[i][j+1]+arr[i][j+2]+\n",
        "                 arr[i+1][j+1]+\n",
        "                 arr[i+2][j]+arr[i+2][j+1]+arr[i+2][j+2])\n",
        "      \n",
        "  return(max(sum))"
      ],
      "execution_count": null,
      "outputs": []
    },
    {
      "cell_type": "code",
      "metadata": {
        "id": "UZhRomJlyQcK",
        "colab_type": "code",
        "colab": {}
      },
      "source": [
        " t = [ [np.random.randint(10)]*6 for i in range(6)]  "
      ],
      "execution_count": null,
      "outputs": []
    },
    {
      "cell_type": "code",
      "metadata": {
        "id": "BQBJZ92Uy6CO",
        "colab_type": "code",
        "colab": {
          "base_uri": "https://localhost:8080/",
          "height": 125
        },
        "outputId": "1c57daa8-8fd1-4c1d-a408-d8f34c5ad279"
      },
      "source": [
        "t"
      ],
      "execution_count": null,
      "outputs": [
        {
          "output_type": "execute_result",
          "data": {
            "text/plain": [
              "[[8, 8, 8, 8, 8, 8],\n",
              " [7, 7, 7, 7, 7, 7],\n",
              " [1, 1, 1, 1, 1, 1],\n",
              " [5, 5, 5, 5, 5, 5],\n",
              " [8, 8, 8, 8, 8, 8],\n",
              " [6, 6, 6, 6, 6, 6]]"
            ]
          },
          "metadata": {
            "tags": []
          },
          "execution_count": 56
        }
      ]
    },
    {
      "cell_type": "code",
      "metadata": {
        "id": "4d_funzpy6be",
        "colab_type": "code",
        "colab": {
          "base_uri": "https://localhost:8080/",
          "height": 35
        },
        "outputId": "b8f34bb8-7a20-49fb-e9a7-35752c7255ce"
      },
      "source": [
        "hourglasspractice(t)==hourglassSum(t)"
      ],
      "execution_count": null,
      "outputs": [
        {
          "output_type": "execute_result",
          "data": {
            "text/plain": [
              "True"
            ]
          },
          "metadata": {
            "tags": []
          },
          "execution_count": 57
        }
      ]
    },
    {
      "cell_type": "code",
      "metadata": {
        "id": "GTL4gZANzPLC",
        "colab_type": "code",
        "colab": {
          "base_uri": "https://localhost:8080/",
          "height": 35
        },
        "outputId": "c20af4a7-ad17-4d1a-ee15-ce2bc131196e"
      },
      "source": [
        "import json\n",
        "\n",
        "# some JSON:\n",
        "x =  '{ \"name\":\"John\", \"age\":30, \"city\":\"New York\"}'\n",
        "\n",
        "# parse x:\n",
        "y = json.loads(x)\n",
        "\n",
        "# the result is a Python dictionary:\n",
        "print(y[\"age\"])"
      ],
      "execution_count": null,
      "outputs": [
        {
          "output_type": "stream",
          "text": [
            "30\n"
          ],
          "name": "stdout"
        }
      ]
    },
    {
      "cell_type": "markdown",
      "metadata": {
        "id": "J7Nw5g1kb6cm",
        "colab_type": "text"
      },
      "source": [
        "# Parse complex json files"
      ]
    },
    {
      "cell_type": "markdown",
      "metadata": {
        "id": "_1Ky4rY75Kwv",
        "colab_type": "text"
      },
      "source": [
        "# New Section"
      ]
    },
    {
      "cell_type": "code",
      "metadata": {
        "id": "KOiosPmqOLVc",
        "colab_type": "code",
        "colab": {
          "base_uri": "https://localhost:8080/",
          "height": 179
        },
        "outputId": "b9f7937a-b1a5-477f-c3b5-30d6e5982bc4"
      },
      "source": [
        "import json\n",
        "\n",
        "print(json.dumps({\"name\": \"John\", \"age\": 30}))\n",
        "print(json.dumps([\"apple\", \"bananas\"]))\n",
        "print(json.dumps((\"apple\", \"bananas\")))\n",
        "print(json.dumps(\"hello\"))\n",
        "print(json.dumps(42))\n",
        "print(json.dumps(31.76))\n",
        "print(json.dumps(True))\n",
        "print(json.dumps(False))\n",
        "print(json.dumps(None))"
      ],
      "execution_count": null,
      "outputs": [
        {
          "output_type": "stream",
          "text": [
            "{\"name\": \"John\", \"age\": 30}\n",
            "[\"apple\", \"bananas\"]\n",
            "[\"apple\", \"bananas\"]\n",
            "\"hello\"\n",
            "42\n",
            "31.76\n",
            "true\n",
            "false\n",
            "null\n"
          ],
          "name": "stdout"
        }
      ]
    },
    {
      "cell_type": "code",
      "metadata": {
        "id": "_v7wMzJyOQZN",
        "colab_type": "code",
        "colab": {
          "base_uri": "https://localhost:8080/",
          "height": 55
        },
        "outputId": "6ae369ad-a894-45eb-e93f-8b04b2a10095"
      },
      "source": [
        "import json\n",
        "\n",
        "x = {\n",
        "  \"name\": \"John\",\n",
        "  \"age\": 30,\n",
        "  \"married\": True,\n",
        "  \"divorced\": False,\n",
        "  \"children\": (\"Ann\",\"Billy\"),\n",
        "  \"pets\": None,\n",
        "  \"cars\": [\n",
        "    {\"model\": \"BMW 230\", \"mpg\": 27.5},\n",
        "    {\"model\": \"Ford Edge\", \"mpg\": 24.1}\n",
        "  ]\n",
        "}\n",
        "\n",
        "print(json.dumps(x))"
      ],
      "execution_count": null,
      "outputs": [
        {
          "output_type": "stream",
          "text": [
            "{\"name\": \"John\", \"age\": 30, \"married\": true, \"divorced\": false, \"children\": [\"Ann\", \"Billy\"], \"pets\": null, \"cars\": [{\"model\": \"BMW 230\", \"mpg\": 27.5}, {\"model\": \"Ford Edge\", \"mpg\": 24.1}]}\n"
          ],
          "name": "stdout"
        }
      ]
    },
    {
      "cell_type": "code",
      "metadata": {
        "id": "5By9MbOLOU7v",
        "colab_type": "code",
        "colab": {
          "base_uri": "https://localhost:8080/",
          "height": 143
        },
        "outputId": "135ddf05-aeb7-46de-d235-e8dd69f5c7fc"
      },
      "source": [
        "for i in x.items():\n",
        "  print (i)"
      ],
      "execution_count": null,
      "outputs": [
        {
          "output_type": "stream",
          "text": [
            "('name', 'John')\n",
            "('age', 30)\n",
            "('married', True)\n",
            "('divorced', False)\n",
            "('children', ('Ann', 'Billy'))\n",
            "('pets', None)\n",
            "('cars', [{'model': 'BMW 230', 'mpg': 27.5}, {'model': 'Ford Edge', 'mpg': 24.1}])\n"
          ],
          "name": "stdout"
        }
      ]
    },
    {
      "cell_type": "code",
      "metadata": {
        "id": "Y9FF1VAUOZrK",
        "colab_type": "code",
        "colab": {}
      },
      "source": [
        "example2 = {\"order_id\": 1234, \"customer_id\": 100, \"line_items\":\n",
        "        [{\"product_id\": 5, \"price\": 5.99}, {\"product_id\": 10, \"price\": 20.99}]}"
      ],
      "execution_count": null,
      "outputs": []
    },
    {
      "cell_type": "code",
      "metadata": {
        "id": "2EcDM0W6OzTH",
        "colab_type": "code",
        "colab": {}
      },
      "source": [
        "example2=json.dumps(example2)"
      ],
      "execution_count": null,
      "outputs": []
    },
    {
      "cell_type": "code",
      "metadata": {
        "id": "f0XPaZS_O0Vr",
        "colab_type": "code",
        "colab": {
          "base_uri": "https://localhost:8080/",
          "height": 89
        },
        "outputId": "fb721145-a0d7-4f11-cb2c-b901376850cb"
      },
      "source": [
        "l='price'\n",
        "m=[]\n",
        "curr_obj = example2\n",
        "for i,j in curr_obj.items():\n",
        "  if isinstance(j,dict):\n",
        "   curr_obj = j\n",
        "  if isinstance(j,list):\n",
        "   for k in j:\n",
        "     if l in k:\n",
        "       m.append(k[l])\n",
        "m"
      ],
      "execution_count": null,
      "outputs": [
        {
          "output_type": "stream",
          "text": [
            "order_id\n",
            "customer_id\n",
            "line_items\n"
          ],
          "name": "stdout"
        },
        {
          "output_type": "execute_result",
          "data": {
            "text/plain": [
              "[5.99, 20.99]"
            ]
          },
          "metadata": {
            "tags": []
          },
          "execution_count": 160
        }
      ]
    },
    {
      "cell_type": "code",
      "metadata": {
        "id": "cGWlj9msO7Gk",
        "colab_type": "code",
        "colab": {}
      },
      "source": [
        "def recursive_lookup(k, d):\n",
        "    if k in d: return d\n",
        "    for v in d.values():\n",
        "        if isinstance(v, dict):\n",
        "            a = recursive_lookup(k, v)\n",
        "            if a is not None: return a\n",
        "        if isinstance(v,list):\n",
        "          for j in v:\n",
        "            a = recursive_lookup(k, j)\n",
        "            if a is not None: return a\n",
        "    return None"
      ],
      "execution_count": null,
      "outputs": []
    },
    {
      "cell_type": "code",
      "metadata": {
        "id": "MFqQLx-DRD9m",
        "colab_type": "code",
        "colab": {
          "base_uri": "https://localhost:8080/",
          "height": 35
        },
        "outputId": "b74ed268-1c53-4e2a-c990-94c63ae23696"
      },
      "source": [
        "recursive_lookup('price',example2)"
      ],
      "execution_count": null,
      "outputs": [
        {
          "output_type": "execute_result",
          "data": {
            "text/plain": [
              "{'price': 5.99, 'product_id': 5}"
            ]
          },
          "metadata": {
            "tags": []
          },
          "execution_count": 165
        }
      ]
    },
    {
      "cell_type": "code",
      "metadata": {
        "id": "NPSsexwxRG1M",
        "colab_type": "code",
        "colab": {
          "base_uri": "https://localhost:8080/",
          "height": 35
        },
        "outputId": "06ee6855-7038-43e5-ac43-423fc8a1eaa9"
      },
      "source": [
        "example2.values()"
      ],
      "execution_count": null,
      "outputs": [
        {
          "output_type": "execute_result",
          "data": {
            "text/plain": [
              "dict_values([1234, 100, [{'product_id': 5, 'price': 5.99}, {'product_id': 10, 'price': 20.99}]])"
            ]
          },
          "metadata": {
            "tags": []
          },
          "execution_count": 85
        }
      ]
    },
    {
      "cell_type": "code",
      "metadata": {
        "id": "1IPu_D-qRdZX",
        "colab_type": "code",
        "colab": {
          "base_uri": "https://localhost:8080/",
          "height": 35
        },
        "outputId": "9645263a-955f-4787-c0a1-41dbb90dcae3"
      },
      "source": [
        "def get_value(d, target):\n",
        "  val = filter(None, [[b] if a == target else get_value(b) if isinstance(b, dict) else None for a, b in d.items()])\n",
        "  return [i for b in val for i in b]\n",
        "\n",
        "print(get_value(example2,'price'))"
      ],
      "execution_count": null,
      "outputs": [
        {
          "output_type": "stream",
          "text": [
            "[]\n"
          ],
          "name": "stdout"
        }
      ]
    },
    {
      "cell_type": "code",
      "metadata": {
        "id": "TEjzyBfYTpdS",
        "colab_type": "code",
        "colab": {}
      },
      "source": [
        "def myprint(d):\n",
        "    for k, v in d.items():\n",
        "        if isinstance(v, dict):\n",
        "            myprint(v)\n",
        "        elif isinstance(v,list):\n",
        "            print(v)\n",
        "\n",
        "        else:\n",
        "            print(\"{0} : {1}\".format(k, v))"
      ],
      "execution_count": null,
      "outputs": []
    },
    {
      "cell_type": "code",
      "metadata": {
        "id": "Z-y-wi3lUL1o",
        "colab_type": "code",
        "colab": {
          "base_uri": "https://localhost:8080/",
          "height": 71
        },
        "outputId": "85352041-8d7c-4609-b2ea-0eabae22195a"
      },
      "source": [
        "myprint(example2)"
      ],
      "execution_count": null,
      "outputs": [
        {
          "output_type": "stream",
          "text": [
            "order_id : 1234\n",
            "customer_id : 100\n",
            "[{'product_id': 5, 'price': 5.99}, {'product_id': 10, 'price': 20.99}]\n"
          ],
          "name": "stdout"
        }
      ]
    },
    {
      "cell_type": "code",
      "metadata": {
        "id": "x5sfxj9iVvlm",
        "colab_type": "code",
        "colab": {
          "base_uri": "https://localhost:8080/",
          "height": 71
        },
        "outputId": "e6296f13-73cf-455a-d3f7-83809b016366"
      },
      "source": [
        "for k,v in example2.items():\n",
        "  print(type(v))"
      ],
      "execution_count": null,
      "outputs": [
        {
          "output_type": "stream",
          "text": [
            "<class 'int'>\n",
            "<class 'int'>\n",
            "<class 'list'>\n"
          ],
          "name": "stdout"
        }
      ]
    },
    {
      "cell_type": "code",
      "metadata": {
        "id": "aVf5fZIWWyZ_",
        "colab_type": "code",
        "colab": {}
      },
      "source": [
        "Dict = { 'Dict1': {1: 'G', 2: 'F', 3: 'G'},  \n",
        "         'Dict2': {'Name': 'Geeks', 1: [1, 2]} } "
      ],
      "execution_count": null,
      "outputs": []
    },
    {
      "cell_type": "code",
      "metadata": {
        "id": "Ci7szyf4Z7-h",
        "colab_type": "code",
        "colab": {
          "base_uri": "https://localhost:8080/",
          "height": 107
        },
        "outputId": "18be76c2-bc3b-45b8-bdd3-1ee6cf69d14a"
      },
      "source": [
        "myprint(Dict)"
      ],
      "execution_count": null,
      "outputs": [
        {
          "output_type": "stream",
          "text": [
            "1 : G\n",
            "2 : F\n",
            "3 : G\n",
            "Name : Geeks\n",
            "[1, 2]\n"
          ],
          "name": "stdout"
        }
      ]
    },
    {
      "cell_type": "markdown",
      "metadata": {
        "id": "swUySa0pgDx3",
        "colab_type": "text"
      },
      "source": [
        "#Contains Duplicate"
      ]
    },
    {
      "cell_type": "code",
      "metadata": {
        "id": "5QvlLIXCZ_ch",
        "colab_type": "code",
        "colab": {}
      },
      "source": [
        "def checkduplicate(nums):\n",
        "  nums=sorted(nums)\n",
        "  h={}\n",
        "  check=0\n",
        "\n",
        "  for i in nums:\n",
        "    if i in h:\n",
        "      h[i]+=1\n",
        "      return True\n",
        "    else:\n",
        "      h[i]=1\n",
        "\n",
        "  return False\n"
      ],
      "execution_count": null,
      "outputs": []
    },
    {
      "cell_type": "code",
      "metadata": {
        "id": "-wq64BGZgaKo",
        "colab_type": "code",
        "colab": {
          "base_uri": "https://localhost:8080/",
          "height": 34
        },
        "outputId": "9e764fdc-fa24-4220-8a2b-8fac5b327d78"
      },
      "source": [
        "checkduplicate([1,2,3,4,5])"
      ],
      "execution_count": null,
      "outputs": [
        {
          "output_type": "execute_result",
          "data": {
            "text/plain": [
              "False"
            ]
          },
          "metadata": {
            "tags": []
          },
          "execution_count": 3
        }
      ]
    },
    {
      "cell_type": "markdown",
      "metadata": {
        "id": "D_z8QRFMmrkY",
        "colab_type": "text"
      },
      "source": [
        "#Buy/Sell Stocks"
      ]
    },
    {
      "cell_type": "code",
      "metadata": {
        "id": "3s_y1uDFgb2G",
        "colab_type": "code",
        "colab": {}
      },
      "source": [
        "def buysell(nums):\n",
        "  if len(nums) < 2:\n",
        "    return 0\n",
        "\n",
        "  buy=nums[0]\n",
        "  profit = 0\n",
        "\n",
        "  for i in nums[1:]:\n",
        "    if i-buy > profit:\n",
        "      profit =i-buy\n",
        "\n",
        "    elif i< buy:\n",
        "      buy = i\n",
        "\n",
        "  return profit"
      ],
      "execution_count": 1,
      "outputs": []
    },
    {
      "cell_type": "code",
      "metadata": {
        "id": "KXPmMgR7nKpL",
        "colab_type": "code",
        "colab": {
          "base_uri": "https://localhost:8080/",
          "height": 34
        },
        "outputId": "3b659bbd-028b-431c-c48c-60ec6d2d1f0f"
      },
      "source": [
        "buysell([7,1,5,3,6,4])"
      ],
      "execution_count": 4,
      "outputs": [
        {
          "output_type": "execute_result",
          "data": {
            "text/plain": [
              "5"
            ]
          },
          "metadata": {
            "tags": []
          },
          "execution_count": 4
        }
      ]
    },
    {
      "cell_type": "markdown",
      "metadata": {
        "id": "oJ2z_ibIoitl",
        "colab_type": "text"
      },
      "source": [
        "#Buy/Sell Stocks Consecutive days"
      ]
    },
    {
      "cell_type": "code",
      "metadata": {
        "id": "-ZNfk2iRnU1R",
        "colab_type": "code",
        "colab": {}
      },
      "source": [
        "def buysellconsecutive(nums):\n",
        "  if len(nums) <2 :\n",
        "    return 0\n",
        "\n",
        "  profit = 0\n",
        "\n",
        "  for i in range(len(nums)-1):\n",
        "    if nums[i] < nums[i+1]:\n",
        "      profit += nums[i+1] - nums[i]\n",
        "  \n",
        "  return profit"
      ],
      "execution_count": 7,
      "outputs": []
    },
    {
      "cell_type": "code",
      "metadata": {
        "id": "7a53VtaPpBGm",
        "colab_type": "code",
        "colab": {
          "base_uri": "https://localhost:8080/",
          "height": 34
        },
        "outputId": "f2a06bf4-ec44-4294-9610-b7d51f06dec6"
      },
      "source": [
        "buysellconsecutive([7,1,5,3,6,4])"
      ],
      "execution_count": 8,
      "outputs": [
        {
          "output_type": "execute_result",
          "data": {
            "text/plain": [
              "7"
            ]
          },
          "metadata": {
            "tags": []
          },
          "execution_count": 8
        }
      ]
    },
    {
      "cell_type": "code",
      "metadata": {
        "id": "i5UuXrTWpIIQ",
        "colab_type": "code",
        "colab": {}
      },
      "source": [
        ""
      ],
      "execution_count": null,
      "outputs": []
    }
  ]
}
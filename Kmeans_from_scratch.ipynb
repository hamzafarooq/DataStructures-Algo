{
  "nbformat": 4,
  "nbformat_minor": 0,
  "metadata": {
    "colab": {
      "name": "Kmeans_from_scratch.ipynb",
      "provenance": [],
      "authorship_tag": "ABX9TyOMm8h48doBb6d1TYqGtizC",
      "include_colab_link": true
    },
    "kernelspec": {
      "name": "python3",
      "display_name": "Python 3"
    }
  },
  "cells": [
    {
      "cell_type": "markdown",
      "metadata": {
        "id": "view-in-github",
        "colab_type": "text"
      },
      "source": [
        "<a href=\"https://colab.research.google.com/github/hamzafarooq/DataStructures-Algo/blob/master/Kmeans_from_scratch.ipynb\" target=\"_parent\"><img src=\"https://colab.research.google.com/assets/colab-badge.svg\" alt=\"Open In Colab\"/></a>"
      ]
    },
    {
      "cell_type": "code",
      "metadata": {
        "id": "JRgZ-w9ff9rA",
        "colab_type": "code",
        "colab": {}
      },
      "source": [
        "import numpy as np\n",
        "import pandas as pd\n",
        "class Kmean:\n",
        "    def __init__(self,df,k=4,no_iteration = 100):\n",
        "        self.df = df.values\n",
        "        self.k = k\n",
        "        self.no_iteration = no_iteration\n",
        "    \n",
        "    def fit(self,data):\n",
        "        randomindex = np.random.choice(len(self.data),self.k,replace=False)\n",
        "        center_location = self.data[randomindex:randomindex+1] ### random index\n",
        "        loss = 0\n",
        "        for i in range(len(self.k)):\n",
        "            temp_loss = (np.sum((self.df-self.k[i])**2)**1/2)\n",
        "            loss = loss + temp_loss\n",
        "         #sqrt(sum(squared difference between each point))#euclidean distance # setting the baseline\n",
        "        \n",
        "        for j in range(self.no_iteration):\n",
        "            tempindex = np.random.choice(len(self.data),self.k,replace=False)\n",
        "            center_location = self.data[tempindex:tempindex+1]\n",
        "            loss_temp = 0 # loss function\n",
        "            for i in range(len(self.k)):\n",
        "                temp_loss = (np.sum((self.df-self.k[i])**2)**1/2)\n",
        "                loss_temp +=  temp_loss\n",
        "            if loss_temp < loss:\n",
        "                loss = loss_temp\n",
        "                \n",
        "        return loss\n",
        "        \n",
        "        \n",
        "    \n",
        "\n",
        "#usage\n",
        "model_knn = Kmean(4,100)\n",
        "model_knn.fit(df)\n",
        "\n",
        "\n",
        "\n",
        "# we have a set of data points\n",
        "# we identify centroids\n",
        "# no of iterations to be set\n",
        "# loss function - eucledian distance\n",
        "\n"
      ],
      "execution_count": null,
      "outputs": []
    },
    {
      "cell_type": "code",
      "metadata": {
        "id": "_zB6d-G2B8Uh",
        "colab_type": "code",
        "colab": {}
      },
      "source": [
        "import random\n",
        "class K_Means:\n",
        "\tdef __init__(self, k =3, tolerance = 0.0001, max_iterations = 500):\n",
        "\t\tself.k = k\n",
        "\t\tself.tolerance = tolerance\n",
        "\t\tself.max_iterations = max_iterations\n",
        "\n",
        "\tdef fit(self, data):\n",
        "\n",
        "\t\tself.centroids = {}\n",
        "\n",
        "\t\t#initialize the centroids, the first 'k' elements in the dataset will be our initial centroids\n",
        "\t\tfor i in range(self.k):\n",
        "\t\t\tself.centroids[i] = data[i]\n",
        "\t\n",
        "\n",
        "\t\t#begin iterations\n",
        "\t\tfor i in range(self.max_iterations):\n",
        "\t\t\tself.classes = {}\n",
        "\t\t\tfor i in range(self.k):\n",
        "\t\t\t\tself.classes[i] = []\n",
        "\n",
        "\t\t\t#find the distance between the point and cluster; choose the nearest centroid\n",
        "\t\t\tfor features in data:\n",
        "\t\t\t\tdistances = [np.linalg.norm(features - self.centroids[centroid]) for centroid in self.centroids]\n",
        "\t\t\t\tclassification = distances.index(min(distances))\n",
        "\t\t\t\tself.classes[classification].append(features)\n",
        "\n",
        "\t\t\tprevious = dict(self.centroids)\n",
        "\n",
        "\t\t\t#average the cluster datapoints to re-calculate the centroids\n",
        "\t\t\tfor classification in self.classes:\n",
        "\t\t\t\tself.centroids[classification] = np.average(self.classes[classification], axis = 0)\n",
        "\n",
        "\t\t\tisOptimal = True\n",
        "\n",
        "\t\t\tfor centroid in self.centroids:\n",
        "\n",
        "\t\t\t\toriginal_centroid = previous[centroid]\n",
        "\t\t\t\tcurr = self.centroids[centroid]\n",
        "\n",
        "\t\t\t\tif np.sum((curr - original_centroid)/original_centroid * 100.0) > self.tolerance:\n",
        "\t\t\t\t\tisOptimal = False\n",
        "\n",
        "\t\t\t#break out of the main loop if the results are optimal, ie. the centroids don't change their positions much(more than our tolerance)\n",
        "\t\t\tif isOptimal:\n",
        "\t\t\t\tbreak\n",
        "\n",
        "\tdef pred(self, data):\n",
        "\t\tdistances = [np.linalg.norm(data - self.centroids[centroid]) for centroid in self.centroids]\n",
        "\t\tclassification = distances.index(min(distances))\n",
        "\t\treturn classification\n"
      ],
      "execution_count": 9,
      "outputs": []
    },
    {
      "cell_type": "code",
      "metadata": {
        "id": "vDX0mUeVB81N",
        "colab_type": "code",
        "colab": {}
      },
      "source": [
        "clf = K_Means()"
      ],
      "execution_count": 10,
      "outputs": []
    },
    {
      "cell_type": "code",
      "metadata": {
        "id": "vFYcdeDgEw2T",
        "colab_type": "code",
        "colab": {}
      },
      "source": [
        "import random\n",
        "class Kmeansfromscratch:\n",
        "  def __init__(self,df,k=3,max_iter=300):\n",
        "    self.k=k\n",
        "    self.max_iter=max_iter\n",
        "    self.df = df\n",
        "\n",
        "  def fit(self):\n",
        "\n",
        "    idx = np.random.choice(len(self.df),self.k,replace=False)\n",
        "    self.centroids = self.df[idx,:]\n",
        "    P = np.argmin(distance.cdist(self.df, self.centroids, 'euclidean'),axis=1)\n",
        "    for _ in range(self.max_iter):\n",
        "      self.centroids = np.vstack([self.df[P==i,:].mean(axis=0) for i in range(self.k)])\n",
        "      tmp = np.argmin(distance.cdist(self.df, self.centroids, 'euclidean'),axis=1)\n",
        "      if np.array_equal(P,tmp):break\n",
        "      P = tmp\n",
        "    return P"
      ],
      "execution_count": 16,
      "outputs": []
    },
    {
      "cell_type": "code",
      "metadata": {
        "id": "SXK0aM3dGLl_",
        "colab_type": "code",
        "colab": {}
      },
      "source": [
        "\n",
        "import numpy as np\n",
        "import pandas as pd\n",
        "from scipy.spatial import distance\n",
        "import matplotlib.pyplot as plt\n",
        "from sklearn.preprocessing import StandardScaler\n",
        "%matplotlib inline\n",
        "X = np.array([[1, 2],\n",
        "              [1.5, 1.8],\n",
        "              [5, 8 ],\n",
        "              [8, 8],\n",
        "              [1, 0.6],\n",
        "              [9,11]])\n",
        "clf=Kmeansfromscratch(X,2,200)"
      ],
      "execution_count": 25,
      "outputs": []
    },
    {
      "cell_type": "code",
      "metadata": {
        "id": "qfapL5zeGagb",
        "colab_type": "code",
        "colab": {}
      },
      "source": [
        "P=clf.fit()"
      ],
      "execution_count": 26,
      "outputs": []
    },
    {
      "cell_type": "code",
      "metadata": {
        "id": "nSiYxj9BGlsR",
        "colab_type": "code",
        "colab": {
          "base_uri": "https://localhost:8080/",
          "height": 592
        },
        "outputId": "4a77455d-b5a3-4732-8112-233d0f7d1c02"
      },
      "source": [
        "plt.figure(figsize=(15,10))\n",
        "plt.scatter(X[:,0],X[:,1],c=P)\n",
        "plt.show()"
      ],
      "execution_count": 27,
      "outputs": [
        {
          "output_type": "display_data",
          "data": {
            "image/png": "[encoded data removed]",
            "text/plain": [
              "<Figure size 1080x720 with 1 Axes>"
            ]
          },
          "metadata": {
            "tags": [],
            "needs_background": "light"
          }
        }
      ]
    },
    {
      "cell_type": "code",
      "metadata": {
        "id": "aCHKNTiDHB2T",
        "colab_type": "code",
        "colab": {}
      },
      "source": [
        ""
      ],
      "execution_count": null,
      "outputs": []
    }
  ]
}
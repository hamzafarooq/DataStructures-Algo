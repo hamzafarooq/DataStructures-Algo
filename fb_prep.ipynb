{
  "nbformat": 4,
  "nbformat_minor": 0,
  "metadata": {
    "colab": {
      "name": "fb_prep.ipynb",
      "provenance": [],
      "toc_visible": true,
      "authorship_tag": "ABX9TyObWAEHDq66etuKxvYT5c1d",
      "include_colab_link": true
    },
    "kernelspec": {
      "name": "python3",
      "display_name": "Python 3"
    }
  },
  "cells": [
    {
      "cell_type": "markdown",
      "metadata": {
        "id": "view-in-github",
        "colab_type": "text"
      },
      "source": [
        "<a href=\"https://colab.research.google.com/github/hamzafarooq/DataStructures-Algo/blob/master/fb_prep.ipynb\" target=\"_parent\"><img src=\"https://colab.research.google.com/assets/colab-badge.svg\" alt=\"Open In Colab\"/></a>"
      ]
    },
    {
      "cell_type": "markdown",
      "metadata": {
        "id": "1QheBkzKU8Mc"
      },
      "source": [
        "#Easy [14]\n"
      ]
    },
    {
      "cell_type": "markdown",
      "metadata": {
        "id": "y52bBFElVSc9"
      },
      "source": [
        "## 415: Add Strings\n",
        "Given two non-negative integers num1 and num2 represented as string, return the sum of num1 and num2."
      ]
    },
    {
      "cell_type": "code",
      "metadata": {
        "id": "M4J86SiVU2_L"
      },
      "source": [
        "class Solution:\n",
        "    def addStrings(self, num1: str, num2: str) -> str:\n",
        "       \n",
        "        \n",
        "        sumofall= []\n",
        "        carry  = 0\n",
        "        for i in range(max(len(num1),len(num2))):\n",
        "            \n",
        "            \n",
        "            if i < len(num1):\n",
        "                a = num1[len(num1)-1-i]\n",
        "            else:\n",
        "                a = '0'\n",
        "                \n",
        "            if i < len(num2):\n",
        "                b = num2[len(num2)-1-i]    \n",
        "            else:\n",
        "                b = '0'\n",
        "             \n",
        "            temp = ord(a) - ord('0') + ord(b) - ord('0') + carry #10 + carry\n",
        "            \n",
        "            remainder = temp % 10   #0\n",
        "            carry = temp//10 #1\n",
        "            \n",
        "       \n",
        "            sumofall.extend(str(remainder))\n",
        "            \n",
        "        if carry == 1:\n",
        "            sumofall.extend(str(carry))\n",
        "               \n",
        "        sumofall = (\"\").join(sumofall)\n",
        "        return sumofall[::-1]"
      ],
      "execution_count": null,
      "outputs": []
    },
    {
      "cell_type": "code",
      "metadata": {
        "id": "284T7tdyU--U"
      },
      "source": [
        "a = Solution()"
      ],
      "execution_count": null,
      "outputs": []
    },
    {
      "cell_type": "code",
      "metadata": {
        "id": "EiQ3V7ciVJUD",
        "outputId": "238e91bc-f69d-4e6c-f524-4e1fa60bb201",
        "colab": {
          "base_uri": "https://localhost:8080/",
          "height": 35
        }
      },
      "source": [
        "a.addStrings('19990','2')"
      ],
      "execution_count": null,
      "outputs": [
        {
          "output_type": "execute_result",
          "data": {
            "application/vnd.google.colaboratory.intrinsic+json": {
              "type": "string"
            },
            "text/plain": [
              "'19992'"
            ]
          },
          "metadata": {
            "tags": []
          },
          "execution_count": 9
        }
      ]
    },
    {
      "cell_type": "markdown",
      "metadata": {
        "id": "cfg58TuYR_a_"
      },
      "source": [
        "## 1: Two Sum\n",
        "Given an array of integers nums and an integer target, return indices of the two numbers such that they add up to target.\n",
        "\n",
        "You may assume that each input would have exactly one solution, and you may not use the same element twice.\n",
        "\n",
        "You can return the answer in any order."
      ]
    },
    {
      "cell_type": "code",
      "metadata": {
        "id": "kBnCP5f5SFyi"
      },
      "source": [
        "def twosum(nums,target):\n",
        "  h={}\n",
        "  for index,num in enumerate(nums):\n",
        "    diff=target-num\n",
        "    if diff in h and index!=h[diff]:\n",
        "      return(h[diff],index)\n",
        "    else:\n",
        "      h[num]=index\n",
        "\n",
        "    "
      ],
      "execution_count": 11,
      "outputs": []
    },
    {
      "cell_type": "markdown",
      "metadata": {
        "id": "HBILxUdLV1Jt"
      },
      "source": [
        "## 67: Add Binary\n",
        "Given two binary strings, return their sum (also a binary string).\n",
        "\n",
        "The input strings are both non-empty and contains only characters 1 or 0.\n",
        "\n"
      ]
    },
    {
      "cell_type": "code",
      "metadata": {
        "id": "otJMcb6eVL9d"
      },
      "source": [
        "class Solution:\n",
        "  def addbinary(self, num1: str, num2: str) -> str:\n",
        "    sumofall = []\n",
        "    carry = 0\n",
        "\n",
        "    for i in range(max(len(num1),len(num2))):\n",
        "      if i < len(num1):\n",
        "        a = num1[len(num1)-1-i]\n",
        "      else:\n",
        "        a = '0'\n",
        "\n",
        "      if i < len(num2):\n",
        "        b = num2[len(num2)-1-i]\n",
        "      else:\n",
        "        b = '0'\n",
        "      \n",
        "      temp = ord(a)-ord('0') + ord(b)-ord('0') + carry\n",
        "      remainder = temp % 2\n",
        "      carry = temp //2\n",
        "      sumofall.extend(str(remainder))\n",
        "\n",
        "    if carry == 1:\n",
        "      sumofall.extend(str(carry))\n",
        "\n",
        "    sumofall = (\"\").join(sumofall)\n",
        "\n",
        "    return sumofall[::-1]\n",
        "\n",
        "      \n",
        "\n"
      ],
      "execution_count": null,
      "outputs": []
    },
    {
      "cell_type": "code",
      "metadata": {
        "id": "LYTpIfSkWtBJ"
      },
      "source": [
        "a = Solution()\n"
      ],
      "execution_count": null,
      "outputs": []
    },
    {
      "cell_type": "code",
      "metadata": {
        "id": "mIYj3_ScZiY4",
        "outputId": "c44aafa7-5189-461b-fa41-c219be3a0213",
        "colab": {
          "base_uri": "https://localhost:8080/",
          "height": 35
        }
      },
      "source": [
        "a.addbinary('1111','1111')"
      ],
      "execution_count": null,
      "outputs": [
        {
          "output_type": "execute_result",
          "data": {
            "application/vnd.google.colaboratory.intrinsic+json": {
              "type": "string"
            },
            "text/plain": [
              "'11110'"
            ]
          },
          "metadata": {
            "tags": []
          },
          "execution_count": 23
        }
      ]
    },
    {
      "cell_type": "markdown",
      "metadata": {
        "id": "rFVBut8WdvAt"
      },
      "source": [
        "## 270: Closest Binary Search Tree Value\n",
        "Given a non-empty binary search tree and a target value, find the value in the BST that is closest to the target.\n",
        "\n",
        "Note:\n",
        "\n",
        "Given target value is a floating point.\n",
        "You are guaranteed to have only one unique value in the BST that is closest to the target.\n"
      ]
    },
    {
      "cell_type": "code",
      "metadata": {
        "id": "oQP-VHiPZkrT"
      },
      "source": [
        "# Definition for a binary tree node.\n",
        "# class TreeNode:\n",
        "#     def __init__(self, val=0, left=None, right=None):\n",
        "#         self.val = val\n",
        "#         self.left = left\n",
        "#         self.right = right\n",
        "import numpy as np\n",
        "class Solution:\n",
        "    def closestValue(self, root: TreeNode, target: float) -> int:\n",
        "        node = root\n",
        "        candidate = node.val\n",
        "        final = None\n",
        "        \n",
        "        while node:\n",
        "            if abs(node.val - target) < abs(candidate - target):\n",
        "                candidate = node.val\n",
        "            if node.val > target:\n",
        "                node = node.left\n",
        "            elif node.val < target:\n",
        "                node = node.right\n",
        "            else:\n",
        "                return node.val\n",
        "            \n",
        "        \n",
        "        return candidate"
      ],
      "execution_count": null,
      "outputs": []
    },
    {
      "cell_type": "markdown",
      "metadata": {
        "id": "RvwFdaEJxR9S"
      },
      "source": [
        "## 278: First Bad Version\n",
        "You are a product manager and currently leading a team to develop a new product. Unfortunately, the latest version of your product fails the quality check. Since each version is developed based on the previous version, all the versions after a bad version are also bad."
      ]
    },
    {
      "cell_type": "code",
      "metadata": {
        "id": "vuCVpt1nxVaA"
      },
      "source": [
        "\"\"\"\n",
        "# The isBadVersion API is already defined for you.\n",
        "# param version, an integer\n",
        "# return an integer\n",
        "# def isBadVersion(version):\n",
        "\"\"\"\n",
        "class Solution:\n",
        "    def firstBadVersion(self, n):\n",
        "        \"\"\"\n",
        "        :type n: int\n",
        "        :rtype: int\n",
        "        \"\"\"\n",
        "        r = n-1\n",
        "        l = 0\n",
        "        while(l<=r):\n",
        "            mid = l + (r-l)//2\n",
        "            if isBadVersion(mid)==False:\n",
        "                l = mid+1\n",
        "            else:\n",
        "                r = mid-1\n",
        "        return l\n"
      ],
      "execution_count": null,
      "outputs": []
    },
    {
      "cell_type": "markdown",
      "metadata": {
        "id": "hRUzCC0kK7Ee"
      },
      "source": [
        "## 88: Merge Sorted Array\n",
        "Given two sorted integer arrays nums1 and nums2, merge nums2 into nums1 as one sorted array."
      ]
    },
    {
      "cell_type": "code",
      "metadata": {
        "id": "lT8q3cUixat_"
      },
      "source": [
        "class Solution:\n",
        "    def merge(self,nums1,m,nums2,n):\n",
        "        \"\"\"\n",
        "        Do not return anything, modify nums1 in-place instead.\n",
        "        \"\"\"\n",
        "        \n",
        "        while m >0 and n>0:\n",
        "            if nums1[m-1] >= nums2[n-1]:\n",
        "                nums1[m+n-1] = nums1[m-1]\n",
        "                m-=1\n",
        "            else:\n",
        "                nums1[m+n-1] = nums2[n-1]\n",
        "                n-=1\n",
        "        if n > 0:\n",
        "            nums1[:n] = nums2[:n]\n",
        "        \n",
        "        return nums1\n",
        "        "
      ],
      "execution_count": null,
      "outputs": []
    },
    {
      "cell_type": "code",
      "metadata": {
        "id": "drBJ06ruWhB7"
      },
      "source": [
        "a = Solution()"
      ],
      "execution_count": null,
      "outputs": []
    },
    {
      "cell_type": "code",
      "metadata": {
        "id": "C5pDRKCfXHDI"
      },
      "source": [
        "nums1 = [1,2,3,0,0,0]\n",
        "m = 3\n",
        "nums2 = [2,5,6]\n",
        "n = 3"
      ],
      "execution_count": null,
      "outputs": []
    },
    {
      "cell_type": "code",
      "metadata": {
        "id": "RQbWC_PsW50V",
        "outputId": "a01c30d7-35f0-4562-f5ca-90d98f7be3c1",
        "colab": {
          "base_uri": "https://localhost:8080/",
          "height": 35
        }
      },
      "source": [
        "a.merge(nums1,m,nums2,n)"
      ],
      "execution_count": null,
      "outputs": [
        {
          "output_type": "execute_result",
          "data": {
            "text/plain": [
              "[1, 2, 2, 3, 5, 6]"
            ]
          },
          "metadata": {
            "tags": []
          },
          "execution_count": 50
        }
      ]
    },
    {
      "cell_type": "markdown",
      "metadata": {
        "id": "vji5jdEDgpOd"
      },
      "source": [
        "## 339: Nested List Weight Sum\n",
        "Given a nested list of integers, return the sum of all integers in the list weighted by their depth.\n",
        "\n",
        "Each element is either an integer, or a list -- whose elements may also be integers or other lists."
      ]
    },
    {
      "cell_type": "code",
      "metadata": {
        "id": "a4lueYcHW_WW"
      },
      "source": [
        "\n",
        "class Solution:\n",
        "    def depthSum(self, nestedList: List[NestedInteger]) -> int:\n",
        "        def visit(nestedList, depth):\n",
        "            res = 0\n",
        "            for item in nestedList:\n",
        "                if item.isInteger():\n",
        "                    res += item.getInteger()*depth\n",
        "                else:\n",
        "                    res += visit(item.getList(), depth+1)\n",
        "            return res\n",
        "        return visit(nestedList, 1)\n",
        "        "
      ],
      "execution_count": null,
      "outputs": []
    },
    {
      "cell_type": "markdown",
      "metadata": {
        "id": "293uTvxlHmNS"
      },
      "source": [
        "## 680: Valid Palindrome II\n",
        "Given a non-empty string s, you may delete at most one character. Judge whether you can make it a palindrome."
      ]
    },
    {
      "cell_type": "code",
      "metadata": {
        "id": "9gva0bTLHo99"
      },
      "source": [
        "class Solution:\n",
        "    def validPalindrome(self, s: str) -> bool:\n",
        "        \n",
        "        def _palindrome(l,r):\n",
        "            while l < r:\n",
        "                if s[l] != s[r]:\n",
        "                    return False\n",
        "                l+=1\n",
        "                r-=1\n",
        "                \n",
        "            return True\n",
        "        \n",
        "        l = 0\n",
        "        r = len(s)-1\n",
        "        \n",
        "        while l < r:\n",
        "            if s[l]!= s[r]:\n",
        "                return _palindrome(l+1,r) or _palindrome(l,r-1)\n",
        "            \n",
        "            l += 1\n",
        "            r -= 1\n",
        "        return True\n",
        "        "
      ],
      "execution_count": null,
      "outputs": []
    },
    {
      "cell_type": "code",
      "metadata": {
        "id": "EAfKTyJcHpu1"
      },
      "source": [
        "a = Solution()"
      ],
      "execution_count": null,
      "outputs": []
    },
    {
      "cell_type": "code",
      "metadata": {
        "id": "ULAwU2i0HzxO",
        "outputId": "a70a9bf1-b3b6-471a-dc8d-7df4bd828207",
        "colab": {
          "base_uri": "https://localhost:8080/",
          "height": 35
        }
      },
      "source": [
        "a.validPalindrome('abdad')"
      ],
      "execution_count": null,
      "outputs": [
        {
          "output_type": "execute_result",
          "data": {
            "text/plain": [
              "False"
            ]
          },
          "metadata": {
            "tags": []
          },
          "execution_count": 57
        }
      ]
    },
    {
      "cell_type": "markdown",
      "metadata": {
        "id": "oyHNUWqfMtRb"
      },
      "source": [
        "## 125: Valid Palindrome\n",
        "Given a string, determine if it is a palindrome, considering only alphanumeric characters and ignoring cases.\n",
        "\n",
        "Note: For the purpose of this problem, we define empty string as valid palindrome."
      ]
    },
    {
      "cell_type": "code",
      "metadata": {
        "id": "c1D0z55AH16D"
      },
      "source": [
        "class Solution:\n",
        "    def isPalindrome(self, s: str) -> bool:\n",
        "        l,r = 0,len(s) -1\n",
        "   \n",
        "        \n",
        "        while l < r:\n",
        "            while l<r and not s[l].isalnum():\n",
        "                l += 1\n",
        "            while l<r and not s[r].isalnum():\n",
        "                r -= 1\n",
        "       \n",
        "            if s[l].lower() != s[r].lower():\n",
        "                return False\n",
        "          \n",
        "            \n",
        "            l += 1\n",
        "            r -= 1\n",
        "            \n",
        "        return True\n",
        "    \n",
        "    def isPalindrome_2(self, s: str) -> bool:\n",
        "      \n",
        "        s= \"\".join(filter(str.isalnum,s)).lower()\n",
        "        l = 0\n",
        "        r = len(s)-1\n",
        "        while l<r:\n",
        "            \n",
        "                \n",
        "            if s[l]!= s[r]:\n",
        "                return False\n",
        "            \n",
        "            l +=1\n",
        "            r -=1\n",
        "        \n",
        "        return True"
      ],
      "execution_count": 5,
      "outputs": []
    },
    {
      "cell_type": "code",
      "metadata": {
        "id": "FM7fMRzJMuse"
      },
      "source": [
        "a = Solution()\n",
        "assert a.isPalindrome(\"A man, a plan, a canal: Panama\") == a.isPalindrome_2(\"A man, a plan, a canal: Panama\")\n"
      ],
      "execution_count": 8,
      "outputs": []
    },
    {
      "cell_type": "markdown",
      "metadata": {
        "id": "vDqXQ4HqUUgZ"
      },
      "source": [
        "## 938: Range Sum of BST\n",
        "Given the root node of a binary search tree, return the sum of values of all nodes with value between L and R (inclusive).\n",
        "\n",
        "The binary search tree is guaranteed to have unique values."
      ]
    },
    {
      "cell_type": "code",
      "metadata": {
        "id": "FdYmu4jJM_eW"
      },
      "source": [
        "# Definition for a binary tree node.\n",
        "# class TreeNode:\n",
        "#     def __init__(self, val=0, left=None, right=None):\n",
        "#         self.val = val\n",
        "#         self.left = left\n",
        "#         self.right = right\n",
        "class Solution(object):\n",
        "    def rangeSumBST(self, root, L, R):\n",
        "        def dfs(node):\n",
        "            if node:\n",
        "                if L<= node.val <= R:\n",
        "                    self.ans += node.val\n",
        "                    #print(node.val)\n",
        "                if node.val>L:\n",
        "                    dfs(node.left)\n",
        "                if node.val<R:\n",
        "                    dfs(node.right)\n",
        "        self.ans = 0\n",
        "        dfs(root)\n",
        "        return self.ans\n"
      ],
      "execution_count": null,
      "outputs": []
    },
    {
      "cell_type": "markdown",
      "metadata": {
        "id": "_u3uIFT7z3N2"
      },
      "source": [
        "## 953: Verifying an Alien Dictionary\n",
        "In an alien language, surprisingly they also use english lowercase letters, but possibly in a different order. The order of the alphabet is some permutation of lowercase letters.\n",
        "\n",
        "Given a sequence of words written in the alien language, and the order of the alphabet, return true if and only if the given words are sorted lexicographicaly in this alien language."
      ]
    },
    {
      "cell_type": "code",
      "metadata": {
        "id": "a9QkT2vtz3uH"
      },
      "source": [
        "a = [\"word\",\"world\",\"row\"]\n",
        "b=\"worldabcefghijkmnpqstuvxyz\""
      ],
      "execution_count": null,
      "outputs": []
    },
    {
      "cell_type": "code",
      "metadata": {
        "id": "uBGJ6gWgz9pI"
      },
      "source": [
        "class Solution:\n",
        "    def isAlienSorted(self, words, order) -> bool:\n",
        "        h = {}\n",
        "        l2 = []\n",
        "        \n",
        "        for index,char in enumerate(order):\n",
        "            h[char] = index+1\n",
        "\n",
        "        for word in words:\n",
        "            l =[]\n",
        "            for i in word:\n",
        "                \n",
        "                l.append(h[i])\n",
        "            l2.append(l)\n",
        "        \n",
        "        print(l2)\n",
        "        \n",
        "        for w1,w2 in zip(l2,l2[1:]):\n",
        "         if w1 > w2:\n",
        "           return False\n",
        "        return True"
      ],
      "execution_count": null,
      "outputs": []
    },
    {
      "cell_type": "code",
      "metadata": {
        "id": "96zjPt3mDmCU"
      },
      "source": [
        "c = Solution()"
      ],
      "execution_count": null,
      "outputs": []
    },
    {
      "cell_type": "code",
      "metadata": {
        "id": "4xA3wvWTDsKL",
        "outputId": "48abae9b-9273-4bd2-974c-ce9790bec767",
        "colab": {
          "base_uri": "https://localhost:8080/",
          "height": 53
        }
      },
      "source": [
        "c.isAlienSorted(a,b)"
      ],
      "execution_count": null,
      "outputs": [
        {
          "output_type": "stream",
          "text": [
            "[[1, 2, 3, 5], [1, 2, 3, 4, 5], [3, 2, 1]]\n"
          ],
          "name": "stdout"
        },
        {
          "output_type": "execute_result",
          "data": {
            "text/plain": [
              "False"
            ]
          },
          "metadata": {
            "tags": []
          },
          "execution_count": 14
        }
      ]
    },
    {
      "cell_type": "markdown",
      "metadata": {
        "id": "79HT1QqYCrHp"
      },
      "source": [
        "## 389: Find the Difference\n",
        "You are given two strings s and t.\n",
        "\n",
        "String t is generated by random shuffling string s and then add one more letter at a random position.\n",
        "\n",
        "Return the letter that was added to t."
      ]
    },
    {
      "cell_type": "code",
      "metadata": {
        "id": "8DOUQfFKCwvx"
      },
      "source": [
        "class Solution:\n",
        "    def findTheDifference(self, s: str, t: str) -> str:\n",
        "        h = {}\n",
        "        k = {}\n",
        "        \n",
        "        \n",
        "        for i in s:\n",
        "            if i in h:\n",
        "                h[i]+=1\n",
        "            else:\n",
        "                h[i] = 1\n",
        "                \n",
        "        \n",
        "        for j in t:\n",
        "            if j in k:\n",
        "                k[j] += 1\n",
        "            else:\n",
        "                k[j] = 1\n",
        "                \n",
        "        print(h)\n",
        "        print(k)\n",
        "                \n",
        "        for i in t:\n",
        "            if i not in h:\n",
        "                return (i)\n",
        "            elif i in k and h[i]< k[i]:\n",
        "                return (i)\n",
        "            else:\n",
        "                pass"
      ],
      "execution_count": null,
      "outputs": []
    },
    {
      "cell_type": "markdown",
      "metadata": {
        "id": "Ceg0mzPOfJg1"
      },
      "source": [
        "## 387: First Unique Character in a String\n",
        "Given a string, find the first non-repeating character in it and return its index. If it doesn't exist, return -1."
      ]
    },
    {
      "cell_type": "code",
      "metadata": {
        "id": "lOCsKjDlfOK5"
      },
      "source": [
        "from collections import Counter\n",
        "class Solution:\n",
        "    def firstUniqChar(self, s: str) -> int:\n",
        "        c = Counter(s)\n",
        "        \n",
        "        for idx,char in enumerate(s):\n",
        "            if c[char] == 1:\n",
        "                return idx\n",
        "        \n",
        "        return -1"
      ],
      "execution_count": 3,
      "outputs": []
    },
    {
      "cell_type": "markdown",
      "metadata": {
        "id": "g5lCk8hPRcob"
      },
      "source": [
        "##1446: Consecutive Characters\n",
        "Given a string s, the power of the string is the maximum length of a non-empty substring that contains only one unique character.\n",
        "\n",
        "Return the power of the string."
      ]
    },
    {
      "cell_type": "code",
      "metadata": {
        "id": "c4V9meidRi7X"
      },
      "source": [
        "class Solution:\n",
        "    def maxPower(self, s: str) -> int:\n",
        "        t,start = 1,1\n",
        "        \n",
        "        \n",
        "        for i in range(len(s)-1):\n",
        "            if s[i]==s[i+1]:\n",
        "                start +=1\n",
        "                t = max(t,start)\n",
        "            else:\n",
        "                start = 1\n",
        "                \n",
        "        \n",
        "        return t"
      ],
      "execution_count": 10,
      "outputs": []
    },
    {
      "cell_type": "markdown",
      "metadata": {
        "id": "Q0-pbF1wEYpa"
      },
      "source": [
        "# Medium [9]\n",
        "\n"
      ]
    },
    {
      "cell_type": "markdown",
      "metadata": {
        "id": "Il7XrqyKEbe4"
      },
      "source": [
        "## 721: Accounts Merge\n",
        "Given a list accounts, each element accounts[i] is a list of strings, where the first element accounts[i][0] is a name, and the rest of the elements are emails representing emails of the account.\n",
        "\n",
        "Now, we would like to merge these accounts. Two accounts definitely belong to the same person if there is some email that is common to both accounts. Note that even if two accounts have the same name, they may belong to different people as people could have the same name. A person can have any number of accounts initially, but all of their accounts definitely have the same name.\n",
        "\n",
        "After merging the accounts, return the accounts in the following format: the first element of each account is the name, and the rest of the elements are emails in sorted order. The accounts themselves can be returned in any order."
      ]
    },
    {
      "cell_type": "markdown",
      "metadata": {
        "id": "vF6nMxzPXYm5"
      },
      "source": [
        "##227: Basic Calculator II\n",
        "Implement a basic calculator to evaluate a simple expression string.\n",
        "\n",
        "The expression string contains only non-negative integers, +, -, *, / operators and empty spaces . The integer division should truncate toward zero."
      ]
    },
    {
      "cell_type": "code",
      "metadata": {
        "id": "XtjtC8fpDuxN"
      },
      "source": [
        "class Solution:\n",
        "    def calculate(self, s: str) -> int:\n",
        "        num, stack, sign = 0, [], \"+\"\n",
        "        for i in range(len(s)):\n",
        "          if s[i].isdigit():\n",
        "                num = num * 10 + int(s[i])\n",
        "          if s[i] in \"+-*/\" or i == len(s) - 1:\n",
        "                if sign == \"+\":\n",
        "                    stack.append(num)\n",
        "                elif sign == \"-\":\n",
        "                    stack.append(-num)\n",
        "                elif sign == \"*\":\n",
        "                    stack.append(stack.pop()*num)\n",
        "                else:\n",
        "                    stack.append(int(stack.pop()/num))\n",
        "                num = 0\n",
        "                sign = s[i]\n",
        "        return sum(stack)\n",
        "    \n",
        "\n",
        "            \n",
        "\n",
        "    def calculate_practice(self,s):\n",
        "      '''\n",
        "focus on the previous sign, you can split the whole string where \n",
        "we notice + or - sign\n",
        "'''\n",
        "\n",
        "      num,stack,previous_sign = 0,[],\"+\" \n",
        "      for i in range(len(s)):\n",
        "        if s[i].isdigit():\n",
        "          num = num * 10 + int(s[i])\n",
        "\n",
        "        if s[i] in '+-*/' or i == len(s) -1:\n",
        "          if previous_sign == '+':     \n",
        "            stack.append(num)\n",
        "          elif previous_sign == '-':\n",
        "            stack.append(-num)\n",
        "          elif previous_sign == '*':\n",
        "            stack.append(stack.pop()*num)\n",
        "          else:\n",
        "            stack.append(int(stack.pop()/num))\n",
        "\n",
        "          num = 0\n",
        "          previous_sign = s[i]\n",
        "\n",
        "      return sum(stack)\n",
        "\n",
        "        "
      ],
      "execution_count": null,
      "outputs": []
    },
    {
      "cell_type": "code",
      "metadata": {
        "id": "oOgXNJg6ZBby"
      },
      "source": [
        "a = Solution()"
      ],
      "execution_count": null,
      "outputs": []
    },
    {
      "cell_type": "code",
      "metadata": {
        "id": "jRqCD73iZLzr"
      },
      "source": [
        "assert a.calculate(\"3+2-4/5*6/2+3*4-2\") == a.calculate_practice(\"3+2-4/5*6/2+3*4-2\")"
      ],
      "execution_count": null,
      "outputs": []
    },
    {
      "cell_type": "markdown",
      "metadata": {
        "id": "T2_hHbxjiLpo"
      },
      "source": [
        "## 523: Continuous Subarray Sum\n",
        "Given a list of non-negative numbers and a target integer k, write a function to check if the array has a continuous subarray of size at least 2 that sums up to a multiple of k, that is, sums up to n*k where n is also an integer.\n",
        "\n"
      ]
    },
    {
      "cell_type": "code",
      "metadata": {
        "id": "lpTVylI-vmJt"
      },
      "source": [
        "class Solution:\n",
        "    def checkSubarraySum(self, nums, k) :\n",
        "        prefix = 0 # prefix modulo \n",
        "        seen = {0: -1}\n",
        "        for i, x in enumerate(nums): \n",
        "            prefix += x\n",
        "            if k: prefix %= k\n",
        "            if prefix in seen and i - seen[prefix] >= 2: return True \n",
        "            seen.setdefault(prefix, i)\n",
        "        return False \n",
        "\n",
        "\n",
        "    \n",
        "    def checking(self,nums,k):\n",
        "      prefix = 0\n",
        "      seen = {0: -1}\n",
        "\n",
        "      for idx,char in enumerate(nums):\n",
        "        prefix += char #incrementing sum\n",
        "        print(prefix)\n",
        "        if k: \n",
        "          prefix = prefix %k #setting to modulus only\n",
        "        if prefix in seen and idx - seen[prefix] >= 2:\n",
        "          return True\n",
        "\n",
        "        seen.setdefault(prefix, idx)\n",
        "\n",
        "      return False"
      ],
      "execution_count": null,
      "outputs": []
    },
    {
      "cell_type": "code",
      "metadata": {
        "id": "h_Az2ZKL4n1b"
      },
      "source": [
        "a = Solution()"
      ],
      "execution_count": null,
      "outputs": []
    },
    {
      "cell_type": "code",
      "metadata": {
        "id": "IU0gf5b34yAj",
        "outputId": "468cc185-af72-4054-b90b-070c7401263c",
        "colab": {
          "base_uri": "https://localhost:8080/",
          "height": 35
        }
      },
      "source": [
        "a.checkSubarraySum([23,2,4,6,7],12) "
      ],
      "execution_count": null,
      "outputs": [
        {
          "output_type": "execute_result",
          "data": {
            "text/plain": [
              "True"
            ]
          },
          "metadata": {
            "tags": []
          },
          "execution_count": 3
        }
      ]
    },
    {
      "cell_type": "code",
      "metadata": {
        "id": "N8fBwm6K40-Z",
        "outputId": "bfb6d9f3-224b-4f6a-8117-0633e55aadb8",
        "colab": {
          "base_uri": "https://localhost:8080/",
          "height": 107
        }
      },
      "source": [
        "a.checking([23,2,4,6,7],12)"
      ],
      "execution_count": null,
      "outputs": [
        {
          "output_type": "stream",
          "text": [
            "23\n",
            "13\n",
            "5\n",
            "11\n"
          ],
          "name": "stdout"
        },
        {
          "output_type": "execute_result",
          "data": {
            "text/plain": [
              "True"
            ]
          },
          "metadata": {
            "tags": []
          },
          "execution_count": 4
        }
      ]
    },
    {
      "cell_type": "code",
      "metadata": {
        "id": "DduJsmj-6AZp",
        "outputId": "a958489a-ea9a-40ab-d8ae-f444b44b77e0",
        "colab": {
          "base_uri": "https://localhost:8080/",
          "height": 89
        }
      },
      "source": [
        "assert a.checkSubarraySum([23,2,4,6,7],12)  == a.checking([23,2,4,6,7],12)"
      ],
      "execution_count": null,
      "outputs": [
        {
          "output_type": "stream",
          "text": [
            "23\n",
            "13\n",
            "5\n",
            "11\n"
          ],
          "name": "stdout"
        }
      ]
    },
    {
      "cell_type": "markdown",
      "metadata": {
        "id": "q6NhdNOY0Mvv"
      },
      "source": [
        "## 102: Binary Tree Level Order Traversal\n",
        "Given a binary tree, return the level order traversal of its nodes' values. (ie, from left to right, level by level).\n",
        "\n",
        "BFS\n",
        "Time and space complexity\n",
        "The time complexity can be expressed as {\\displaystyle O(|V|+|E|)}O(|V|+|E|), since every vertex and every edge will be explored in the worst case. {\\displaystyle |V|}|V| is the number of vertices and {\\displaystyle |E|}|E| is the number of edges in the graph. Note that {\\displaystyle O(|E|)}O(|E|) may vary between {\\displaystyle O(1)}O(1) and {\\displaystyle O(|V|^{2})}O(|V|^{2}), depending on how sparse the input graph is.[9]\n",
        "\n",
        "When the number of vertices in the graph is known ahead of time, and additional data structures are used to determine which vertices have already been added to the queue, the space complexity can be expressed as {\\displaystyle O(|V|)}O(|V|), where {\\displaystyle |V|}|V| is the number of vertices. This is in addition to the space required for the graph itself, which may vary depending on the graph representation used by an implementation of the algorithm.\n",
        "\n"
      ]
    },
    {
      "cell_type": "code",
      "metadata": {
        "id": "wiSKvTX96T6d"
      },
      "source": [
        "# Definition for a binary tree node.\n",
        "class TreeNode:\n",
        "     def __init__(self, val=0, left=None, right=None):\n",
        "         self.val = val\n",
        "         self.left = left\n",
        "         self.right = right\n",
        "class Solution:\n",
        "    def levelOrder(self, root: TreeNode):\n",
        "        if not root:\n",
        "            return []\n",
        "        \n",
        "        level_list = []\n",
        "        queue = []\n",
        "        queue.append(root)\n",
        "        \n",
        "        while len(queue):\n",
        "            current_level = []\n",
        "            \n",
        "            layer_size = len(queue)\n",
        "            \n",
        "            \n",
        "            for i in range(layer_size):\n",
        "                current_node = queue.pop(0)\n",
        "                current_level.append(current_node.val)\n",
        "                \n",
        "                if current_node.left:\n",
        "                    queue.append(current_node.left)\n",
        "                    \n",
        "                if current_node.right:\n",
        "                    queue.append(current_node.right)\n",
        "            level_list.append(current_level)\n",
        "            \n",
        "        return level_list\n",
        "                \n",
        "            "
      ],
      "execution_count": null,
      "outputs": []
    },
    {
      "cell_type": "markdown",
      "metadata": {
        "id": "5eoJI1ACHJ-L"
      },
      "source": [
        "## 104: Maximum Depth of Binary Tree\n",
        "Given a binary tree, find its maximum depth.\n",
        "\n",
        "The maximum depth is the number of nodes along the longest path from the root node down to the farthest leaf node.\n",
        "\n",
        "Note: A leaf is a node with no children."
      ]
    },
    {
      "cell_type": "code",
      "metadata": {
        "id": "FgK2MAqV0Wny"
      },
      "source": [
        "# Definition for a binary tree node.\n",
        "class TreeNode:\n",
        "     def __init__(self, val=0, left=None, right=None):\n",
        "         self.val = val\n",
        "         self.left = left\n",
        "         self.right = right\n",
        "class Solution:\n",
        "    def maxDepth(self, node: TreeNode) -> int:\n",
        "        if not node:\n",
        "            return 0\n",
        "        \n",
        "        return max(self.maxDepth(node.left) + 1, self.maxDepth(node.right) + 1)\n",
        "        "
      ],
      "execution_count": null,
      "outputs": []
    },
    {
      "cell_type": "markdown",
      "metadata": {
        "id": "3J2fIoMYI9Hi"
      },
      "source": [
        "## 111: Minimum Depth of Binary Tree\n",
        "Given a binary tree, find its minimum depth.\n",
        "\n",
        "The minimum depth is the number of nodes along the shortest path from the root node down to the nearest leaf node.\n",
        "\n",
        "Note: A leaf is a node with no children."
      ]
    },
    {
      "cell_type": "code",
      "metadata": {
        "id": "pfZZBf-5HWKs"
      },
      "source": [
        "# Definition for a binary tree node.\n",
        "class TreeNode:\n",
        "     def __init__(self, val=0, left=None, right=None):\n",
        "         self.val = val\n",
        "         self.left = left\n",
        "         self.right = right\n",
        "class Solution:\n",
        "    def minDepth(self, root: TreeNode) -> int:\n",
        "        if not root:\n",
        "            return 0\n",
        "        \n",
        "        queue = [root]\n",
        "        depth = 0\n",
        "        \n",
        "        while queue:\n",
        "            clevel = []\n",
        "            \n",
        "            for i in range(len(queue)):\n",
        "                c = queue.pop(0)\n",
        "                \n",
        "                if not c.left and not c.right:\n",
        "                    depth+= 1\n",
        "                    return depth\n",
        "                    \n",
        "                if c.left:\n",
        "                    queue.append(c.left)\n",
        "                    \n",
        "                if c.right:\n",
        "                    queue.append(c.right)\n",
        "                    \n",
        "            depth+=1\n",
        "                \n",
        "        return depth"
      ],
      "execution_count": null,
      "outputs": []
    },
    {
      "cell_type": "markdown",
      "metadata": {
        "id": "1oBkUg8Vivju"
      },
      "source": [
        "## 987: Vertical Order Traversal of a Binary Tree\n",
        "Given a binary tree, return the vertical order traversal of its nodes values.\n",
        "\n",
        "For each node at position (X, Y), its left and right children respectively will be at positions (X-1, Y-1) and (X+1, Y-1).\n",
        "\n",
        "Running a vertical line from X = -infinity to X = +infinity, whenever the vertical line touches some nodes, we report the values of the nodes in order from top to bottom (decreasing Y coordinates).\n",
        "\n",
        "If two nodes have the same position, then the value of the node that is reported first is the value that is smaller.\n",
        "\n",
        "Return an list of non-empty reports in order of X coordinate.  Every report will have a list of values of nodes."
      ]
    },
    {
      "cell_type": "code",
      "metadata": {
        "id": "0KQ8HMJ0I7vd"
      },
      "source": [
        "# Definition for a binary tree node.\n",
        "class TreeNode:\n",
        "     def __init__(self, val=0, left=None, right=None):\n",
        "         self.val = val\n",
        "         self.left = left\n",
        "         self.right = right\n",
        "class Solution:\n",
        "    \n",
        "    def verticalOrder(self, root, h_dist, v_dist, values):\n",
        "            if not root:\n",
        "                return\n",
        "            \n",
        "            if h_dist in values:\n",
        "                values[h_dist].append((v_dist, root.val))\n",
        "            else:\n",
        "                values[h_dist] = [(v_dist, root.val)]\n",
        "                \n",
        "            self.verticalOrder(root.left, h_dist - 1, v_dist + 1, values)\n",
        "            self.verticalOrder(root.right, h_dist + 1, v_dist + 1, values)\n",
        "            \n",
        "    def verticalTraversal(self, root: TreeNode):\n",
        "        v_dist = 0\n",
        "        h_dist = 0\n",
        "        values = {}  \n",
        "        result = []\n",
        "        \n",
        "        self.verticalOrder(root, h_dist, v_dist, values)\n",
        "        \n",
        "        for x in sorted(values.keys()):\n",
        "            column = [i[1] for i in sorted(values[x])]\n",
        "            result.append(column)\n",
        "\n",
        "        return result       \n"
      ],
      "execution_count": null,
      "outputs": []
    },
    {
      "cell_type": "markdown",
      "metadata": {
        "id": "iabZ2dHUewFt"
      },
      "source": [
        "## 49: Group Anagrams\n",
        "Given an array of strings strs, group the anagrams together. You can return the answer in any order.\n",
        "\n",
        "An Anagram is a word or phrase formed by rearranging the letters of a different word or phrase, typically using all the original letters exactly once.\n",
        "\n"
      ]
    },
    {
      "cell_type": "code",
      "metadata": {
        "id": "ydhkpt9oiq-e"
      },
      "source": [
        "class Solution:\n",
        "    def groupAnagrams(self, strs):\n",
        "        h = {}\n",
        "        \n",
        "        for i in strs:\n",
        "            ss = \"\".join(sorted(i))\n",
        "            if ss in h:\n",
        "                h[ss].append(i)\n",
        "                \n",
        "            else:\n",
        "                h[ss] = [i]\n",
        "              \n",
        "            \n",
        "        return h.values()"
      ],
      "execution_count": 4,
      "outputs": []
    },
    {
      "cell_type": "markdown",
      "metadata": {
        "id": "-xp_C7MIRNWD"
      },
      "source": [
        "##3: Longest Substring without repeating\n",
        "Given a string s, return the length of the longest substring of s without repeating characters."
      ]
    },
    {
      "cell_type": "code",
      "metadata": {
        "id": "T-Sqio4_e4zN"
      },
      "source": [
        "def substring(s):\n",
        "  h={}\n",
        "  maxlen=start=0\n",
        "\n",
        "  for index,char in enumerate(s):\n",
        "    if char in h and start <= h[char]:\n",
        "      start=h[char]+1\n",
        "    else:\n",
        "      maxlen = max(maxlen, index-start+1)\n",
        "    h[char]= index\n",
        "\n",
        "  return maxlen"
      ],
      "execution_count": 9,
      "outputs": []
    },
    {
      "cell_type": "code",
      "metadata": {
        "id": "BahMdSW-RYmq"
      },
      "source": [
        ""
      ],
      "execution_count": null,
      "outputs": []
    }
  ]
}
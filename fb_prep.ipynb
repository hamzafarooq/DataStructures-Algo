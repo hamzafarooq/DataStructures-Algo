{
  "nbformat": 4,
  "nbformat_minor": 0,
  "metadata": {
    "colab": {
      "name": "fb_prep.ipynb",
      "provenance": [],
      "toc_visible": true,
      "authorship_tag": "ABX9TyM7hVW59jPQPSxMGyOkZECk",
      "include_colab_link": true
    },
    "kernelspec": {
      "name": "python3",
      "display_name": "Python 3"
    }
  },
  "cells": [
    {
      "cell_type": "markdown",
      "metadata": {
        "id": "view-in-github",
        "colab_type": "text"
      },
      "source": [
        "<a href=\"https://colab.research.google.com/github/hamzafarooq/DataStructures-Algo/blob/master/fb_prep.ipynb\" target=\"_parent\"><img src=\"https://colab.research.google.com/assets/colab-badge.svg\" alt=\"Open In Colab\"/></a>"
      ]
    },
    {
      "cell_type": "markdown",
      "metadata": {
        "id": "1QheBkzKU8Mc"
      },
      "source": [
        "#Easy [28]\n"
      ]
    },
    {
      "cell_type": "markdown",
      "metadata": {
        "id": "y52bBFElVSc9"
      },
      "source": [
        "## 415: Add Strings\n",
        "Given two non-negative integers num1 and num2 represented as string, return the sum of num1 and num2."
      ]
    },
    {
      "cell_type": "code",
      "metadata": {
        "id": "M4J86SiVU2_L"
      },
      "source": [
        "class Solution:\n",
        "    def addStrings(self, num1: str, num2: str) -> str:\n",
        "       \n",
        "        \n",
        "        sumofall= []\n",
        "        carry  = 0\n",
        "        for i in range(max(len(num1),len(num2))):\n",
        "            \n",
        "            \n",
        "            if i < len(num1):\n",
        "                a = num1[len(num1)-1-i]\n",
        "            else:\n",
        "                a = '0'\n",
        "                \n",
        "            if i < len(num2):\n",
        "                b = num2[len(num2)-1-i]    \n",
        "            else:\n",
        "                b = '0'\n",
        "             \n",
        "            temp = ord(a) - ord('0') + ord(b) - ord('0') + carry #10 + carry\n",
        "            \n",
        "            remainder = temp % 10   #0\n",
        "            carry = temp//10 #1\n",
        "            \n",
        "       \n",
        "            sumofall.extend(str(remainder))\n",
        "            \n",
        "        if carry == 1:\n",
        "            sumofall.extend(str(carry))\n",
        "               \n",
        "        sumofall = (\"\").join(sumofall)\n",
        "        return sumofall[::-1]"
      ],
      "execution_count": null,
      "outputs": []
    },
    {
      "cell_type": "code",
      "metadata": {
        "id": "284T7tdyU--U"
      },
      "source": [
        "a = Solution()"
      ],
      "execution_count": null,
      "outputs": []
    },
    {
      "cell_type": "code",
      "metadata": {
        "id": "EiQ3V7ciVJUD",
        "colab": {
          "base_uri": "https://localhost:8080/",
          "height": 35
        },
        "outputId": "238e91bc-f69d-4e6c-f524-4e1fa60bb201"
      },
      "source": [
        "a.addStrings('19990','2')"
      ],
      "execution_count": null,
      "outputs": [
        {
          "output_type": "execute_result",
          "data": {
            "application/vnd.google.colaboratory.intrinsic+json": {
              "type": "string"
            },
            "text/plain": [
              "'19992'"
            ]
          },
          "metadata": {
            "tags": []
          },
          "execution_count": 9
        }
      ]
    },
    {
      "cell_type": "markdown",
      "metadata": {
        "id": "cfg58TuYR_a_"
      },
      "source": [
        "## 1: Two Sum\n",
        "Given an array of integers nums and an integer target, return indices of the two numbers such that they add up to target.\n",
        "\n",
        "You may assume that each input would have exactly one solution, and you may not use the same element twice.\n",
        "\n",
        "You can return the answer in any order."
      ]
    },
    {
      "cell_type": "code",
      "metadata": {
        "id": "kBnCP5f5SFyi"
      },
      "source": [
        "def twosum(nums,target):\n",
        "  h={}\n",
        "  for index,num in enumerate(nums):\n",
        "    diff=target-num\n",
        "    if diff in h and index!=h[diff]:\n",
        "      return(h[diff],index)\n",
        "    else:\n",
        "      h[num]=index\n",
        "\n",
        "    "
      ],
      "execution_count": null,
      "outputs": []
    },
    {
      "cell_type": "markdown",
      "metadata": {
        "id": "HBILxUdLV1Jt"
      },
      "source": [
        "## 67: Add Binary\n",
        "Given two binary strings, return their sum (also a binary string).\n",
        "\n",
        "The input strings are both non-empty and contains only characters 1 or 0.\n",
        "\n"
      ]
    },
    {
      "cell_type": "code",
      "metadata": {
        "id": "otJMcb6eVL9d"
      },
      "source": [
        "class Solution:\n",
        "  def addbinary(self, num1: str, num2: str) -> str:\n",
        "    sumofall = []\n",
        "    carry = 0\n",
        "\n",
        "    for i in range(max(len(num1),len(num2))):\n",
        "      if i < len(num1):\n",
        "        a = num1[len(num1)-1-i]\n",
        "      else:\n",
        "        a = '0'\n",
        "\n",
        "      if i < len(num2):\n",
        "        b = num2[len(num2)-1-i]\n",
        "      else:\n",
        "        b = '0'\n",
        "      \n",
        "      temp = ord(a)-ord('0') + ord(b)-ord('0') + carry\n",
        "      remainder = temp % 2\n",
        "      carry = temp //2\n",
        "      sumofall.extend(str(remainder))\n",
        "\n",
        "    if carry == 1:\n",
        "      sumofall.extend(str(carry))\n",
        "\n",
        "    sumofall = (\"\").join(sumofall)\n",
        "\n",
        "    return sumofall[::-1]\n",
        "\n",
        "      \n",
        "\n"
      ],
      "execution_count": null,
      "outputs": []
    },
    {
      "cell_type": "code",
      "metadata": {
        "id": "LYTpIfSkWtBJ"
      },
      "source": [
        "a = Solution()\n"
      ],
      "execution_count": null,
      "outputs": []
    },
    {
      "cell_type": "code",
      "metadata": {
        "id": "mIYj3_ScZiY4",
        "colab": {
          "base_uri": "https://localhost:8080/",
          "height": 35
        },
        "outputId": "c44aafa7-5189-461b-fa41-c219be3a0213"
      },
      "source": [
        "a.addbinary('1111','1111')"
      ],
      "execution_count": null,
      "outputs": [
        {
          "output_type": "execute_result",
          "data": {
            "application/vnd.google.colaboratory.intrinsic+json": {
              "type": "string"
            },
            "text/plain": [
              "'11110'"
            ]
          },
          "metadata": {
            "tags": []
          },
          "execution_count": 23
        }
      ]
    },
    {
      "cell_type": "markdown",
      "metadata": {
        "id": "rFVBut8WdvAt"
      },
      "source": [
        "## 270: Closest Binary Search Tree Value\n",
        "Given a non-empty binary search tree and a target value, find the value in the BST that is closest to the target.\n",
        "\n",
        "Note:\n",
        "\n",
        "Given target value is a floating point.\n",
        "You are guaranteed to have only one unique value in the BST that is closest to the target.\n",
        "\n",
        "avg O(log(n))\n",
        "worst O(n)\n"
      ]
    },
    {
      "cell_type": "code",
      "metadata": {
        "id": "oQP-VHiPZkrT"
      },
      "source": [
        "# Definition for a binary tree node.\n",
        "# class TreeNode:\n",
        "#     def __init__(self, val=0, left=None, right=None):\n",
        "#         self.val = val\n",
        "#         self.left = left\n",
        "#         self.right = right\n",
        "import numpy as np\n",
        "class Solution:\n",
        "    def closestValue(self, root: TreeNode, target: float) -> int:\n",
        "        node = root\n",
        "        candidate = node.val\n",
        "        final = None\n",
        "        \n",
        "        while node:\n",
        "            if abs(node.val - target) < abs(candidate - target):\n",
        "                candidate = node.val\n",
        "            if node.val > target:\n",
        "                node = node.left\n",
        "            elif node.val < target:\n",
        "                node = node.right\n",
        "            else:\n",
        "                return node.val\n",
        "            \n",
        "        \n",
        "        return candidate"
      ],
      "execution_count": null,
      "outputs": []
    },
    {
      "cell_type": "markdown",
      "metadata": {
        "id": "RvwFdaEJxR9S"
      },
      "source": [
        "## 278: First Bad Version\n",
        "You are a product manager and currently leading a team to develop a new product. Unfortunately, the latest version of your product fails the quality check. Since each version is developed based on the previous version, all the versions after a bad version are also bad."
      ]
    },
    {
      "cell_type": "code",
      "metadata": {
        "id": "vuCVpt1nxVaA"
      },
      "source": [
        "\"\"\"\n",
        "# The isBadVersion API is already defined for you.\n",
        "# param version, an integer\n",
        "# return an integer\n",
        "# def isBadVersion(version):\n",
        "\"\"\"\n",
        "class Solution:\n",
        "    def firstBadVersion(self, n):\n",
        "        \"\"\"\n",
        "        :type n: int\n",
        "        :rtype: int\n",
        "        \"\"\"\n",
        "        r = n-1\n",
        "        l = 0\n",
        "        while(l<=r):\n",
        "            mid = l + (r-l)//2\n",
        "            if isBadVersion(mid)==False:\n",
        "                l = mid+1\n",
        "            else:\n",
        "                r = mid-1\n",
        "        return l\n"
      ],
      "execution_count": null,
      "outputs": []
    },
    {
      "cell_type": "markdown",
      "metadata": {
        "id": "hRUzCC0kK7Ee"
      },
      "source": [
        "## 88: Merge Sorted Array\n",
        "Given two sorted integer arrays nums1 and nums2, merge nums2 into nums1 as one sorted array."
      ]
    },
    {
      "cell_type": "code",
      "metadata": {
        "id": "lT8q3cUixat_"
      },
      "source": [
        "class Solution:\n",
        "    def merge(self,nums1,m,nums2,n):\n",
        "        \"\"\"\n",
        "        Do not return anything, modify nums1 in-place instead.\n",
        "        \"\"\"\n",
        "        \n",
        "        while m >0 and n>0:\n",
        "            if nums1[m-1] >= nums2[n-1]:\n",
        "                nums1[m+n-1] = nums1[m-1]\n",
        "                m-=1\n",
        "            else:\n",
        "                nums1[m+n-1] = nums2[n-1]\n",
        "                n-=1\n",
        "        if n > 0:\n",
        "            nums1[:n] = nums2[:n]\n",
        "        \n",
        "        return nums1\n",
        "        "
      ],
      "execution_count": null,
      "outputs": []
    },
    {
      "cell_type": "code",
      "metadata": {
        "id": "drBJ06ruWhB7"
      },
      "source": [
        "a = Solution()"
      ],
      "execution_count": null,
      "outputs": []
    },
    {
      "cell_type": "code",
      "metadata": {
        "id": "C5pDRKCfXHDI"
      },
      "source": [
        "nums1 = [1,2,3,0,0,0]\n",
        "m = 3\n",
        "nums2 = [2,5,6]\n",
        "n = 3"
      ],
      "execution_count": null,
      "outputs": []
    },
    {
      "cell_type": "code",
      "metadata": {
        "id": "RQbWC_PsW50V",
        "colab": {
          "base_uri": "https://localhost:8080/",
          "height": 35
        },
        "outputId": "a01c30d7-35f0-4562-f5ca-90d98f7be3c1"
      },
      "source": [
        "a.merge(nums1,m,nums2,n)"
      ],
      "execution_count": null,
      "outputs": [
        {
          "output_type": "execute_result",
          "data": {
            "text/plain": [
              "[1, 2, 2, 3, 5, 6]"
            ]
          },
          "metadata": {
            "tags": []
          },
          "execution_count": 50
        }
      ]
    },
    {
      "cell_type": "markdown",
      "metadata": {
        "id": "vji5jdEDgpOd"
      },
      "source": [
        "## 339: Nested List Weight Sum\n",
        "Given a nested list of integers, return the sum of all integers in the list weighted by their depth.\n",
        "\n",
        "Each element is either an integer, or a list -- whose elements may also be integers or other lists."
      ]
    },
    {
      "cell_type": "code",
      "metadata": {
        "id": "a4lueYcHW_WW"
      },
      "source": [
        "\n",
        "class Solution:\n",
        "    def depthSum(self, nestedList: List[NestedInteger]) -> int:\n",
        "        def visit(nestedList, depth):\n",
        "            res = 0\n",
        "            for item in nestedList:\n",
        "                if item.isInteger():\n",
        "                    res += item.getInteger()*depth\n",
        "                else:\n",
        "                    res += visit(item.getList(), depth+1)\n",
        "            return res\n",
        "        return visit(nestedList, 1)\n",
        "        "
      ],
      "execution_count": null,
      "outputs": []
    },
    {
      "cell_type": "markdown",
      "metadata": {
        "id": "293uTvxlHmNS"
      },
      "source": [
        "## 680: Valid Palindrome II\n",
        "Given a non-empty string s, you may delete at most one character. Judge whether you can make it a palindrome."
      ]
    },
    {
      "cell_type": "code",
      "metadata": {
        "id": "9gva0bTLHo99"
      },
      "source": [
        "class Solution:\n",
        "    def validPalindrome(self, s: str) -> bool:\n",
        "        \n",
        "        def _palindrome(l,r):\n",
        "            while l < r:\n",
        "                if s[l] != s[r]:\n",
        "                    return False\n",
        "                l+=1\n",
        "                r-=1\n",
        "                \n",
        "            return True\n",
        "        \n",
        "        l = 0\n",
        "        r = len(s)-1\n",
        "        \n",
        "        while l < r:\n",
        "            if s[l]!= s[r]:\n",
        "                return _palindrome(l+1,r) or _palindrome(l,r-1)\n",
        "            \n",
        "            l += 1\n",
        "            r -= 1\n",
        "        return True\n",
        "        "
      ],
      "execution_count": null,
      "outputs": []
    },
    {
      "cell_type": "code",
      "metadata": {
        "id": "EAfKTyJcHpu1"
      },
      "source": [
        "a = Solution()"
      ],
      "execution_count": null,
      "outputs": []
    },
    {
      "cell_type": "code",
      "metadata": {
        "id": "ULAwU2i0HzxO",
        "colab": {
          "base_uri": "https://localhost:8080/",
          "height": 35
        },
        "outputId": "a70a9bf1-b3b6-471a-dc8d-7df4bd828207"
      },
      "source": [
        "a.validPalindrome('abdad')"
      ],
      "execution_count": null,
      "outputs": [
        {
          "output_type": "execute_result",
          "data": {
            "text/plain": [
              "False"
            ]
          },
          "metadata": {
            "tags": []
          },
          "execution_count": 57
        }
      ]
    },
    {
      "cell_type": "markdown",
      "metadata": {
        "id": "oyHNUWqfMtRb"
      },
      "source": [
        "## 125: Valid Palindrome\n",
        "Given a string, determine if it is a palindrome, considering only alphanumeric characters and ignoring cases.\n",
        "\n",
        "Note: For the purpose of this problem, we define empty string as valid palindrome."
      ]
    },
    {
      "cell_type": "code",
      "metadata": {
        "id": "c1D0z55AH16D"
      },
      "source": [
        "class Solution:\n",
        "    def isPalindrome(self, s: str) -> bool:\n",
        "        l,r = 0,len(s) -1\n",
        "   \n",
        "        \n",
        "        while l < r:\n",
        "            while l<r and not s[l].isalnum():\n",
        "                l += 1\n",
        "            while l<r and not s[r].isalnum():\n",
        "                r -= 1\n",
        "       \n",
        "            if s[l].lower() != s[r].lower():\n",
        "                return False\n",
        "          \n",
        "            \n",
        "            l += 1\n",
        "            r -= 1\n",
        "            \n",
        "        return True\n",
        "    \n",
        "    def isPalindrome_2(self, s: str) -> bool:\n",
        "      \n",
        "        s= \"\".join(filter(str.isalnum,s)).lower()\n",
        "        l = 0\n",
        "        r = len(s)-1\n",
        "        while l<r:\n",
        "            \n",
        "                \n",
        "            if s[l]!= s[r]:\n",
        "                return False\n",
        "            \n",
        "            l +=1\n",
        "            r -=1\n",
        "        \n",
        "        return True"
      ],
      "execution_count": null,
      "outputs": []
    },
    {
      "cell_type": "code",
      "metadata": {
        "id": "FM7fMRzJMuse"
      },
      "source": [
        "a = Solution()\n",
        "assert a.isPalindrome(\"A man, a plan, a canal: Panama\") == a.isPalindrome_2(\"A man, a plan, a canal: Panama\")\n"
      ],
      "execution_count": null,
      "outputs": []
    },
    {
      "cell_type": "markdown",
      "metadata": {
        "id": "vDqXQ4HqUUgZ"
      },
      "source": [
        "## 938: Range Sum of BST\n",
        "Given the root node of a binary search tree, return the sum of values of all nodes with value between L and R (inclusive).\n",
        "\n",
        "The binary search tree is guaranteed to have unique values."
      ]
    },
    {
      "cell_type": "code",
      "metadata": {
        "id": "FdYmu4jJM_eW"
      },
      "source": [
        "# Definition for a binary tree node.\n",
        "# class TreeNode:\n",
        "#     def __init__(self, val=0, left=None, right=None):\n",
        "#         self.val = val\n",
        "#         self.left = left\n",
        "#         self.right = right\n",
        "class Solution(object):\n",
        "    def rangeSumBST(self, root, L, R):\n",
        "        def dfs(node):\n",
        "            if node:\n",
        "                if L<= node.val <= R:\n",
        "                    self.ans += node.val\n",
        "                    #print(node.val)\n",
        "                if node.val>L:\n",
        "                    dfs(node.left)\n",
        "                if node.val<R:\n",
        "                    dfs(node.right)\n",
        "        self.ans = 0\n",
        "        dfs(root)\n",
        "        return self.ans\n"
      ],
      "execution_count": null,
      "outputs": []
    },
    {
      "cell_type": "markdown",
      "metadata": {
        "id": "_u3uIFT7z3N2"
      },
      "source": [
        "## 953: Verifying an Alien Dictionary\n",
        "In an alien language, surprisingly they also use english lowercase letters, but possibly in a different order. The order of the alphabet is some permutation of lowercase letters.\n",
        "\n",
        "Given a sequence of words written in the alien language, and the order of the alphabet, return true if and only if the given words are sorted lexicographicaly in this alien language."
      ]
    },
    {
      "cell_type": "code",
      "metadata": {
        "id": "a9QkT2vtz3uH"
      },
      "source": [
        "a = [\"word\",\"world\",\"row\"]\n",
        "b=\"worldabcefghijkmnpqstuvxyz\""
      ],
      "execution_count": null,
      "outputs": []
    },
    {
      "cell_type": "code",
      "metadata": {
        "id": "uBGJ6gWgz9pI"
      },
      "source": [
        "class Solution:\n",
        "    def isAlienSorted(self, words, order) -> bool:\n",
        "        h = {}\n",
        "        l2 = []\n",
        "        \n",
        "        for index,char in enumerate(order):\n",
        "            h[char] = index+1\n",
        "\n",
        "        for word in words:\n",
        "            l =[]\n",
        "            for i in word:\n",
        "                \n",
        "                l.append(h[i])\n",
        "            l2.append(l)\n",
        "        \n",
        "        print(l2)\n",
        "        \n",
        "        for w1,w2 in zip(l2,l2[1:]):\n",
        "         if w1 > w2:\n",
        "           return False\n",
        "        return True"
      ],
      "execution_count": null,
      "outputs": []
    },
    {
      "cell_type": "code",
      "metadata": {
        "id": "96zjPt3mDmCU"
      },
      "source": [
        "c = Solution()"
      ],
      "execution_count": null,
      "outputs": []
    },
    {
      "cell_type": "code",
      "metadata": {
        "id": "4xA3wvWTDsKL",
        "colab": {
          "base_uri": "https://localhost:8080/",
          "height": 53
        },
        "outputId": "48abae9b-9273-4bd2-974c-ce9790bec767"
      },
      "source": [
        "c.isAlienSorted(a,b)"
      ],
      "execution_count": null,
      "outputs": [
        {
          "output_type": "stream",
          "text": [
            "[[1, 2, 3, 5], [1, 2, 3, 4, 5], [3, 2, 1]]\n"
          ],
          "name": "stdout"
        },
        {
          "output_type": "execute_result",
          "data": {
            "text/plain": [
              "False"
            ]
          },
          "metadata": {
            "tags": []
          },
          "execution_count": 14
        }
      ]
    },
    {
      "cell_type": "markdown",
      "metadata": {
        "id": "79HT1QqYCrHp"
      },
      "source": [
        "## 389: Find the Difference\n",
        "You are given two strings s and t.\n",
        "\n",
        "String t is generated by random shuffling string s and then add one more letter at a random position.\n",
        "\n",
        "Return the letter that was added to t."
      ]
    },
    {
      "cell_type": "code",
      "metadata": {
        "id": "8DOUQfFKCwvx"
      },
      "source": [
        "class Solution:\n",
        "    def findTheDifference(self, s: str, t: str) -> str:\n",
        "        h = {}\n",
        "        k = {}\n",
        "        \n",
        "        \n",
        "        for i in s:\n",
        "            if i in h:\n",
        "                h[i]+=1\n",
        "            else:\n",
        "                h[i] = 1\n",
        "                \n",
        "        \n",
        "        for j in t:\n",
        "            if j in k:\n",
        "                k[j] += 1\n",
        "            else:\n",
        "                k[j] = 1\n",
        "                \n",
        "        print(h)\n",
        "        print(k)\n",
        "                \n",
        "        for i in t:\n",
        "            if i not in h:\n",
        "                return (i)\n",
        "            elif i in k and h[i]< k[i]:\n",
        "                return (i)\n",
        "            else:\n",
        "                pass"
      ],
      "execution_count": null,
      "outputs": []
    },
    {
      "cell_type": "markdown",
      "metadata": {
        "id": "Ceg0mzPOfJg1"
      },
      "source": [
        "## 387: First Unique Character in a String\n",
        "Given a string, find the first non-repeating character in it and return its index. If it doesn't exist, return -1."
      ]
    },
    {
      "cell_type": "code",
      "metadata": {
        "id": "lOCsKjDlfOK5"
      },
      "source": [
        "from collections import Counter\n",
        "class Solution:\n",
        "    def firstUniqChar(self, s: str) -> int:\n",
        "        c = Counter(s)\n",
        "        \n",
        "        for idx,char in enumerate(s):\n",
        "            if c[char] == 1:\n",
        "                return idx\n",
        "        \n",
        "        return -1"
      ],
      "execution_count": null,
      "outputs": []
    },
    {
      "cell_type": "markdown",
      "metadata": {
        "id": "g5lCk8hPRcob"
      },
      "source": [
        "##1446: Consecutive Characters\n",
        "Given a string s, the power of the string is the maximum length of a non-empty substring that contains only one unique character.\n",
        "\n",
        "Return the power of the string."
      ]
    },
    {
      "cell_type": "code",
      "metadata": {
        "id": "c4V9meidRi7X"
      },
      "source": [
        "class Solution:\n",
        "    def maxPower(self, s: str) -> int:\n",
        "        t,start = 1,1\n",
        "        \n",
        "        \n",
        "        for i in range(len(s)-1):\n",
        "            if s[i]==s[i+1]:\n",
        "                start +=1\n",
        "                t = max(t,start)\n",
        "            else:\n",
        "                start = 1\n",
        "                \n",
        "        \n",
        "        return t"
      ],
      "execution_count": null,
      "outputs": []
    },
    {
      "cell_type": "markdown",
      "metadata": {
        "id": "h8SZzCZAS724"
      },
      "source": [
        "## 252: Meeting Rooms\n",
        "Given an array of meeting time intervals where intervals[i] = [starti, endi], determine if a person could attend all meetings."
      ]
    },
    {
      "cell_type": "code",
      "metadata": {
        "id": "hgyn3jVCTBFE"
      },
      "source": [
        "class Solution:\n",
        "    def canAttendMeetings(self, intervals) -> bool:\n",
        "        if not intervals:\n",
        "            return True\n",
        "        intervals = sorted(intervals)\n",
        "        first = intervals[0][0]\n",
        "        last = intervals[0][1]\n",
        "        \n",
        "        for i in range(1,len(intervals)):\n",
        "            f = intervals[i][0]\n",
        "            l = intervals[i][1]\n",
        "            \n",
        "            \n",
        "            if first >= f:\n",
        "                return False\n",
        "            elif last > f:\n",
        "                return False\n",
        "            first = f\n",
        "            last = l\n",
        "            \n",
        "        return True"
      ],
      "execution_count": null,
      "outputs": []
    },
    {
      "cell_type": "markdown",
      "metadata": {
        "id": "99bMLWidxR_T"
      },
      "source": [
        "## 20: Valid Parentheses\n",
        "Given a string s containing just the characters '(', ')', '{', '}', '[' and ']', determine if the input string is valid.\n",
        "\n",
        "An input string is valid if:\n",
        "\n",
        "Open brackets must be closed by the same type of brackets.\n",
        "Open brackets must be closed in the correct order."
      ]
    },
    {
      "cell_type": "code",
      "metadata": {
        "id": "onaPWigKxQME"
      },
      "source": [
        "class Solution:\n",
        "    def isValid(self, s: str) -> bool:\n",
        "        paren ={ \"(\":\")\",\n",
        "                \"{\":\"}\",\n",
        "                \"[\":\"]\"\n",
        "        }\n",
        "        \n",
        "        l =[]\n",
        "        \n",
        "        for i in range(len(s)):\n",
        "            if s[i] in paren:\n",
        "                l.append(s[i])\n",
        "            elif not l:\n",
        "                return False\n",
        "            elif s[i] != paren[l[-1]] :\n",
        "                return False\n",
        "            else:\n",
        "                del(l[-1])\n",
        "                \n",
        "        if not l:\n",
        "            return True"
      ],
      "execution_count": null,
      "outputs": []
    },
    {
      "cell_type": "markdown",
      "metadata": {
        "id": "zhYfUY52kpZS"
      },
      "source": [
        "##35: Search Insert Position\n",
        "Given a sorted array of distinct integers and a target value, return the index if the target is found. If not, return the index where it would be if it were inserted in order."
      ]
    },
    {
      "cell_type": "code",
      "metadata": {
        "id": "NM60xUjYkyOy"
      },
      "source": [
        "class Solution:\n",
        "  def searchinsert(self,nums,target):\n",
        "    start,end = 0,len(nums)-1\n",
        "\n",
        "    while start <= end:\n",
        "      mid = (start+end)//2\n",
        "\n",
        "      temp = nums[mid]\n",
        "\n",
        "\n",
        "      if temp == target:\n",
        "        return mid\n",
        "\n",
        "      elif temp > target:\n",
        "        end = mid -1\n",
        "\n",
        "      else:\n",
        "        start = mid + 1\n",
        "\n",
        "    return start"
      ],
      "execution_count": null,
      "outputs": []
    },
    {
      "cell_type": "code",
      "metadata": {
        "id": "LfpFCClElYX4"
      },
      "source": [
        "a = Solution()"
      ],
      "execution_count": null,
      "outputs": []
    },
    {
      "cell_type": "code",
      "metadata": {
        "id": "3ZYjQvR6lcOs",
        "colab": {
          "base_uri": "https://localhost:8080/"
        },
        "outputId": "e571cff2-7150-4d7a-972e-9a4d644f0d5e"
      },
      "source": [
        "a.searchinsert([1,3,5,6],10)"
      ],
      "execution_count": null,
      "outputs": [
        {
          "output_type": "execute_result",
          "data": {
            "text/plain": [
              "4"
            ]
          },
          "metadata": {
            "tags": []
          },
          "execution_count": 4
        }
      ]
    },
    {
      "cell_type": "markdown",
      "metadata": {
        "id": "nXFCGhaNnvUf"
      },
      "source": [
        "## 1099: Two Sum Less Than K\n",
        "Given an array A of integers and integer K, return the maximum S such that there exists i < j with A[i] + A[j] = S and S < K. If no i, j exist satisfying this equation, return -1.\n",
        "\n",
        " "
      ]
    },
    {
      "cell_type": "code",
      "metadata": {
        "id": "77wKCtvSnzhI"
      },
      "source": [
        "class Solution:\n",
        "  def twosumless(self,nums,k):\n",
        "    nums.sort()\n",
        "    start,end = 0,len(nums)-1\n",
        "    ans = -1\n",
        "\n",
        "    while start < end:\n",
        "      if nums[start] + nums[end] < k:\n",
        "        ans = max(ans,nums[start] + nums[end])\n",
        "        start +=1 \n",
        "\n",
        "      else:\n",
        "        end -= 1\n",
        "\n",
        "    return ans"
      ],
      "execution_count": null,
      "outputs": []
    },
    {
      "cell_type": "code",
      "metadata": {
        "id": "NBdMr-EioM5O"
      },
      "source": [
        "a = Solution()"
      ],
      "execution_count": null,
      "outputs": []
    },
    {
      "cell_type": "code",
      "metadata": {
        "id": "JsrRcMKjoPSH",
        "colab": {
          "base_uri": "https://localhost:8080/"
        },
        "outputId": "886c6acf-0433-4b40-c988-d90bc673b867"
      },
      "source": [
        "a.twosumless([34,23,1,24,75,33,54,8],60)"
      ],
      "execution_count": null,
      "outputs": [
        {
          "output_type": "execute_result",
          "data": {
            "text/plain": [
              "58"
            ]
          },
          "metadata": {
            "tags": []
          },
          "execution_count": 22
        }
      ]
    },
    {
      "cell_type": "markdown",
      "metadata": {
        "id": "Xs2V1PO14m-A"
      },
      "source": [
        "## 832: Flipping an Image\n",
        "Given a binary matrix A, we want to flip the image horizontally, then invert it, and return the resulting image.\n",
        "\n",
        "To flip an image horizontally means that each row of the image is reversed.  For example, flipping [1, 1, 0] horizontally results in [0, 1, 1].\n",
        "\n",
        "To invert an image means that each 0 is replaced by 1, and each 1 is replaced by 0. For example, inverting [0, 1, 1] results in [1, 0, 0]."
      ]
    },
    {
      "cell_type": "code",
      "metadata": {
        "id": "5yatFwxQ4qZG"
      },
      "source": [
        "class Solution:\n",
        "    def flipAndInvertImage(self, A):\n",
        "        \n",
        "        \n",
        "        for i in range(len(A)):\n",
        "            A[i] = A[i][::-1]\n",
        "            for k in range(len(A)):\n",
        "                if A[i][k] == 0:\n",
        "                    A[i][k] =1\n",
        "                else:\n",
        "                    A[i][k] = 0\n",
        "        return A"
      ],
      "execution_count": null,
      "outputs": []
    },
    {
      "cell_type": "markdown",
      "metadata": {
        "id": "9lXMqg5uYerF"
      },
      "source": [
        "No. According to the definition of the matrix in the problem, the matrix is always a square matrix i.e., the length of the rows & columns are the same.\n",
        "\n",
        "Also, the time complexity is always measured relative to the total no. of input elements, which in this case is all the elements of the matrix. Since every element in the matrix is visited just once, the time complexity remains O(N) where N is total no. of elements in the matrix.\n",
        "\n"
      ]
    },
    {
      "cell_type": "markdown",
      "metadata": {
        "id": "8unCn2e7TFQC"
      },
      "source": [
        "## 346: Moving Average from Data Stream"
      ]
    },
    {
      "cell_type": "code",
      "metadata": {
        "id": "Z9-z_5mNTF1j"
      },
      "source": [
        "class MovingAverage:\n",
        "    \n",
        "    def __init__(self, size: int):\n",
        "        self.window = size\n",
        "        self.buffer = []\n",
        "        self.sum = 0\n",
        "    \n",
        "\n",
        "    def next(self, val: int) -> float:\n",
        "        self.buffer += [val]\n",
        "        self.sum += val\n",
        "        \n",
        "        if len(self.buffer) > self.window:\n",
        "            b =self.buffer.pop(0)\n",
        "            self.sum -= b\n",
        "         \n",
        "        \n",
        "        return self.sum/len(self.buffer)\n",
        "\n",
        "# Your MovingAverage object will be instantiated and called as such:\n",
        "# obj = MovingAverage(size)\n",
        "# param_1 = obj.next(val)"
      ],
      "execution_count": null,
      "outputs": []
    },
    {
      "cell_type": "markdown",
      "metadata": {
        "id": "FK3gKL86IH3l"
      },
      "source": [
        "## 509: Fibonacci Number \n",
        "The Fibonacci numbers, commonly denoted F(n) form a sequence, called the Fibonacci sequence, such that each number is the sum of the two preceding ones, starting from 0 and 1. That is,\n",
        "\n",
        "F(0) = 0,   F(1) = 1\n",
        "F(N) = F(N - 1) + F(N - 2), for N > 1.\n",
        "Given N, calculate F(N).\n",
        "\n"
      ]
    },
    {
      "cell_type": "code",
      "metadata": {
        "id": "SwWtkzJWIJ-W"
      },
      "source": [
        "class Solution:\n",
        "    def fib(self, n: int) -> int:\n",
        "        if n == 0 or n == 1: return n #O(n)\n",
        "        # iterative solution\n",
        "        a, b = 0, 1\n",
        "        while n > 1:\n",
        "            n -= 1\n",
        "            a, b = b, a+b\n",
        "        return b\n",
        "\n",
        "    def fibrecursive(self,n:int):   #o(2^n)\n",
        "        if n ==1 or n == 0: return n\n",
        "        else:\n",
        "          return self.fibrecursive(n-1) + self.fibrecursive(n-2)"
      ],
      "execution_count": null,
      "outputs": []
    },
    {
      "cell_type": "code",
      "metadata": {
        "id": "Ck5RGu4SIroY"
      },
      "source": [
        "a = Solution()"
      ],
      "execution_count": null,
      "outputs": []
    },
    {
      "cell_type": "code",
      "metadata": {
        "id": "T8daIqg_ItpR",
        "colab": {
          "base_uri": "https://localhost:8080/"
        },
        "outputId": "b4ba8767-b6ff-45d8-d3fd-af5e97f9ce3c"
      },
      "source": [
        "a.fibrecursive(5)"
      ],
      "execution_count": null,
      "outputs": [
        {
          "output_type": "execute_result",
          "data": {
            "text/plain": [
              "5"
            ]
          },
          "metadata": {
            "tags": []
          },
          "execution_count": 12
        }
      ]
    },
    {
      "cell_type": "markdown",
      "metadata": {
        "id": "gOgxvYxji-lk"
      },
      "source": [
        "## Caesar's Cipher Shift\n",
        "Shift letter by k"
      ]
    },
    {
      "cell_type": "code",
      "metadata": {
        "id": "NRnQjMeajE3t"
      },
      "source": [
        "def caesarCipherEncryptor(string, key):\n",
        "  l =[]\n",
        "\n",
        "  key = key %26\n",
        "  for i in string:\n",
        "    temp = ord(i) + key\n",
        "    if temp > 122:\n",
        "      temp = 96 + temp % 122\n",
        "\n",
        "    l.append(chr(temp))\n",
        "\n",
        "\n",
        "  return \"\".join(l)"
      ],
      "execution_count": null,
      "outputs": []
    },
    {
      "cell_type": "code",
      "metadata": {
        "id": "lp9ZtKBwkZpq",
        "colab": {
          "base_uri": "https://localhost:8080/",
          "height": 35
        },
        "outputId": "6b0a4c61-b1ec-41c4-833c-26757d54e992"
      },
      "source": [
        "caesarCipherEncryptor('xyz',2)"
      ],
      "execution_count": null,
      "outputs": [
        {
          "output_type": "execute_result",
          "data": {
            "application/vnd.google.colaboratory.intrinsic+json": {
              "type": "string"
            },
            "text/plain": [
              "'zab'"
            ]
          },
          "metadata": {
            "tags": []
          },
          "execution_count": 41
        }
      ]
    },
    {
      "cell_type": "markdown",
      "metadata": {
        "id": "v2Hb3GNuslVn"
      },
      "source": [
        "## 206: Reverse Linked List\n",
        "Input: 1->2->3->4->5->NULL\n",
        "Output: 5->4->3->2->1->NULL\n",
        "\n",
        "You need to remember the flow:\n",
        "\n",
        "temp = current.next --- remember this one\n",
        "\n",
        "current.next = previous\n",
        "previous = current\n",
        "current = temp"
      ]
    },
    {
      "cell_type": "code",
      "metadata": {
        "id": "kFy3_qv5su9C"
      },
      "source": [
        "# Definition for singly-linked list.\n",
        "# class ListNode:\n",
        "#     def __init__(self, val=0, next=None):\n",
        "#         self.val = val\n",
        "#         self.next = next\n",
        "class Solution:\n",
        "    def reverseList(self, head: ListNode) -> ListNode:\n",
        "        current,previous,temp = head, None,None\n",
        "        while current:\n",
        "            temp = current.next\n",
        "            current.next = previous\n",
        "            previous = current\n",
        "            current = temp            \n",
        "        \n",
        "        return previous\n",
        "\n",
        "\n",
        "    def reverseListr(self, head: ListNode,previous = None) -> ListNode:\n",
        "        if head is None:\n",
        "            return previous\n",
        "        \n",
        "        temp = head.next\n",
        "        head.next = previous\n",
        "        \n",
        "        return self.reverseListr(temp,head)\n",
        "        "
      ],
      "execution_count": null,
      "outputs": []
    },
    {
      "cell_type": "markdown",
      "metadata": {
        "id": "rZxm_9KyOI9d"
      },
      "source": [
        "## 1460: Make Two Arrays Equal by Reversing Sub-arrays\n",
        "Given a list of n integers arr[0..(n-1)], determine the number of different pairs of elements within it which sum to k.\n",
        "If an integer appears in the list multiple times, each copy is considered to be different; that is, two pairs are considered different if one pair includes at least one array index which the other doesn't, even if they include the same values.\n"
      ]
    },
    {
      "cell_type": "markdown",
      "metadata": {
        "id": "rHQh3nyWH2nw"
      },
      "source": [
        "##392: Is Subsequence"
      ]
    },
    {
      "cell_type": "code",
      "metadata": {
        "id": "G8EM4q2JH3VB"
      },
      "source": [
        "class Solution:\n",
        "    def isSubsequence(self, s: str, t: str) -> bool:\n",
        "        if not s:\n",
        "            return True\n",
        "        buff = [False]*len(s)\n",
        "        \n",
        "        i = 0\n",
        "        for ch in t:\n",
        "            if i < len(s) and ch == s[i] and buff[i] == False:\n",
        "                buff[i] = True\n",
        "                i+=1\n",
        "                \n",
        "        return buff[-1]\n",
        "            \n",
        "        "
      ],
      "execution_count": null,
      "outputs": []
    },
    {
      "cell_type": "markdown",
      "metadata": {
        "id": "LARiRSz6lNJU"
      },
      "source": [
        "## 628: Maximum Product of Three Numbers\n",
        "\n",
        "Given an integer array nums, find three numbers whose product is maximum and return the maximum product.\n",
        "\n",
        " \n",
        "\n",
        "Example 1:\n",
        "\n",
        "Input: nums = [1,2,3]\n",
        "Output: 6"
      ]
    },
    {
      "cell_type": "code",
      "metadata": {
        "id": "K2HlI5lolHTJ"
      },
      "source": [
        "def maximumProduct(self, nums):\n",
        "        nums.sort(reverse =True)\n",
        "        a = nums[0] * nums[1] * nums[2]\n",
        "        b = nums[-1] * nums[-2] * nums[0]\n",
        "        return max([a,b])"
      ],
      "execution_count": null,
      "outputs": []
    },
    {
      "cell_type": "markdown",
      "metadata": {
        "id": "fqRt-WfVli9P"
      },
      "source": [
        "## Largest Triple Products\n",
        "You're given a list of n integers arr[0..(n-1)]. You must compute a list output[0..(n-1)] such that, for each index i (between 0 and n-1, inclusive), output[i] is equal to the product of the three largest elements out of arr[0..i] (or equal to -1 if i < 2, as arr[0..i] then includes fewer than three elements).\n",
        "Note that the three largest elements used to form any product may have the same values as one another, but they must be at different indices in arr.\n",
        "Signature\n",
        "int[] findMaxProduct(int[] arr)\n",
        "Input\n",
        "n is in the range [1, 100,000].\n",
        "Each value arr[i] is in the range [1, 1,000].\n",
        "Output\n",
        "Return a list of n integers output[0..(n-1)], as described above.\n",
        "Example 1\n",
        "n = 5\n",
        "arr = [1, 2, 3, 4, 5]\n",
        "output = [-1, -1, 6, 24, 60]\n",
        "The 3rd element of output is 3*2*1 = 6, the 4th is 4*3*2 = 24, and the 5th is 5*4*3 = 60."
      ]
    },
    {
      "cell_type": "code",
      "metadata": {
        "id": "pN75kNQjlHOm"
      },
      "source": [
        "def findMaxProduct(arr):\n",
        "  # Write your code here\n",
        "  lst = [arr[0],arr[1],arr[2]]\n",
        "  m = arr[0]*arr[1]*arr[2]\n",
        "  product = [-1,-1,m]\n",
        "  \n",
        "  lst = sorted(lst)\n",
        "  \n",
        "  for i in range(3,len(arr)):\n",
        "    if arr[i] > lst[0]:\n",
        "      lst[0] = arr[i]\n",
        "      \n",
        "    lst = sorted(lst)\n",
        "    product.append(lst[0]*lst[1]*lst[2])\n",
        "    \n",
        "    \n",
        "  return product\n",
        "  "
      ],
      "execution_count": null,
      "outputs": []
    },
    {
      "cell_type": "markdown",
      "metadata": {
        "id": "nCwU_E7tCCD2"
      },
      "source": [
        "##110: Balanced Binary Tree\n",
        "\n",
        "Given a binary tree, determine if it is height-balanced.\n",
        "\n",
        "For this problem, a height-balanced binary tree is defined as:\n",
        "\n",
        "a binary tree in which the left and right subtrees of every node differ in height by no more than 1."
      ]
    },
    {
      "cell_type": "code",
      "metadata": {
        "id": "Du3lhGBGCCZR"
      },
      "source": [
        "# Definition for a binary tree node.\n",
        "# class TreeNode:\n",
        "#     def __init__(self, val=0, left=None, right=None):\n",
        "#         self.val = val\n",
        "#         self.left = left\n",
        "#         self.right = right\n",
        "class Solution:\n",
        "    def isBalanced(self, root: TreeNode) -> bool:\n",
        "        def r_balanced(tree, height):\n",
        "            if not tree:  # base case\n",
        "                return height\n",
        "            l = r_balanced(tree.left, height+1)\n",
        "            r = r_balanced(tree.right, height+1)\n",
        "            return max(l, r) if abs(l-r) <= 1 else -float(\"inf\")\n",
        "\n",
        "        return r_balanced(root, 0) >= 0"
      ],
      "execution_count": null,
      "outputs": []
    },
    {
      "cell_type": "markdown",
      "metadata": {
        "id": "-3ktngKyirtZ"
      },
      "source": [
        "##543: Diameter of Binary Tree\n",
        "Given a binary tree, you need to compute the length of the diameter of the tree. The diameter of a binary tree is the length of the longest path between any two nodes in a tree. This path may or may not pass through the root.\n",
        "\n"
      ]
    },
    {
      "cell_type": "code",
      "metadata": {
        "id": "q5NjVPUWizjp"
      },
      "source": [
        "# Definition for a binary tree node.\n",
        "# class TreeNode:\n",
        "#     def __init__(self, val=0, left=None, right=None):\n",
        "#         self.val = val\n",
        "#         self.left = left\n",
        "#         self.right = right\n",
        "class Solution:\n",
        "    def diameterOfBinaryTree(self, root: TreeNode) -> int:\n",
        "        self.ans = 0\n",
        "        \n",
        "        def depth(p):\n",
        "            if not p: return 0\n",
        "            left, right = depth(p.left), depth(p.right)\n",
        "            self.ans = max(self.ans, left+right)\n",
        "            return 1 + max(left, right)\n",
        "            \n",
        "        depth(root)\n",
        "        return self.ans\n"
      ],
      "execution_count": null,
      "outputs": []
    },
    {
      "cell_type": "markdown",
      "metadata": {
        "id": "Q0-pbF1wEYpa"
      },
      "source": [
        "# Medium [16]\n",
        "\n"
      ]
    },
    {
      "cell_type": "markdown",
      "metadata": {
        "id": "EXXIa_e1T_rD"
      },
      "source": [
        "## Pair Sums\n",
        "Given a list of n integers arr[0..(n-1)], determine the number of different pairs of elements within it which sum to k.\n",
        "If an integer appears in the list multiple times, each copy is considered to be different; that is, two pairs are considered different if one pair includes at least one array index which the other doesn't, even if they include the same values."
      ]
    },
    {
      "cell_type": "code",
      "metadata": {
        "id": "ScD1tfr9LoaR"
      },
      "source": [
        "import math\n",
        "# Add any extra import statements you may need here\n",
        "\n",
        "from collections import Counter\n",
        "# Add any helper functions you may need here\n",
        "\n",
        "\n",
        "def numberOfWays(arr, k):\n",
        "  h = {}\n",
        "  c = Counter(arr)\n",
        "  l =[]\n",
        "  print(c)\n",
        "  counter = 0\n",
        "  for i in range(len(arr)):\n",
        "    diff = k - arr[i]\n",
        "    if diff == arr[i] and c[diff]>1:\n",
        "      l.append([arr[i],diff])\n",
        "      counter+=c[diff]-1\n",
        "    elif diff in c and diff != arr[i] and c[diff]>1:\n",
        "      l.append([arr[i],diff])\n",
        "      counter+=c[diff]\n",
        "    elif diff in c and diff != arr[i] and c[diff]==1:\n",
        "      counter+=1\n",
        "  print(l)\n",
        "  return math.ceil(counter//2)"
      ],
      "execution_count": null,
      "outputs": []
    },
    {
      "cell_type": "markdown",
      "metadata": {
        "id": "Il7XrqyKEbe4"
      },
      "source": [
        "## 721: Accounts Merge\n",
        "Given a list accounts, each element accounts[i] is a list of strings, where the first element accounts[i][0] is a name, and the rest of the elements are emails representing emails of the account.\n",
        "\n",
        "Now, we would like to merge these accounts. Two accounts definitely belong to the same person if there is some email that is common to both accounts. Note that even if two accounts have the same name, they may belong to different people as people could have the same name. A person can have any number of accounts initially, but all of their accounts definitely have the same name.\n",
        "\n",
        "After merging the accounts, return the accounts in the following format: the first element of each account is the name, and the rest of the elements are emails in sorted order. The accounts themselves can be returned in any order."
      ]
    },
    {
      "cell_type": "markdown",
      "metadata": {
        "id": "vF6nMxzPXYm5"
      },
      "source": [
        "##227: Basic Calculator II\n",
        "Implement a basic calculator to evaluate a simple expression string.\n",
        "\n",
        "The expression string contains only non-negative integers, +, -, *, / operators and empty spaces . The integer division should truncate toward zero."
      ]
    },
    {
      "cell_type": "code",
      "metadata": {
        "id": "XtjtC8fpDuxN"
      },
      "source": [
        "class Solution:\n",
        "    def calculate(self, s: str) -> int:\n",
        "        num, stack, sign = 0, [], \"+\"\n",
        "        for i in range(len(s)):\n",
        "          if s[i].isdigit():\n",
        "                num = num * 10 + int(s[i])\n",
        "          if s[i] in \"+-*/\" or i == len(s) - 1:\n",
        "                if sign == \"+\":\n",
        "                    stack.append(num)\n",
        "                elif sign == \"-\":\n",
        "                    stack.append(-num)\n",
        "                elif sign == \"*\":\n",
        "                    stack.append(stack.pop()*num)\n",
        "                else:\n",
        "                    stack.append(int(stack.pop()/num))\n",
        "                num = 0\n",
        "                sign = s[i]\n",
        "        return sum(stack)\n",
        "    \n",
        "\n",
        "            \n",
        "\n",
        "    def calculate_practice(self,s):\n",
        "      '''\n",
        "focus on the previous sign, you can split the whole string where \n",
        "we notice + or - sign\n",
        "'''\n",
        "\n",
        "      num,stack,previous_sign = 0,[],\"+\" \n",
        "      for i in range(len(s)):\n",
        "        if s[i].isdigit():\n",
        "          num = num * 10 + int(s[i])\n",
        "\n",
        "        if s[i] in '+-*/' or i == len(s) -1:\n",
        "          if previous_sign == '+':     \n",
        "            stack.append(num)\n",
        "          elif previous_sign == '-':\n",
        "            stack.append(-num)\n",
        "          elif previous_sign == '*':\n",
        "            stack.append(stack.pop()*num)\n",
        "          else:\n",
        "            stack.append(int(stack.pop()/num))\n",
        "\n",
        "          num = 0\n",
        "          previous_sign = s[i]\n",
        "\n",
        "      return sum(stack)\n",
        "\n",
        "        "
      ],
      "execution_count": null,
      "outputs": []
    },
    {
      "cell_type": "code",
      "metadata": {
        "id": "oOgXNJg6ZBby"
      },
      "source": [
        "a = Solution()"
      ],
      "execution_count": null,
      "outputs": []
    },
    {
      "cell_type": "code",
      "metadata": {
        "id": "jRqCD73iZLzr"
      },
      "source": [
        "assert a.calculate(\"3+2-4/5*6/2+3*4-2\") == a.calculate_practice(\"3+2-4/5*6/2+3*4-2\")"
      ],
      "execution_count": null,
      "outputs": []
    },
    {
      "cell_type": "markdown",
      "metadata": {
        "id": "T2_hHbxjiLpo"
      },
      "source": [
        "## 523: Continuous Subarray Sum\n",
        "Given a list of non-negative numbers and a target integer k, write a function to check if the array has a continuous subarray of size at least 2 that sums up to a multiple of k, that is, sums up to n*k where n is also an integer.\n",
        "\n"
      ]
    },
    {
      "cell_type": "code",
      "metadata": {
        "id": "lpTVylI-vmJt"
      },
      "source": [
        "class Solution:\n",
        "    def checkSubarraySum(self, nums, k) :\n",
        "        prefix = 0 # prefix modulo \n",
        "        seen = {0: -1}\n",
        "        for i, x in enumerate(nums): \n",
        "            prefix += x\n",
        "            if k: prefix %= k\n",
        "            if prefix in seen and i - seen[prefix] >= 2: return True \n",
        "            seen.setdefault(prefix, i)\n",
        "        return False \n",
        "\n",
        "\n",
        "    \n",
        "    def checking(self,nums,k):\n",
        "      prefix = 0\n",
        "      seen = {0: -1}\n",
        "\n",
        "      for idx,char in enumerate(nums):\n",
        "        prefix += char #incrementing sum\n",
        "        print(prefix)\n",
        "        if k: \n",
        "          prefix = prefix %k #setting to modulus only\n",
        "        if prefix in seen and idx - seen[prefix] >= 2:\n",
        "          return True\n",
        "\n",
        "        seen.setdefault(prefix, idx)\n",
        "\n",
        "      return False"
      ],
      "execution_count": null,
      "outputs": []
    },
    {
      "cell_type": "code",
      "metadata": {
        "id": "h_Az2ZKL4n1b"
      },
      "source": [
        "a = Solution()"
      ],
      "execution_count": null,
      "outputs": []
    },
    {
      "cell_type": "code",
      "metadata": {
        "id": "IU0gf5b34yAj",
        "colab": {
          "base_uri": "https://localhost:8080/",
          "height": 35
        },
        "outputId": "468cc185-af72-4054-b90b-070c7401263c"
      },
      "source": [
        "a.checkSubarraySum([23,2,4,6,7],12) "
      ],
      "execution_count": null,
      "outputs": [
        {
          "output_type": "execute_result",
          "data": {
            "text/plain": [
              "True"
            ]
          },
          "metadata": {
            "tags": []
          },
          "execution_count": 3
        }
      ]
    },
    {
      "cell_type": "code",
      "metadata": {
        "id": "N8fBwm6K40-Z",
        "colab": {
          "base_uri": "https://localhost:8080/",
          "height": 107
        },
        "outputId": "bfb6d9f3-224b-4f6a-8117-0633e55aadb8"
      },
      "source": [
        "a.checking([23,2,4,6,7],12)"
      ],
      "execution_count": null,
      "outputs": [
        {
          "output_type": "stream",
          "text": [
            "23\n",
            "13\n",
            "5\n",
            "11\n"
          ],
          "name": "stdout"
        },
        {
          "output_type": "execute_result",
          "data": {
            "text/plain": [
              "True"
            ]
          },
          "metadata": {
            "tags": []
          },
          "execution_count": 4
        }
      ]
    },
    {
      "cell_type": "code",
      "metadata": {
        "id": "DduJsmj-6AZp",
        "colab": {
          "base_uri": "https://localhost:8080/",
          "height": 89
        },
        "outputId": "a958489a-ea9a-40ab-d8ae-f444b44b77e0"
      },
      "source": [
        "assert a.checkSubarraySum([23,2,4,6,7],12)  == a.checking([23,2,4,6,7],12)"
      ],
      "execution_count": null,
      "outputs": [
        {
          "output_type": "stream",
          "text": [
            "23\n",
            "13\n",
            "5\n",
            "11\n"
          ],
          "name": "stdout"
        }
      ]
    },
    {
      "cell_type": "markdown",
      "metadata": {
        "id": "q6NhdNOY0Mvv"
      },
      "source": [
        "## 102: Binary Tree Level Order Traversal\n",
        "Given a binary tree, return the level order traversal of its nodes' values. (ie, from left to right, level by level).\n",
        "\n",
        "BFS\n",
        "Time and space complexity\n",
        "The time complexity can be expressed as {\\displaystyle O(|V|+|E|)}O(|V|+|E|), since every vertex and every edge will be explored in the worst case. {\\displaystyle |V|}|V| is the number of vertices and {\\displaystyle |E|}|E| is the number of edges in the graph. Note that {\\displaystyle O(|E|)}O(|E|) may vary between {\\displaystyle O(1)}O(1) and {\\displaystyle O(|V|^{2})}O(|V|^{2}), depending on how sparse the input graph is.[9]\n",
        "\n",
        "When the number of vertices in the graph is known ahead of time, and additional data structures are used to determine which vertices have already been added to the queue, the space complexity can be expressed as {\\displaystyle O(|V|)}O(|V|), where {\\displaystyle |V|}|V| is the number of vertices. This is in addition to the space required for the graph itself, which may vary depending on the graph representation used by an implementation of the algorithm.\n",
        "\n"
      ]
    },
    {
      "cell_type": "code",
      "metadata": {
        "id": "wiSKvTX96T6d"
      },
      "source": [
        "# Definition for a binary tree node.\n",
        "class TreeNode:\n",
        "     def __init__(self, val=0, left=None, right=None):\n",
        "         self.val = val\n",
        "         self.left = left\n",
        "         self.right = right\n",
        "class Solution:\n",
        "    def levelOrder(self, root: TreeNode):\n",
        "        if not root:\n",
        "            return []\n",
        "        \n",
        "        level_list = []\n",
        "        queue = []\n",
        "        queue.append(root)\n",
        "        \n",
        "        while len(queue):\n",
        "            current_level = []\n",
        "            \n",
        "            layer_size = len(queue)\n",
        "            \n",
        "            \n",
        "            for i in range(layer_size):\n",
        "                current_node = queue.pop(0)\n",
        "                current_level.append(current_node.val)\n",
        "                \n",
        "                if current_node.left:\n",
        "                    queue.append(current_node.left)\n",
        "                    \n",
        "                if current_node.right:\n",
        "                    queue.append(current_node.right)\n",
        "            level_list.append(current_level)\n",
        "            \n",
        "        return level_list\n",
        "                \n",
        "            "
      ],
      "execution_count": null,
      "outputs": []
    },
    {
      "cell_type": "markdown",
      "metadata": {
        "id": "5eoJI1ACHJ-L"
      },
      "source": [
        "## 104: Maximum Depth of Binary Tree\n",
        "Given a binary tree, find its maximum depth.\n",
        "\n",
        "The maximum depth is the number of nodes along the longest path from the root node down to the farthest leaf node.\n",
        "\n",
        "Note: A leaf is a node with no children."
      ]
    },
    {
      "cell_type": "code",
      "metadata": {
        "id": "FgK2MAqV0Wny"
      },
      "source": [
        "# Definition for a binary tree node.\n",
        "class TreeNode:\n",
        "     def __init__(self, val=0, left=None, right=None):\n",
        "         self.val = val\n",
        "         self.left = left\n",
        "         self.right = right\n",
        "class Solution:\n",
        "    def maxDepth(self, node: TreeNode) -> int:\n",
        "        if not node:\n",
        "            return 0\n",
        "        \n",
        "        return max(self.maxDepth(node.left) + 1, self.maxDepth(node.right) + 1)\n",
        "        "
      ],
      "execution_count": null,
      "outputs": []
    },
    {
      "cell_type": "markdown",
      "metadata": {
        "id": "3J2fIoMYI9Hi"
      },
      "source": [
        "## 111: Minimum Depth of Binary Tree\n",
        "Given a binary tree, find its minimum depth.\n",
        "\n",
        "The minimum depth is the number of nodes along the shortest path from the root node down to the nearest leaf node.\n",
        "\n",
        "Note: A leaf is a node with no children."
      ]
    },
    {
      "cell_type": "code",
      "metadata": {
        "id": "pfZZBf-5HWKs"
      },
      "source": [
        "# Definition for a binary tree node.\n",
        "class TreeNode:\n",
        "     def __init__(self, val=0, left=None, right=None):\n",
        "         self.val = val\n",
        "         self.left = left\n",
        "         self.right = right\n",
        "class Solution:\n",
        "    def minDepth(self, root: TreeNode) -> int:\n",
        "        if not root:\n",
        "            return 0\n",
        "        \n",
        "        queue = [root]\n",
        "        depth = 0\n",
        "        \n",
        "        while queue:\n",
        "            clevel = []\n",
        "            \n",
        "            for i in range(len(queue)):\n",
        "                c = queue.pop(0)\n",
        "                \n",
        "                if not c.left and not c.right:\n",
        "                    depth+= 1\n",
        "                    return depth\n",
        "                    \n",
        "                if c.left:\n",
        "                    queue.append(c.left)\n",
        "                    \n",
        "                if c.right:\n",
        "                    queue.append(c.right)\n",
        "                    \n",
        "            depth+=1\n",
        "                \n",
        "        return depth"
      ],
      "execution_count": null,
      "outputs": []
    },
    {
      "cell_type": "markdown",
      "metadata": {
        "id": "1oBkUg8Vivju"
      },
      "source": [
        "## 987: Vertical Order Traversal of a Binary Tree\n",
        "Given a binary tree, return the vertical order traversal of its nodes values.\n",
        "\n",
        "For each node at position (X, Y), its left and right children respectively will be at positions (X-1, Y-1) and (X+1, Y-1).\n",
        "\n",
        "Running a vertical line from X = -infinity to X = +infinity, whenever the vertical line touches some nodes, we report the values of the nodes in order from top to bottom (decreasing Y coordinates).\n",
        "\n",
        "If two nodes have the same position, then the value of the node that is reported first is the value that is smaller.\n",
        "\n",
        "Return an list of non-empty reports in order of X coordinate.  Every report will have a list of values of nodes."
      ]
    },
    {
      "cell_type": "code",
      "metadata": {
        "id": "0KQ8HMJ0I7vd"
      },
      "source": [
        "# Definition for a binary tree node.\n",
        "class TreeNode:\n",
        "     def __init__(self, val=0, left=None, right=None):\n",
        "         self.val = val\n",
        "         self.left = left\n",
        "         self.right = right\n",
        "class Solution:\n",
        "    \n",
        "    def verticalOrder(self, root, h_dist, v_dist, values):\n",
        "            if not root:\n",
        "                return\n",
        "            \n",
        "            if h_dist in values:\n",
        "                values[h_dist].append((v_dist, root.val))\n",
        "            else:\n",
        "                values[h_dist] = [(v_dist, root.val)]\n",
        "                \n",
        "            self.verticalOrder(root.left, h_dist - 1, v_dist + 1, values)\n",
        "            self.verticalOrder(root.right, h_dist + 1, v_dist + 1, values)\n",
        "            \n",
        "    def verticalTraversal(self, root: TreeNode):\n",
        "        v_dist = 0\n",
        "        h_dist = 0\n",
        "        values = {}  \n",
        "        result = []\n",
        "        \n",
        "        self.verticalOrder(root, h_dist, v_dist, values)\n",
        "        \n",
        "        for x in sorted(values.keys()):\n",
        "            column = [i[1] for i in sorted(values[x])]\n",
        "            result.append(column)\n",
        "\n",
        "        return result       \n"
      ],
      "execution_count": null,
      "outputs": []
    },
    {
      "cell_type": "markdown",
      "metadata": {
        "id": "iabZ2dHUewFt"
      },
      "source": [
        "## 49: Group Anagrams\n",
        "Given an array of strings strs, group the anagrams together. You can return the answer in any order.\n",
        "\n",
        "An Anagram is a word or phrase formed by rearranging the letters of a different word or phrase, typically using all the original letters exactly once.\n",
        "\n"
      ]
    },
    {
      "cell_type": "code",
      "metadata": {
        "id": "ydhkpt9oiq-e"
      },
      "source": [
        "class Solution:\n",
        "    def groupAnagrams(self, strs):\n",
        "        h = {}\n",
        "        \n",
        "        for i in strs:\n",
        "            ss = \"\".join(sorted(i))\n",
        "            if ss in h:\n",
        "                h[ss].append(i)\n",
        "                \n",
        "            else:\n",
        "                h[ss] = [i]\n",
        "              \n",
        "            \n",
        "        return h.values()"
      ],
      "execution_count": null,
      "outputs": []
    },
    {
      "cell_type": "markdown",
      "metadata": {
        "id": "-xp_C7MIRNWD"
      },
      "source": [
        "##3: Longest Substring without repeating\n",
        "Given a string s, return the length of the longest substring of s without repeating characters."
      ]
    },
    {
      "cell_type": "code",
      "metadata": {
        "id": "T-Sqio4_e4zN"
      },
      "source": [
        "def substring(s):\n",
        "  h={}\n",
        "  maxlen=start=0\n",
        "\n",
        "  for index,char in enumerate(s):\n",
        "    if char in h and start <= h[char]:\n",
        "      start=h[char]+1\n",
        "    else:\n",
        "      maxlen = max(maxlen, index-start+1)\n",
        "    h[char]= index\n",
        "\n",
        "  return maxlen"
      ],
      "execution_count": null,
      "outputs": []
    },
    {
      "cell_type": "markdown",
      "metadata": {
        "id": "pSpi-vf7BImE"
      },
      "source": [
        "##48: Rotate Image\n",
        "\n",
        "You are given an n x n 2D matrix representing an image, rotate the image by 90 degrees (clockwise).\n",
        "\n",
        "You have to rotate the image in-place, which means you have to modify the input 2D matrix directly. DO NOT allocate another 2D matrix and do the rotation."
      ]
    },
    {
      "cell_type": "code",
      "metadata": {
        "id": "BahMdSW-RYmq"
      },
      "source": [
        "class Solution:\n",
        "  def rotateimage(self,n):\n",
        "    n.reverse()\n",
        "\n",
        "    for i in range(len(n)):\n",
        "      for j in range(i):\n",
        "        n[i][j],n[j][i] = n[j][i],n[i][j]\n",
        "\n",
        "\n",
        "    return n\n",
        "\n",
        "\n",
        "  def antirotate(self,n):\n",
        "    for i in range(len(n)):\n",
        "      for j in range(i):\n",
        "        n[i][j],n[j][i] = n[j][i],n[i][j]\n",
        "\n",
        "    n.reverse()\n",
        "\n",
        "    return n\n",
        "\n"
      ],
      "execution_count": null,
      "outputs": []
    },
    {
      "cell_type": "code",
      "metadata": {
        "id": "CpNSPOyaBjT4"
      },
      "source": [
        "a= Solution()"
      ],
      "execution_count": null,
      "outputs": []
    },
    {
      "cell_type": "code",
      "metadata": {
        "id": "IdFOw-VcBmCx",
        "colab": {
          "base_uri": "https://localhost:8080/"
        },
        "outputId": "6a15a540-96f8-40d2-a6be-5838715e26bf"
      },
      "source": [
        "print(a.rotateimage([[1,2,3],[4,5,6],[7,8,9]]))"
      ],
      "execution_count": null,
      "outputs": [
        {
          "output_type": "stream",
          "text": [
            "[[7, 4, 1], [8, 5, 2], [9, 6, 3]]\n"
          ],
          "name": "stdout"
        }
      ]
    },
    {
      "cell_type": "code",
      "metadata": {
        "id": "0hsYJxdmBs41",
        "colab": {
          "base_uri": "https://localhost:8080/"
        },
        "outputId": "3c64c624-964c-4cdf-f241-85a05db76790"
      },
      "source": [
        "a.antirotate([[7, 4, 1], [8, 5, 2], [9, 6, 3]])"
      ],
      "execution_count": null,
      "outputs": [
        {
          "output_type": "execute_result",
          "data": {
            "text/plain": [
              "[[1, 2, 3], [4, 5, 6], [7, 8, 9]]"
            ]
          },
          "metadata": {
            "tags": []
          },
          "execution_count": 16
        }
      ]
    },
    {
      "cell_type": "markdown",
      "metadata": {
        "id": "wBIQ7muBOwhO"
      },
      "source": [
        "##19: Remove Nth Node From End of List\n",
        "Given the head of a linked list, remove the nth node from the end of the list and return its head.\n",
        "\n",
        "Follow up: Could you do this in one pass?"
      ]
    },
    {
      "cell_type": "code",
      "metadata": {
        "id": "WlQ1b9JUCKwf"
      },
      "source": [
        "# Definition for singly-linked list.\n",
        "class ListNode:\n",
        "     def __init__(self, val=0, next=None):\n",
        "         self.val = val\n",
        "         self.next = next\n",
        "class Solution:\n",
        "    def removeNthFromEnd(self, head: ListNode, n: int) -> ListNode:\n",
        "        right, left = head,head # start at the same node, two pointers\n",
        "        \n",
        "        for i in range(n):         #move this pointer ahead by \n",
        "            right = right.next\n",
        "            \n",
        "        if not right:            #this is in case of removing the head\n",
        "            return head.next\n",
        "        \n",
        "        while right.next:\n",
        "            left = left.next\n",
        "            right = right.next\n",
        "            \n",
        "        left.next = left.next.next\n",
        "      \n",
        "        return head"
      ],
      "execution_count": null,
      "outputs": []
    },
    {
      "cell_type": "markdown",
      "metadata": {
        "id": "8yX3hug6c9ST"
      },
      "source": [
        "## Find three largest numbers"
      ]
    },
    {
      "cell_type": "code",
      "metadata": {
        "id": "-q6IuTfRO6w3"
      },
      "source": [
        "def findThreeLargestNumbers(array):\n",
        "  l = [None]*3\n",
        "  for i in range(len(array)):\n",
        "    if l[2] is None or array[i] > l[2]:\n",
        "      shiftup(l,array[i],2)\n",
        "    elif l[1] is None or array[i] > l[1]:\n",
        "      shiftup(l,array[i],1)\n",
        "    elif l[0] is None or array[i] > l[0]:\n",
        "      shiftup(l,array[i],0)\n",
        "    \n",
        "  return l\n",
        "\t\t\t\n",
        "def shiftup(array,num,idx):\n",
        "\tfor i in range(idx+1):\n",
        "\t\tif i == idx:\n",
        "\t\t\tarray[i] = num\n",
        "\t\telse:\n",
        "\t\t\tarray[i] = array[i+1]"
      ],
      "execution_count": null,
      "outputs": []
    },
    {
      "cell_type": "code",
      "metadata": {
        "id": "KfzsfOHbdDZy",
        "colab": {
          "base_uri": "https://localhost:8080/"
        },
        "outputId": "6374c486-6d4b-4dc5-c406-65b894e1434b"
      },
      "source": [
        "findThreeLargestNumbers([141, 1, 17, -7, -17, -27, 18, 541, 8, 7, 7])"
      ],
      "execution_count": null,
      "outputs": [
        {
          "output_type": "execute_result",
          "data": {
            "text/plain": [
              "[18, 141, 541]"
            ]
          },
          "metadata": {
            "tags": []
          },
          "execution_count": 18
        }
      ]
    },
    {
      "cell_type": "markdown",
      "metadata": {
        "id": "7HupuSoI7aor"
      },
      "source": [
        "## 249: Group Shifted Strings\n",
        "Given a string, we can \"shift\" each of its letter to its successive letter, for example: \"abc\" -> \"bcd\". We can keep \"shifting\" which forms the sequence:\n",
        "\n",
        "Tuples are immutable and not supposed to be changed - that is what the list type is for. You could replace each tuple by originalTuple + (newElement,), thus creating a new tuple. For example:"
      ]
    },
    {
      "cell_type": "code",
      "metadata": {
        "id": "JwXhjNSddRsz"
      },
      "source": [
        "import collections\n",
        "class Solution:\n",
        "    def groupStrings(self, strings):\n",
        "        groups = collections.defaultdict(list)\n",
        "        \n",
        "        for s in strings:\n",
        "            pattern = ()\n",
        "            for i in range(1,len(s)):\n",
        "                pattern += ((ord(s[i]) - ord(s[i-1]) + 26 ) % 26,)\n",
        "      \n",
        "            groups[ pattern ].append(s)\n",
        "        \n",
        "        return groups.values()"
      ],
      "execution_count": null,
      "outputs": []
    },
    {
      "cell_type": "code",
      "metadata": {
        "id": "_qlqSKtOYkke"
      },
      "source": [
        "a=Solution()"
      ],
      "execution_count": null,
      "outputs": []
    },
    {
      "cell_type": "code",
      "metadata": {
        "id": "IDL8cqjWYlte",
        "colab": {
          "base_uri": "https://localhost:8080/"
        },
        "outputId": "3f085ffd-122b-413b-d343-12382ed7a69f"
      },
      "source": [
        "a.groupStrings([\"abc\",\"bcd\",\"acef\",\"xyz\",\"az\",\"ba\",\"a\",\"z\"])"
      ],
      "execution_count": null,
      "outputs": [
        {
          "output_type": "execute_result",
          "data": {
            "text/plain": [
              "dict_values([['abc', 'bcd', 'xyz'], ['acef'], ['az', 'ba'], ['a', 'z']])"
            ]
          },
          "metadata": {
            "tags": []
          },
          "execution_count": 16
        }
      ]
    },
    {
      "cell_type": "markdown",
      "metadata": {
        "id": "Tz0p_Yr0YE-b"
      },
      "source": [
        "## Passing Yearbooks\n",
        "There are n students, numbered from 1 to n, each with their own yearbook. They would like to pass their yearbooks around and get them signed by other students.\n",
        "You're given a list of n integers arr[1..n], which is guaranteed to be a permutation of 1..n (in other words, it includes the integers from 1 to n exactly once each, in some order). The meaning of this list is described below."
      ]
    },
    {
      "cell_type": "code",
      "metadata": {
        "id": "P7kh2TyqOKKm"
      },
      "source": [
        "def findSignatureCounts(arr):\n",
        "  # Write your code here\n",
        "  output=[]\n",
        "  for i,x in enumerate(arr,1):\n",
        "    next = arr[x-1]\n",
        "    count = 0\n",
        "    while arr[next-1] != i:\n",
        "        count += 1\n",
        "        next = arr[next-1]\n",
        "        print(i, x, next, count)\n",
        "    output.append(count + 1)\n",
        "    \n",
        "  return output\n",
        "  "
      ],
      "execution_count": null,
      "outputs": []
    },
    {
      "cell_type": "markdown",
      "metadata": {
        "id": "eIdedNIeeYPO"
      },
      "source": [
        "## Revenue Milestones\n",
        "We keep track of the revenue Facebook makes every day, and we want to know on what days Facebook hits certain revenue milestones. Given an array of the revenue on each day, and an array of milestones Facebook wants to reach, return an array containing the days on which Facebook reached every milestone.\n",
        "Signature\n",
        "int[] getMilestoneDays(int[] revenues, int[] milestones)\n",
        "Input\n",
        "revenues is a length-N array representing how much revenue FB made on each day (from day 1 to day N). milestones is a length-K array of total revenue milestones.\n",
        "Output\n",
        "Return a length-K array where K_i is the day on which FB first had milestones[i] total revenue. If the milestone is never met, return -1.\n",
        "Example\n",
        "revenues = [10, 20, 30, 40, 50, 60, 70, 80, 90, 100]\n",
        "milestones = [100, 200, 500]\n",
        "output = [4, 6, 10]"
      ]
    },
    {
      "cell_type": "code",
      "metadata": {
        "id": "dhxg6BRCeXeE"
      },
      "source": [
        "\n",
        "def getMilestoneDays(revenues, milestones):\n",
        "  # Write your code here\n",
        "  sumt = 0\n",
        "  l = []\n",
        "  k = 0\n",
        "  h ={}\n",
        "  \n",
        "\n",
        "\n",
        "  m = sorted(milestones)\n",
        "\n",
        "  \n",
        "  for i in range(len(revenues)):\n",
        "    sumt += revenues[i]\n",
        "\n",
        "    while k < len(milestones) and sumt >= m[k]:\n",
        "      h[m[k]] = i+1\n",
        "      k += 1\n",
        "    \n",
        "  for j in milestones:\n",
        "    l.append(h[j])\n",
        "\n",
        "      \n",
        "  return l"
      ],
      "execution_count": null,
      "outputs": []
    },
    {
      "cell_type": "markdown",
      "metadata": {
        "id": "r_XOJk3ln_wb"
      },
      "source": [
        "##1 Billion Users\n",
        "We have N different apps with different user growth rates. At a given time t, measured in days, the number of users using an app is g^t (for simplicity we'll allow fractional users), where g is the growth rate for that app. These apps will all be launched at the same time and no user ever uses more than one of the apps. We want to know how many total users there are when you add together the number of users from each app.\n",
        "After how many full days will we have 1 billion total users across the N apps?\n",
        "\n",
        "Signature\n",
        "int getBillionUsersDay(float[] growthRates)\n",
        "Input\n",
        "1.0 < growthRate < 2.0 for all growth rates\n",
        "1 <= N <= 1,000\n",
        "\n",
        "Output\n",
        "Return the number of full days it will take before we have a total of 1 billion users across all N apps.\n",
        "\n",
        "Example 1\n",
        "\n",
        "growthRates = [1.5]\n",
        "\n",
        "output = 52"
      ]
    },
    {
      "cell_type": "code",
      "metadata": {
        "id": "G8BfeKNmn-xx"
      },
      "source": [
        "import math\n",
        "# Add any extra import statements you may need here\n",
        "\n",
        "\n",
        "# Add any helper functions you may need here\n",
        "\n",
        "\n",
        "def getBillionUsersDay(growthRates):\n",
        "  # Write your code here\n",
        "  start = math.ceil(math.log10((10**9) / len(growthRates)) / math.log10(max(growthRates)))\n",
        "  end = math.ceil(math.log10((10**9) / len(growthRates)) / math.log10(min(growthRates)))\n",
        "  b = 10**9\n",
        "  print(start,end)\n",
        "  while start < end:\n",
        "      mid = (start + end) // 2\n",
        "      gr_1 = sum([i ** mid for i in growthRates])\n",
        "      gr_2 = sum([i ** (mid + 1) for i in growthRates])\n",
        "      if gr_1 < b and gr_2 > b:\n",
        "          return mid + 1\n",
        "      elif gr_1 < b:\n",
        "          start = mid\n",
        "      else:\n",
        "          end = mid - 1\n",
        "\n",
        "\n",
        "\n"
      ],
      "execution_count": null,
      "outputs": []
    },
    {
      "cell_type": "code",
      "metadata": {
        "colab": {
          "base_uri": "https://localhost:8080/"
        },
        "id": "NJXHe5iyn_M4",
        "outputId": "85552fc6-f509-4948-8768-2ad3786dd536"
      },
      "source": [
        "test_1 = [1.1, 1.2, 1.3]\n",
        "expected_1 = 79\n",
        "output_1 = getBillionUsersDay(test_1)\n",
        "print(output_1)"
      ],
      "execution_count": null,
      "outputs": [
        {
          "output_type": "stream",
          "text": [
            "75 206\n",
            "79\n"
          ],
          "name": "stdout"
        }
      ]
    },
    {
      "cell_type": "markdown",
      "metadata": {
        "id": "KrDYw8LOYOuM"
      },
      "source": [
        "## 560: Subarray Sum Equals K\n",
        "Given an array of integers nums and an integer k, return the total number of continuous subarrays whose sum equals to k.\n",
        "\n",
        " \n",
        "\n",
        "Example 1:\n",
        "\n",
        "Input: nums = [1,1,1], k = 2\n",
        "Output: 2"
      ]
    },
    {
      "cell_type": "code",
      "metadata": {
        "id": "VSoDF3INo3WN"
      },
      "source": [
        "class Solution:\n",
        "    def subarraySum(self, nums: List[int], k: int) -> int:\n",
        "        # store the count of each sum in dictionary so we can check for specific values in O(1)\n",
        "        sum_count = defaultdict(int)\n",
        "        # initialize counter and sum\n",
        "        count = 0\n",
        "        current_sum = 0\n",
        "        # loop over numbers in list\n",
        "        for num in nums:\n",
        "            # calculate sum until current number\n",
        "            current_sum += num\n",
        "            # check if we have seen a number x that could be subtracted from the current value to result in k\n",
        "            # k = current_sum - x  --( x -k)-->  x = current_Sum - k\n",
        "            # add number of occurrences of x to counter, or 0 if no such sum exists\n",
        "            count += sum_count[current_sum - k]\n",
        "            # update sum counter\n",
        "            sum_count[current_sum] += 1\n",
        "        # check if any of the sums from the first to any other position in the list match k\n",
        "        count += sum_count[k]\n",
        "        # return count value\n",
        "        return count"
      ],
      "execution_count": null,
      "outputs": []
    },
    {
      "cell_type": "markdown",
      "metadata": {
        "id": "MPXnSNm4QgJe"
      },
      "source": [
        "## 285: Inorder Successor in BST\n",
        "\n",
        "Only in a balanced BST O(h) = O(log n). In the worst case h can be as large as n.\n",
        "\n"
      ]
    },
    {
      "cell_type": "code",
      "metadata": {
        "id": "U02OVl4ZQcbT"
      },
      "source": [
        "# Definition for a binary tree node.\n",
        "# class TreeNode:\n",
        "#     def __init__(self, x):\n",
        "#         self.val = x\n",
        "#         self.left = None\n",
        "#         self.right = None\n",
        "\n",
        "class Solution:\n",
        "    def inorderSuccessor(self, node: 'TreeNode', p: 'TreeNode') -> 'TreeNode':\n",
        "        succ = None\n",
        "        while node:\n",
        "            if node.val > p.val:\n",
        "                succ = node\n",
        "                node = node.left\n",
        "                \n",
        "            else:\n",
        "                \n",
        "                node = node.right\n",
        "                \n",
        "        return succ\n",
        "                "
      ],
      "execution_count": null,
      "outputs": []
    },
    {
      "cell_type": "markdown",
      "metadata": {
        "id": "PAeS6Spia0V-"
      },
      "source": [
        "##98: Validate Binary Search Tree\n",
        "\n",
        "Given the root of a binary tree, determine if it is a valid binary search tree (BST).\n",
        "\n",
        "A valid BST is defined as follows:\n",
        "\n",
        "The left subtree of a node contains only nodes with keys less than the node's key.\n",
        "The right subtree of a node contains only nodes with keys greater than the node's key.\n",
        "Both the left and right subtrees must also be binary search trees."
      ]
    },
    {
      "cell_type": "code",
      "metadata": {
        "id": "MKJ_2msqatLH"
      },
      "source": [
        "# Definition for a binary tree node.\n",
        "# class TreeNode:\n",
        "#     def __init__(self, val=0, left=None, right=None):\n",
        "#         self.val = val\n",
        "#         self.left = left\n",
        "#         self.right = right\n",
        "class Solution:\n",
        "    def isValidBST(self, root: TreeNode,lo=float('-inf'), hi=float('inf')) -> bool:\n",
        "      if not root:\n",
        "        return True\n",
        "\n",
        "      if not li < root.val < hi:\n",
        "        return False\n",
        "\n",
        "      return self.isValidBST(root.left,lo,root.val) and self.isValidBST(root.right,root.val,hi)"
      ],
      "execution_count": null,
      "outputs": []
    }
  ]
}